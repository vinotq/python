{
 "cells": [
  {
   "cell_type": "markdown",
   "metadata": {},
   "source": [
    "# **Lection #12**\n",
    "\n",
    "### **Theme**: Деревья. Почти конец\n",
    "\n",
    "##### **Date**: 30.11.24\n"
   ]
  },
  {
   "cell_type": "markdown",
   "metadata": {},
   "source": [
    "# **Treap. Декартово дерево** (КуРево)\n",
    "\n",
    "- объединение BST и бинарной кучи\n",
    "- дерево на координатной плоскости\n",
    "- `spilt` для декартового дерева делит его по ключу, разделяя на 2 дерево\n",
    "- `merge` обратная операция `split`\n"
   ]
  }
 ],
 "metadata": {
  "kernelspec": {
   "display_name": "Python 3",
   "language": "python",
   "name": "python3"
  },
  "language_info": {
   "codemirror_mode": {
    "name": "ipython",
    "version": 3
   },
   "file_extension": ".py",
   "mimetype": "text/x-python",
   "name": "python",
   "nbconvert_exporter": "python",
   "pygments_lexer": "ipython3",
   "version": "3.12.7"
  }
 },
 "nbformat": 4,
 "nbformat_minor": 2
}
