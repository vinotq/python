{
 "cells": [
  {
   "cell_type": "markdown",
   "metadata": {},
   "source": [
    "# **Practice**  \n",
    "##### 13.11.24"
   ]
  },
  {
   "cell_type": "markdown",
   "metadata": {},
   "source": [
    "### **Тема**: \n"
   ]
  },
  {
   "cell_type": "code",
   "execution_count": null,
   "metadata": {},
   "outputs": [],
   "source": [
    "def sum_dig_pow(a, b): # range(a, b + 1) will be studied by the function\n",
    "    res = []\n",
    "\n",
    "    for num in range(a, b + 1):\n",
    "        sum = 0\n",
    "        for i in range(len(str(num))):\n",
    "            sum += int(str(num)[i]) ** (i + 1)\n",
    "        if sum == num:\n",
    "            res.append(num)\n",
    "\n",
    "    return res"
   ]
  },
  {
   "cell_type": "code",
   "execution_count": null,
   "metadata": {},
   "outputs": [],
   "source": [
    "def longest_consec(strarr, k):\n",
    "    if k <= 0:\n",
    "        return \"\"\n",
    "\n",
    "    max_ = 0\n",
    "    max_wrd = \"\"\n",
    "\n",
    "    for i in range(len(strarr) - k + 1):\n",
    "        wrd = \"\".join(strarr[i:i + k])\n",
    "        if len(wrd) > max_:\n",
    "            max_ = len(wrd)\n",
    "            max_wrd = wrd\n",
    "\n",
    "    return max_wrd"
   ]
  },
  {
   "cell_type": "code",
   "execution_count": null,
   "metadata": {},
   "outputs": [],
   "source": [
    "def find_missing_letter(chars):\n",
    "    for i in range(len(chars)):\n",
    "        if ord(chars[i+1]) - ord(chars[i]) != 1:\n",
    "            return chr(ord(chars[i]) + 1)\n"
   ]
  },
  {
   "cell_type": "code",
   "execution_count": null,
   "metadata": {},
   "outputs": [
    {
     "data": {
      "text/plain": [
       "'70000 + 3000 + 400'"
      ]
     },
     "execution_count": 10,
     "metadata": {},
     "output_type": "execute_result"
    }
   ],
   "source": [
    "def expanded_form(num):\n",
    "    res = \"\"\n",
    "    n = len(str(num))\n",
    "\n",
    "    for nm in str(num):\n",
    "        if nm != \"0\":\n",
    "            if res == \"\":\n",
    "                res += nm + \"0\" * (n - 1)\n",
    "            else:\n",
    "                res += \" + \" + nm + \"0\" * (n - 1)\n",
    "            n -= 1\n",
    "        else:\n",
    "            n -= 1\n",
    "\n",
    "    return res\n",
    "\n",
    "expanded_form(70304)"
   ]
  },
  {
   "cell_type": "code",
   "execution_count": null,
   "metadata": {},
   "outputs": [],
   "source": [
    "def save_chickens(cages: list[int], nth: int, save: int) -> list[int]:\n",
    "    vis = [0] * len(cages)\n",
    "    i = nth - 1\n",
    "\n",
    "    while vis.count(0) != save:\n",
    "        vis[i] = 1"
   ]
  }
 ],
 "metadata": {
  "kernelspec": {
   "display_name": "Python 3",
   "language": "python",
   "name": "python3"
  },
  "language_info": {
   "codemirror_mode": {
    "name": "ipython",
    "version": 3
   },
   "file_extension": ".py",
   "mimetype": "text/x-python",
   "name": "python",
   "nbconvert_exporter": "python",
   "pygments_lexer": "ipython3",
   "version": "3.12.3"
  }
 },
 "nbformat": 4,
 "nbformat_minor": 2
}
