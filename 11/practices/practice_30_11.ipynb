{
 "cells": [
  {
   "cell_type": "markdown",
   "metadata": {},
   "source": [
    "# **Practice**  \n",
    "##### 30.11.24"
   ]
  },
  {
   "cell_type": "markdown",
   "metadata": {},
   "source": [
    "### **Тема**: ПоЖеЛаНиЯ\n"
   ]
  },
  {
   "cell_type": "code",
   "execution_count": null,
   "metadata": {},
   "outputs": [],
   "source": [
    "def triple_double(num1, num2):\n",
    "    return max([str(i)+str(i)+str(i) in str(num1) and str(i)+str(i) in str(num2) for i in range(10)])"
   ]
  },
  {
   "cell_type": "code",
   "execution_count": null,
   "metadata": {},
   "outputs": [],
   "source": [
    "def get_length_of_missing_array(array_of_arrays):\n",
    "    if not array_of_arrays:\n",
    "        return 0\n",
    "    if any(not arr for arr in array_of_arrays):\n",
    "        return 0\n",
    "\n",
    "    array_of_arrays.sort(key=lambda x: len(x))\n",
    "    for i in range(1, len(array_of_arrays)):\n",
    "        if len(array_of_arrays[i]) != len(array_of_arrays[i-1]) + 1:\n",
    "            return len(array_of_arrays[i-1]) + 1\n",
    "    return 0"
   ]
  },
  {
   "cell_type": "code",
   "execution_count": null,
   "metadata": {},
   "outputs": [],
   "source": [
    "def remov_nb(n):\n",
    "    _sum = (1 + n) * n // 2\n",
    "    res = []\n",
    "    for a in range(1, n):\n",
    "        b = (_sum - a) / (a + 1)\n",
    "        if b == int(b) and b <= n:\n",
    "            res.append((a, int(b)))\n",
    "    return res"
   ]
  }
 ],
 "metadata": {
  "kernelspec": {
   "display_name": "Python 3",
   "language": "python",
   "name": "python3"
  },
  "language_info": {
   "codemirror_mode": {
    "name": "ipython",
    "version": 3
   },
   "file_extension": ".py",
   "mimetype": "text/x-python",
   "name": "python",
   "nbconvert_exporter": "python",
   "pygments_lexer": "ipython3",
   "version": "3.12.7"
  }
 },
 "nbformat": 4,
 "nbformat_minor": 2
}
