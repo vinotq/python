{
 "cells": [
  {
   "cell_type": "markdown",
   "metadata": {},
   "source": [
    "# **Practice**:\n",
    "### **Theme**: \n",
    "##### **Date**: 12.11.24"
   ]
  },
  {
   "cell_type": "code",
   "execution_count": 1,
   "metadata": {},
   "outputs": [],
   "source": [
    "from typing import List"
   ]
  },
  {
   "cell_type": "code",
   "execution_count": null,
   "metadata": {},
   "outputs": [],
   "source": [
    "def printGraph(self, V : int, edges : List[List[int]]) -> List[List[int]]:\n",
    "    graph = [[] for _ in range(V)]\n",
    "    for u, v in edges:\n",
    "        graph[u].append(v)\n",
    "        graph[v].append(u)\n",
    "    return graph"
   ]
  },
  {
   "cell_type": "code",
   "execution_count": null,
   "metadata": {},
   "outputs": [],
   "source": [
    "def dfsOfGraph(self, adj):\n",
    "    vis = [0] * len(adj)\n",
    "    res = []\n",
    "\n",
    "    def dfs(u):\n",
    "        vis[u] = 1\n",
    "        res.append(u)\n",
    "        for v in adj[u]:\n",
    "            if not vis[v]:\n",
    "                dfs(v)\n",
    "\n",
    "    for i in range(len(adj)):\n",
    "        if not vis[i]:\n",
    "            dfs(i)\n",
    "    return res\n"
   ]
  },
  {
   "cell_type": "code",
   "execution_count": null,
   "metadata": {},
   "outputs": [],
   "source": [
    "def minimumStep (self, n):\n",
    "    res = 0\n",
    "    while n > 0:\n",
    "        if n % 3 == 0:\n",
    "            res += 1\n",
    "            n /= 3\n",
    "        else:\n",
    "            res += 1\n",
    "            n -= 1\n",
    "\n",
    "    return res - 1"
   ]
  },
  {
   "cell_type": "code",
   "execution_count": null,
   "metadata": {},
   "outputs": [],
   "source": [
    "def find(self,a,par):\n",
    "    if par[a] != a:\n",
    "        par[a] = self.find(par[a],par)\n",
    "    return par[a]\n",
    "\n",
    "def union_(self,a,b,par,rank1):\n",
    "    x = self.find(a,par)\n",
    "    y = self.find(b,par)\n",
    "    if rank1[x] < rank1[y]:\n",
    "        par[x] = y\n",
    "    elif rank1[x] > rank1[y]:\n",
    "        par[y] = x\n",
    "    else:\n",
    "        par[y] = x\n",
    "        rank1[x] += 1\n",
    "\n",
    "def isConnected(self,x,y,par,rank1):\n",
    "    return self.find(x,par) == self.find(y,par)\n"
   ]
  }
 ],
 "metadata": {
  "kernelspec": {
   "display_name": "Python 3",
   "language": "python",
   "name": "python3"
  },
  "language_info": {
   "codemirror_mode": {
    "name": "ipython",
    "version": 3
   },
   "file_extension": ".py",
   "mimetype": "text/x-python",
   "name": "python",
   "nbconvert_exporter": "python",
   "pygments_lexer": "ipython3",
   "version": "3.12.3"
  }
 },
 "nbformat": 4,
 "nbformat_minor": 2
}
