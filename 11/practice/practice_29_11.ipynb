{
 "cells": [
  {
   "cell_type": "markdown",
   "metadata": {},
   "source": [
    "# **Practice #n + 8**  \n",
    "##### 29.11.24\n"
   ]
  },
  {
   "cell_type": "markdown",
   "metadata": {},
   "source": [
    "### **Тема**: Патерны\n",
    "\n"
   ]
  },
  {
   "cell_type": "markdown",
   "metadata": {},
   "source": [
    "## **State (slassic)**\n"
   ]
  },
  {
   "cell_type": "code",
   "execution_count": 10,
   "metadata": {},
   "outputs": [
    {
     "name": "stdout",
     "output_type": "stream",
     "text": [
      "Switching on...\n",
      "Already on\n",
      "Switching off...\n",
      "Already off\n",
      "Switching on...\n"
     ]
    }
   ],
   "source": [
    "from __future__ import annotations\n",
    "\n",
    "\n",
    "class State:\n",
    "    def __init__(self, context):\n",
    "        self.context = context\n",
    "\n",
    "    def switchOn(self):\n",
    "        pass\n",
    "\n",
    "    def switchOff(self):\n",
    "        pass\n",
    "\n",
    "\n",
    "class OnState(State):\n",
    "    def switchOn(self):\n",
    "        print(\"Already on\")\n",
    "\n",
    "    def switchOff(self):\n",
    "        print(\"Switching off...\")\n",
    "        self.context.setState(OffState(self.context))\n",
    "\n",
    "\n",
    "class OffState(State):\n",
    "    def switchOn(self):\n",
    "        print(\"Switching on...\")\n",
    "        self.context.setState(OnState(self.context))\n",
    "\n",
    "    def switchOff(self):\n",
    "        print(\"Already off\")\n",
    "\n",
    "\n",
    "class LightSwitch:  # contexto\n",
    "    def __init__(self):\n",
    "        self.state = OffState(self)\n",
    "\n",
    "    def setState(self, new_state):\n",
    "        self.state = new_state\n",
    "\n",
    "    def switchOn(self):\n",
    "        self.state.switchOn()\n",
    "\n",
    "    def switchOff(self):\n",
    "        self.state.switchOff()\n",
    "\n",
    "\n",
    "ls = LightSwitch()\n",
    "ls.switchOn()\n",
    "ls.switchOn()\n",
    "ls.switchOff()\n",
    "ls.switchOff()\n",
    "ls.switchOn()"
   ]
  },
  {
   "cell_type": "markdown",
   "metadata": {},
   "source": [
    "## **State (Finite State Machine)**\n"
   ]
  },
  {
   "cell_type": "code",
   "execution_count": null,
   "metadata": {},
   "outputs": [],
   "source": [
    "from enum import Enum, auto\n",
    "\n",
    "class State(Enum):\n",
    "    LOCKED = auto()\n",
    "    FAILED = auto()\n",
    "    UNLOCKED = auto()\n",
    "\n",
    "code = \"3248\"\n",
    "state = State.LOCKED\n",
    "entry = \"\"\n",
    "\n",
    "while True:\n",
    "    if state == State.LOCKED:\n",
    "        entry = input(entry)\n",
    "\n",
    "        if entry == code:\n",
    "            state = State.UNLOCKED\n",
    "\n",
    "        if not code.startswith(entry):\n",
    "            state = State.FAILED\n",
    "\n",
    "    elif state == State.FAILED:\n",
    "        print(\"\\nTry again!\")\n",
    "        entry = \"\"\n",
    "        state = State.LOCKED\n",
    "\n",
    "    elif state == State.UNLOCKED:\n",
    "        print(\"\\nUnlocked!\")\n",
    "        break\n",
    "\n"
   ]
  },
  {
   "cell_type": "markdown",
   "metadata": {},
   "source": [
    "## **Finite State Machine**\n"
   ]
  },
  {
   "cell_type": "code",
   "execution_count": null,
   "metadata": {},
   "outputs": [],
   "source": [
    "from enum import Enum, auto\n",
    "\n",
    "class State(Enum):\n",
    "    OFF_HOOK = auto()\n",
    "    CONNECTING = auto()\n",
    "    CONNECTED = auto()\n",
    "    ON_HOLD = auto()\n",
    "    ON_HOOK = auto()\n",
    "\n",
    "class Trigger(Enum):\n",
    "    CALL_DIALED = auto()\n",
    "    HUNG_UP = auto()\n",
    "    CALL_CONNECTED = auto()\n",
    "    PLACE_ON_HOLD = auto()\n",
    "    TAKE_OFF_HOLD = auto()\n",
    "    LEFT_MESSAGE = auto()\n",
    "\n",
    "rules = {\n",
    "    State.OFF_HOOK: [\n",
    "        (Trigger.CALL_DIALED, State.CONNECTING),\n",
    "    ],\n",
    "    State.CONNECTING: [\n",
    "        (Trigger.HUNG_UP, State.ON_HOOK),\n",
    "        (Trigger.CALL_CONNECTED, State.CONNECTED),\n",
    "    ],\n",
    "    State.CONNECTED: [\n",
    "        (Trigger.TAKE_OFF_HOLD, State.ON_HOOK),\n",
    "        (Trigger.LEFT_MESSAGE, State.ON_HOOK),\n",
    "        (Trigger.PLACE_ON_HOLD, State.ON_HOLD),\n",
    "    ],\n",
    "    State.ON_HOLD: [\n",
    "        (Trigger.HUNG_UP, State.ON_HOOK),\n",
    "        (Trigger.TAKE_OFF_HOLD, State.CONNECTED),\n",
    "    ],\n",
    "}\n",
    "\n",
    "state = State.OFF_HOOK\n",
    "exit_state = State.ON_HOOK\n",
    "\n",
    "while state != exit_state:\n",
    "    print(f\"The phone is now in the {state.name} state\")\n",
    "\n",
    "    for i in range(len(rules[state])):\n",
    "        t = rules[state][i][0]\n",
    "        print(f\"{i}: {t}\")\n",
    "\n",
    "    new_state = int(input(\"Enter a number: \"))\n",
    "    state = rules[state][new_state][1]\n"
   ]
  }
 ],
 "metadata": {
  "kernelspec": {
   "display_name": "Python 3",
   "language": "python",
   "name": "python3"
  },
  "language_info": {
   "codemirror_mode": {
    "name": "ipython",
    "version": 3
   },
   "file_extension": ".py",
   "mimetype": "text/x-python",
   "name": "python",
   "nbconvert_exporter": "python",
   "pygments_lexer": "ipython3",
   "version": "3.12.7"
  }
 },
 "nbformat": 4,
 "nbformat_minor": 2
}
