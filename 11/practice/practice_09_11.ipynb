{
 "cells": [
  {
   "cell_type": "markdown",
   "metadata": {},
   "source": [
    "# **Practice**:\n",
    "### **Theme**: \n",
    "##### **Date**: 09.11.24"
   ]
  },
  {
   "cell_type": "code",
   "execution_count": 2,
   "metadata": {},
   "outputs": [
    {
     "ename": "AttributeError",
     "evalue": "'str_ascii_iterator' object has no attribute 'split'",
     "output_type": "error",
     "traceback": [
      "\u001b[0;31m---------------------------------------------------------------------------\u001b[0m",
      "\u001b[0;31mAttributeError\u001b[0m                            Traceback (most recent call last)",
      "Cell \u001b[0;32mIn[2], line 8\u001b[0m\n\u001b[1;32m      1\u001b[0m in_ \u001b[38;5;241m=\u001b[39m \u001b[38;5;28;43miter\u001b[39;49m\u001b[43m(\u001b[49m\u001b[38;5;124;43m\"\"\"\u001b[39;49m\u001b[38;5;124;43m5 7\u001b[39;49m\n\u001b[1;32m      2\u001b[0m \u001b[38;5;124;43m1 2 3\u001b[39;49m\n\u001b[1;32m      3\u001b[0m \u001b[38;5;124;43m1 3 1\u001b[39;49m\n\u001b[1;32m      4\u001b[0m \u001b[38;5;124;43m1 4 5\u001b[39;49m\n\u001b[1;32m      5\u001b[0m \u001b[38;5;124;43m2 3 2\u001b[39;49m\n\u001b[1;32m      6\u001b[0m \u001b[38;5;124;43m2 5 3\u001b[39;49m\n\u001b[1;32m      7\u001b[0m \u001b[38;5;124;43m3 4 2\u001b[39;49m\n\u001b[0;32m----> 8\u001b[0m \u001b[38;5;124;43m4 5 4\u001b[39;49m\u001b[38;5;124;43m\"\"\"\u001b[39;49m\u001b[43m)\u001b[49m\u001b[38;5;241;43m.\u001b[39;49m\u001b[43msplit\u001b[49m(\u001b[38;5;124m\"\u001b[39m\u001b[38;5;130;01m\\n\u001b[39;00m\u001b[38;5;124m\"\u001b[39m)\n\u001b[1;32m     10\u001b[0m \u001b[38;5;28;01mdef\u001b[39;00m \u001b[38;5;21minput\u001b[39m():\n\u001b[1;32m     11\u001b[0m     \u001b[38;5;28;01mreturn\u001b[39;00m \u001b[38;5;28mnext\u001b[39m(in_)\n",
      "\u001b[0;31mAttributeError\u001b[0m: 'str_ascii_iterator' object has no attribute 'split'"
     ]
    }
   ],
   "source": [
    "in_ = iter(\"\"\"5 7\n",
    "1 2 3\n",
    "1 3 1\n",
    "1 4 5\n",
    "2 3 2\n",
    "2 5 3\n",
    "3 4 2\n",
    "4 5 4\"\"\").split(\"\\n\")\n",
    "\n",
    "def input():\n",
    "    return next(in_)\n"
   ]
  },
  {
   "cell_type": "code",
   "execution_count": null,
   "metadata": {},
   "outputs": [
    {
     "name": "stdout",
     "output_type": "stream",
     "text": [
      "9\n",
      "8\n",
      "11\n",
      "8\n",
      "8\n",
      "8\n",
      "9\n"
     ]
    },
    {
     "data": {
      "text/plain": [
       "15"
      ]
     },
     "execution_count": 3,
     "metadata": {},
     "output_type": "execute_result"
    }
   ],
   "source": [
    "import sys\n",
    "\n",
    "in_ = iter(\"\"\"5 7\n",
    "1 2 3\n",
    "1 3 1\n",
    "1 4 5\n",
    "2 3 2\n",
    "2 5 3\n",
    "3 4 2\n",
    "4 5 4\"\"\".split(\"\\n\"))\n",
    "\n",
    "def input():\n",
    "    return next(in_)\n",
    "\n",
    "n, m = map(int, input().split())\n",
    "edges = []\n",
    "adj = {i:[] for i in range(n)}\n",
    "for _ in range(m):\n",
    "    u, v, w = map(int, input().split())\n",
    "    edges.append((w, u - 1, v - 1))\n",
    "    adj[u].append((v, w))\n",
    "    adj[v].append((u, w))\n",
    "\n",
    "def primas(w1, u1, v1):\n",
    "    keys = {i:float(\"inf\") for i in range(n)}\n",
    "    keys[u1] = 0\n",
    "    keys[v1] = w1\n",
    "\n",
    "    p = [-1] * n\n",
    "    p[v1] = u1\n",
    "\n",
    "    mst = [0] * n\n",
    "    mst[v1] = 1\n",
    "\n",
    "    for _ in range(n):\n",
    "        u = min(range(n), key=lambda x: (mst[x], keys[x]))\n",
    "        mst[u] = 1\n",
    "\n",
    "        for v, w in adj[u]:\n",
    "            if not mst[v] and keys[v] > w:\n",
    "                p[v] = u\n",
    "                keys[v] = w\n",
    "\n",
    "\n",
    "    return sum(keys.values())\n",
    "\n",
    "\n",
    "ans = [0] * m\n",
    "for i, (w, u, v) in enumerate(edges):\n",
    "    if not ans[i]:\n",
    "        sum_w, parent = primas(w, u, v)\n",
    "\n",
    "        \n",
    "sys.stdout.write(\"\\n\".join(ans) + \"\\n\")"
   ]
  }
 ],
 "metadata": {
  "kernelspec": {
   "display_name": "Python 3",
   "language": "python",
   "name": "python3"
  },
  "language_info": {
   "codemirror_mode": {
    "name": "ipython",
    "version": 3
   },
   "file_extension": ".py",
   "mimetype": "text/x-python",
   "name": "python",
   "nbconvert_exporter": "python",
   "pygments_lexer": "ipython3",
   "version": "3.12.3"
  }
 },
 "nbformat": 4,
 "nbformat_minor": 2
}
