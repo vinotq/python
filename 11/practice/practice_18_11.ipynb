{
 "cells": [
  {
   "cell_type": "markdown",
   "metadata": {},
   "source": [
    "# **Practice**:\n",
    "### **Theme**: \n",
    "##### **Date**: 18.11.24"
   ]
  },
  {
   "cell_type": "code",
   "execution_count": null,
   "metadata": {},
   "outputs": [],
   "source": [
    "class Solution:\n",
    "    def postOrder(self, root):\n",
    "        res = []\n",
    "        if root:\n",
    "            res = self.postOrder(root.left)\n",
    "            res += self.postOrder(root.right)\n",
    "            res.append(root.data)\n",
    "        return res\n"
   ]
  },
  {
   "cell_type": "code",
   "execution_count": null,
   "metadata": {},
   "outputs": [],
   "source": [
    "class Solution:\n",
    "    def InOrder(self,root):\n",
    "        res = []\n",
    "        if root:\n",
    "            res = self.InOrder(root.left)\n",
    "            res.append(root.data)\n",
    "            res += self.InOrder(root.right)\n",
    "        return res"
   ]
  },
  {
   "cell_type": "code",
   "execution_count": null,
   "metadata": {},
   "outputs": [],
   "source": [
    "class Solution:\n",
    "    def preorder(self,root):\n",
    "        res = []\n",
    "        if root:\n",
    "            res.append(root.data)\n",
    "            res += self.preorder(root.left)\n",
    "            res += self.preorder(root.right)\n",
    "        return res\n"
   ]
  },
  {
   "cell_type": "code",
   "execution_count": null,
   "metadata": {},
   "outputs": [],
   "source": [
    "class Solution:\n",
    "    def getSize(self, node : Optional['Node']) -> int:\n",
    "        if not node:\n",
    "            return 0\n",
    "        return 1 + self.getSize(node.left) + self.getSize(node.right)\n",
    "\n"
   ]
  },
  {
   "cell_type": "code",
   "execution_count": null,
   "metadata": {},
   "outputs": [],
   "source": [
    "class Solution:\n",
    "    def height(self, root):\n",
    "        if not root:\n",
    "            return 0\n",
    "        return 1 + max(self.height(root.left), self.height(root.right))\n"
   ]
  },
  {
   "cell_type": "code",
   "execution_count": null,
   "metadata": {},
   "outputs": [],
   "source": [
    "class Solution:\n",
    "    def height(self, root):\n",
    "        if not root:\n",
    "            return 0\n",
    "        return 1 + max(self.height(root.left), self.height(root.right))\n",
    "\n",
    "    def isBalanced(self, root):\n",
    "        if not root:\n",
    "            return True\n",
    "\n",
    "        lh = self.height(root.left)\n",
    "        rh = self.height(root.right)\n",
    "\n",
    "        if abs(lh - rh) > 1:\n",
    "            return False\n",
    "\n",
    "        return self.isBalanced(root.left) and self.isBalanced(root.right)\n"
   ]
  },
  {
   "cell_type": "code",
   "execution_count": null,
   "metadata": {},
   "outputs": [],
   "source": [
    "# array to bst\n",
    "# Given a sorted array. Convert it into a Height Balanced Binary Search Tree (BST). Return the root of the BST.\n",
    "class Node:\n",
    "    def __init__(self, val):\n",
    "        self.data = val\n",
    "        self.left = None\n",
    "        self.right = None\n",
    "\n",
    "class Solution:\n",
    "    def sortedArrayToBST(self, nums):\n",
    "        if not nums:\n",
    "            return None\n",
    "\n",
    "        mid = len(nums) // 2\n",
    "        root = Node(nums[mid])\n",
    "\n",
    "        root.left = self.sortedArrayToBST(nums[:mid])\n",
    "        root.right = self.sortedArrayToBST(nums[mid + 1:])\n",
    "\n",
    "\n",
    "        return root"
   ]
  },
  {
   "cell_type": "code",
   "execution_count": null,
   "metadata": {},
   "outputs": [],
   "source": [
    "# Given a Binary Search Tree and a range [low, high]. Find all the numbers in the BST that lie in the given range.\n",
    "# Note: Element greater than or equal to root go to the right side.\n",
    "class Node:\n",
    "    def __init__(self, val):\n",
    "        self.right = None\n",
    "        self.data = val\n",
    "        self.left = None\n",
    "\n",
    "class Solution:\n",
    "    def printNearNodes(self, root, low, high):\n",
    "        if not root:\n",
    "            return []\n",
    "\n",
    "        if root.data < low:\n",
    "            return self.printNearNodes(root.right, low, high)\n",
    "\n",
    "        elif root.data > high:\n",
    "            return self.printNearNodes(root.left, low, high)\n",
    "\n",
    "        else:\n",
    "            return self.printNearNodes(root.left, low, high) + [root.data] + self.printNearNodes(root.right, low, high)"
   ]
  }
 ],
 "metadata": {
  "kernelspec": {
   "display_name": "Python 3",
   "language": "python",
   "name": "python3"
  },
  "language_info": {
   "codemirror_mode": {
    "name": "ipython",
    "version": 3
   },
   "file_extension": ".py",
   "mimetype": "text/x-python",
   "name": "python",
   "nbconvert_exporter": "python",
   "pygments_lexer": "ipython3",
   "version": "3.12.7"
  }
 },
 "nbformat": 4,
 "nbformat_minor": 2
}
