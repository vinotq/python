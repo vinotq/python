{
 "cells": [
  {
   "cell_type": "markdown",
   "metadata": {},
   "source": [
    "# **Practice**:\n",
    "### **Theme**: \n",
    "##### **Date**: 27.11.24"
   ]
  },
  {
   "cell_type": "code",
   "execution_count": null,
   "metadata": {},
   "outputs": [],
   "source": [
    "class Solution:\n",
    "    def isRepresentingBST(self, arr, N):\n",
    "        if sorted(arr) == arr:\n",
    "            return True\n",
    "        return False"
   ]
  },
  {
   "cell_type": "code",
   "execution_count": null,
   "metadata": {},
   "outputs": [],
   "source": [
    "'''\n",
    "class Node:\n",
    "    \"\"\" Class Node \"\"\"\n",
    "    def __init__(self, value):\n",
    "        self.left = None\n",
    "        self.key = value\n",
    "        self.right = None\n",
    "'''\n",
    "\n",
    "class Solution:\n",
    "    def findMaxForN(self, root, n, max_=-1):\n",
    "        if not root:\n",
    "            return max_\n",
    "\n",
    "        if n >= root.key:\n",
    "            max_ = root.key\n",
    "            return self.findMaxForN(root.right, n, max_)\n",
    "        elif n < root.key:\n",
    "            return self.findMaxForN(root.left, n, max_)\n",
    "        return max_"
   ]
  },
  {
   "cell_type": "code",
   "execution_count": null,
   "metadata": {},
   "outputs": [],
   "source": [
    "'''\n",
    "# Node Class:\n",
    "class Node:\n",
    "    def _init_(self,val):\n",
    "        self.data = val\n",
    "        self.left = None\n",
    "        self.right = None\n",
    "        '''\n",
    "class Solution:\n",
    "    def leftLeavesSum(self, root):\n",
    "        if not root:\n",
    "            return  root.data\n",
    "        if root.left and not root.left.left and not root.left.right:\n",
    "            return root.left.data + self.leftLeavesSum(root.right)\n",
    "        return self.leftLeavesSum(root.left) + self.leftLeavesSum(root.right)\n"
   ]
  },
  {
   "cell_type": "code",
   "execution_count": null,
   "metadata": {},
   "outputs": [],
   "source": [
    "class Solution:\n",
    "    def inorder(self,root):\n",
    "        if not root:\n",
    "            return []\n",
    "        return self.inorder(root.left) + [root] + self.inorder(root.right)\n",
    "\n",
    "    def bToDLL(self,root):\n",
    "        a = self.inorder(root)\n",
    "        if len(a) == 1:\n",
    "            return a[0]\n",
    "\n",
    "        a[0].right = a[1]\n",
    "        a[-1].left = a[-2]\n",
    "\n",
    "        for i in range(1, len(a) - 1):\n",
    "            a[i].left = a[i - 1]\n",
    "            a[i].right = a[i + 1]\n",
    "        return a[0]"
   ]
  },
  {
   "cell_type": "code",
   "execution_count": null,
   "metadata": {},
   "outputs": [],
   "source": [
    "class Node:\n",
    "\n",
    "    def __init__(self, data=0):\n",
    "        self.data = data\n",
    "        self.left = None\n",
    "        self.right = None\n",
    "\n",
    "#Function that constructs BST from its preorder traversal.\n",
    "def Bst(pre, size, i=0) -> Node:\n",
    "    idx = 0\n",
    "    def build_node(pre, node):\n",
    "        nonlocal idx\n",
    "        node = Node(pre[idx])\n",
    "        idx += 1\n",
    "        if idx < size and pre[idx] < pre[idx - 1]:\n",
    "            node.left = build_node(pre, node.left)\n",
    "        if idx < size and pre[idx] > pre[idx - 1]:\n",
    "            node.right = build_node(pre, node.right)\n",
    "        return node\n",
    "\n",
    "    return build_node(pre, Node())\n",
    "\n",
    "\n",
    "\n",
    "\n"
   ]
  }
 ],
 "metadata": {
  "kernelspec": {
   "display_name": "Python 3",
   "language": "python",
   "name": "python3"
  },
  "language_info": {
   "codemirror_mode": {
    "name": "ipython",
    "version": 3
   },
   "file_extension": ".py",
   "mimetype": "text/x-python",
   "name": "python",
   "nbconvert_exporter": "python",
   "pygments_lexer": "ipython3",
   "version": "3.12.7"
  }
 },
 "nbformat": 4,
 "nbformat_minor": 2
}
