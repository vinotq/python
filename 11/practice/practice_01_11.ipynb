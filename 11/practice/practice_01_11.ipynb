{
 "cells": [
  {
   "cell_type": "markdown",
   "metadata": {},
   "source": [
    "# **Practice**:\n",
    "### **Theme**: \n",
    "##### **Date**: 01.11.24"
   ]
  },
  {
   "cell_type": "code",
   "execution_count": 1,
   "metadata": {},
   "outputs": [],
   "source": [
    "def topologicalSort(self,adj):\n",
    "    n = len(adj)\n",
    "    in_degree = [0] * n\n",
    "\n",
    "    for arr in adj:\n",
    "        for v in arr:\n",
    "            in_degree[v] += 1\n",
    "\n",
    "    q = []\n",
    "    for v in range(n):\n",
    "        if in_degree[v] == 0:\n",
    "            q.append(v)\n",
    "\n",
    "    res = []\n",
    "    while q:\n",
    "        u = q.pop(0)\n",
    "        res.append(u)\n",
    "\n",
    "        for v in adj[u]:\n",
    "            in_degree[v] -= 1\n",
    "            if in_degree[v] == 0:\n",
    "                q.append(v)\n",
    "\n",
    "    return res\n",
    "\n"
   ]
  },
  {
   "cell_type": "code",
   "execution_count": null,
   "metadata": {},
   "outputs": [],
   "source": [
    "def orangesRotting(self, mat):\n",
    "    n = len(mat)\n",
    "    m = len(mat[0])\n",
    "    q = set()\n",
    "\n",
    "    f = 0\n",
    "    for i in range(n):\n",
    "        for j in range(m):\n",
    "            if mat[i][j] == 2:\n",
    "                q.add((i,  j))\n",
    "            if mat[i][j] == 1:\n",
    "                f = 1\n",
    "    if not f:\n",
    "        return 0\n",
    "\n",
    "    day = -1\n",
    "    while q:\n",
    "        day += 1\n",
    "        new_q = set()\n",
    "\n",
    "        for i, j in q:\n",
    "            neib = [(i - 1, j), (i + 1, j), (i, j - 1), (i, j + 1)]\n",
    "\n",
    "            for i1, j1 in neib:\n",
    "                if 0 <= i1 < n and 0 <= j1 < m and mat[i1][j1] == 1:\n",
    "                    mat[i1][j1] = 2\n",
    "                    new_q.add((i1, j1))\n",
    "\n",
    "        q = new_q\n",
    "\n",
    "    if any(1 in row for row in mat):\n",
    "        return -1\n",
    "\n",
    "    return day"
   ]
  },
  {
   "cell_type": "code",
   "execution_count": null,
   "metadata": {},
   "outputs": [],
   "source": [
    "def isTree(self, n, m, edges):\n",
    "    if m != n - 1:\n",
    "        return 0\n",
    "\n",
    "    adj = {i:[] for i in range(n)}\n",
    "    for u, v in edges:\n",
    "        if u == v:\n",
    "            return 0\n",
    "        if u in adj[v]:\n",
    "            return 0\n",
    "        adj[u].append(v)\n",
    "        adj[v].append(u)\n",
    "\n",
    "    visited = [0] * n\n",
    "    path = []\n",
    "\n",
    "    def dfs(u):\n",
    "        visited[u] = 1\n",
    "        path.append(u)\n",
    "\n",
    "        for v in adj[u]:\n",
    "            if not visited[v]:\n",
    "                if not dfs(v):\n",
    "                    return 0\n",
    "            elif v in path[:-2]:\n",
    "                return 0\n",
    "\n",
    "        path.pop()\n",
    "        return 1\n",
    "\n",
    "    return 1 if dfs(0) and 0 not in visited else 0\n",
    "\n"
   ]
  }
 ],
 "metadata": {
  "kernelspec": {
   "display_name": "Python 3",
   "language": "python",
   "name": "python3"
  },
  "language_info": {
   "codemirror_mode": {
    "name": "ipython",
    "version": 3
   },
   "file_extension": ".py",
   "mimetype": "text/x-python",
   "name": "python",
   "nbconvert_exporter": "python",
   "pygments_lexer": "ipython3",
   "version": "3.12.3"
  }
 },
 "nbformat": 4,
 "nbformat_minor": 2
}
