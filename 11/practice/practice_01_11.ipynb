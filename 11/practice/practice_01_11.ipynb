{
 "cells": [
  {
   "cell_type": "markdown",
   "metadata": {},
   "source": [
    "# **Practice #n + 5**  \n",
    "##### 01.11.24\n"
   ]
  },
  {
   "cell_type": "markdown",
   "metadata": {},
   "source": [
    "### **Тема**: Патерны\n"
   ]
  },
  {
   "cell_type": "markdown",
   "metadata": {},
   "source": [
    "# **Adapter**"
   ]
  },
  {
   "cell_type": "code",
   "execution_count": null,
   "metadata": {},
   "outputs": [
    {
     "name": "stdout",
     "output_type": "stream",
     "text": [
      "# Some md page\n",
      "\n",
      "And i become death, the destroyer of worlds, And i become death, the destroyer of worlds, And i\n",
      "become death, the destroyer of worlds, And i become death, the destroyer of worlds, And i become\n",
      "death, the destroyer of worlds\n"
     ]
    }
   ],
   "source": [
    "from __future__ import annotations\n",
    "from abc import ABCMeta\n",
    "from collections import ChainMap\n",
    "import sys\n",
    "import textwrap\n",
    "\n",
    "class Page:\n",
    "    \"\"\"Client code\"\"\"\n",
    "    def __init__(self, title: str, renderer: Renderer):\n",
    "        if not isinstance(renderer, Renderer):\n",
    "            raise TypeError(f\"Expected object of type Renderer, got {type(renderer)}\")\n",
    "        self.title = title\n",
    "        self.renderer = renderer\n",
    "        self.paragraphs = []\n",
    "\n",
    "    def add_paragraph(self, paragraph: str):\n",
    "        self.paragraphs.append(paragraph)\n",
    "        return self\n",
    "\n",
    "    def render(self):\n",
    "        self.renderer.header(self.title)\n",
    "        for paragraph in self.paragraphs:\n",
    "            self.renderer.paragraph(paragraph)\n",
    "        self.renderer.footer()\n",
    "\n",
    "class Renderer(metaclass=ABCMeta):\n",
    "    \"\"\"Renderer virtual base class\"\"\"\n",
    "\n",
    "    @classmethod\n",
    "    def __subclasshook__(cls, subclass):\n",
    "        if cls is Renderer:\n",
    "            attributes = ChainMap(\n",
    "                *(superclass.__dict__ for superclass in subclass.__mro__)\n",
    "            )\n",
    "            methods = (\"header\", \"paragraph\", \"footer\")\n",
    "            if all(method in attributes for method in methods):\n",
    "                return True\n",
    "        return NotImplemented\n",
    "\n",
    "class MarkDownRenderer:\n",
    "    def __init__(self, width: int = 80, file = sys.stdout):\n",
    "        self.width = width\n",
    "        self.file = file\n",
    "        self.previous = False\n",
    "\n",
    "    def header(self, title):\n",
    "        self.file.write(f\"# {title}\\n\\n\")\n",
    "\n",
    "    def paragraph(self, text):\n",
    "        if self.previous:\n",
    "            self.file.write(\"\\n\")\n",
    "        self.file.write(textwrap.fill(text, self.width))\n",
    "        self.file.write(\"\\n\")\n",
    "        self.previous = True\n",
    "\n",
    "    def footer(self): ...\n",
    "\n",
    "\n",
    "page = Page(\"Some md page\", MarkDownRenderer())\n",
    "page.add_paragraph(\"And i become death, the destroyer of worlds, And i become death, the destroyer of worlds, And i become death, the destroyer of worlds, And i become death, the destroyer of worlds, And i become death, the destroyer of worlds\")\n",
    "page.render()\n"
   ]
  },
  {
   "cell_type": "code",
   "execution_count": null,
   "metadata": {},
   "outputs": [
    {
     "name": "stdout",
     "output_type": "stream",
     "text": [
      "!DOCTYPE html>\n",
      "<html lang=\"en\">\n",
      "<head>\n",
      "    <meta charset=\"UTF-8\">\n",
      "    <meta name=\"viewport\" content=\"width=device-width, initial-scale=1.0\">\n",
      "    <title>Document</title>\n",
      "</head>\n",
      "</body><h1>Some md page</h1><p>And i become death, the destroyer of worlds, And i become death, the destroyer of worlds, And i become death, the destroyer of worlds, And i become death, the destroyer of worlds, And i become death, the destroyer of worlds</p></body></html>"
     ]
    }
   ],
   "source": [
    "class HtmlWriter:\n",
    "    def __init__(self, file=sys.stdout) -> None:\n",
    "        self.file = file\n",
    "\n",
    "    def header(self):\n",
    "        self.file.write(\"\"\"!DOCTYPE html>\n",
    "<html lang=\"en\">\n",
    "<head>\n",
    "    <meta charset=\"UTF-8\">\n",
    "    <meta name=\"viewport\" content=\"width=device-width, initial-scale=1.0\">\n",
    "    <title>Document</title>\n",
    "</head>\n",
    "\"\"\")\n",
    "\n",
    "    def start_body(self):\n",
    "        self.file.write(\"</body>\")\n",
    "\n",
    "    def title(self, text):\n",
    "        self.file.write(f\"<h1>{text}</h1>\")\n",
    "\n",
    "    def body(self, text):\n",
    "        self.file.write(f\"<p>{text}</p>\")\n",
    "\n",
    "    def end_body(self):\n",
    "        self.file.write(\"</body>\")\n",
    "\n",
    "    def footer(self):\n",
    "        self.file.write(\"</html>\")\n",
    "\n",
    "class HtmlRenderer:\n",
    "    def __init__(self, writer: HtmlWriter):\n",
    "        self.writer = writer\n",
    "\n",
    "    def header(self, title):\n",
    "        self.writer.header()\n",
    "        self.writer.start_body()\n",
    "        self.writer.title(title)\n",
    "\n",
    "    def paragraph(self, text):\n",
    "        self.writer.body(text)\n",
    "\n",
    "    def footer(self):\n",
    "        self.writer.end_body()\n",
    "        self.writer.footer()\n",
    "\n",
    "page = Page(\"Some md page\", HtmlRenderer(HtmlWriter()))\n",
    "page.add_paragraph(\"And i become death, the destroyer of worlds, And i become death, the destroyer of worlds, And i become death, the destroyer of worlds, And i become death, the destroyer of worlds, And i become death, the destroyer of worlds\")\n",
    "page.render()"
   ]
  }
 ],
 "metadata": {
  "kernelspec": {
   "display_name": "Python 3",
   "language": "python",
   "name": "python3"
  },
  "language_info": {
   "codemirror_mode": {
    "name": "ipython",
    "version": 3
   },
   "file_extension": ".py",
   "mimetype": "text/x-python",
   "name": "python",
   "nbconvert_exporter": "python",
   "pygments_lexer": "ipython3",
   "version": "3.12.3"
  }
 },
 "nbformat": 4,
 "nbformat_minor": 2
}
