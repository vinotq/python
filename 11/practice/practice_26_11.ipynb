{
 "cells": [
  {
   "cell_type": "markdown",
   "metadata": {},
   "source": [
    "# **Practice**:\n",
    "### **Theme**: \n",
    "##### **Date**: 26.11.24"
   ]
  },
  {
   "cell_type": "code",
   "execution_count": 2,
   "metadata": {},
   "outputs": [],
   "source": [
    "class Solution:\n",
    "\n",
    "    #Function to check whether a Binary Tree is BST or not.\n",
    "    def isBST(self, root, min_=float(\"-inf\"), max_=float(\"inf\")):\n",
    "        if not root:\n",
    "            return True\n",
    "\n",
    "        if min_ < root.data < max_:\n",
    "            return (self.isBST(root.left, min_=min_, max_=root.data)\n",
    "                and self.isBST(root.right, min_=root.data, max_=max_))\n",
    "\n",
    "        return False"
   ]
  },
  {
   "cell_type": "code",
   "execution_count": null,
   "metadata": {},
   "outputs": [],
   "source": [
    "class Solution:\n",
    "    # Function to find the lowest common ancestor in a BST.\n",
    "    def LCA(self, root, n1, n2):\n",
    "        while root:\n",
    "            if n1 < root.data and n2 < root.data:\n",
    "                root = root.left\n",
    "            elif n1 > root.data and n2 > root.data:\n",
    "                root = root.right\n",
    "            else:\n",
    "                return root"
   ]
  },
  {
   "cell_type": "code",
   "execution_count": null,
   "metadata": {},
   "outputs": [],
   "source": [
    "class Solution:\n",
    "    # Function to find the lowest common ancestor in a Binary Tree.\n",
    "    def lca(self, root, n1, n2):\n",
    "        path1 = []\n",
    "        path2 = []\n",
    "        self.get_path(root, path1, n1)\n",
    "        self.get_path(root, path2, n2)\n",
    "\n",
    "        i = 0\n",
    "        while i < len(path1) and i < len(path2) and path1[i] == path2[i]:\n",
    "            i += 1\n",
    "\n",
    "        return path1[i - 1]\n",
    "\n",
    "    def get_path(self, root, path, k):\n",
    "        if not root:\n",
    "            return False\n",
    "\n",
    "        path.append(root)\n",
    "\n",
    "        if root.data == k:\n",
    "            return True\n",
    "\n",
    "        if (root.left and self.get_path(root.left, path, k)\n",
    "                or root.right and self.get_path(root.right, path, k)):\n",
    "            return True\n",
    "\n",
    "        path.pop()\n",
    "        return False"
   ]
  },
  {
   "cell_type": "code",
   "execution_count": null,
   "metadata": {},
   "outputs": [],
   "source": [
    "#Function to count number of nodes in BST that lie in the given range.\n",
    "class Solution:\n",
    "    def getCount(self,root,low,high):\n",
    "        if not root:\n",
    "            return 0\n",
    "\n",
    "        if root.data < low:\n",
    "            return self.getCount(root.right, low, high)\n",
    "        \n",
    "        if root.data > high:\n",
    "            return self.getCount(root.left, low, high)\n",
    "\n",
    "        return 1 + self.getCount(root.left, low, high) + self.getCount(root.right, low, high)"
   ]
  }
 ],
 "metadata": {
  "kernelspec": {
   "display_name": "Python 3",
   "language": "python",
   "name": "python3"
  },
  "language_info": {
   "codemirror_mode": {
    "name": "ipython",
    "version": 3
   },
   "file_extension": ".py",
   "mimetype": "text/x-python",
   "name": "python",
   "nbconvert_exporter": "python",
   "pygments_lexer": "ipython3",
   "version": "3.12.7"
  }
 },
 "nbformat": 4,
 "nbformat_minor": 2
}
