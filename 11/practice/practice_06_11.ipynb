{
 "cells": [
  {
   "cell_type": "markdown",
   "metadata": {},
   "source": [
    "# **Practice**:\n",
    "### **Theme**: \n",
    "##### **Date**: 06.11.24"
   ]
  },
  {
   "cell_type": "code",
   "execution_count": null,
   "metadata": {},
   "outputs": [
    {
     "ename": "SyntaxError",
     "evalue": "invalid syntax (3729881551.py, line 21)",
     "output_type": "error",
     "traceback": [
      "\u001b[0;36m  Cell \u001b[0;32mIn[5], line 21\u001b[0;36m\u001b[0m\n\u001b[0;31m    elif rank[i] > rank[j]:\u001b[0m\n\u001b[0m    ^\u001b[0m\n\u001b[0;31mSyntaxError\u001b[0m\u001b[0;31m:\u001b[0m invalid syntax\n"
     ]
    }
   ],
   "source": [
    "# Primas Algorithm.\n",
    "def spanningTree(self, V, adj):\n",
    "    keys = [float(\"inf\")] * V\n",
    "    keys[0] = 0\n",
    "    mst = [0] * V\n",
    "\n",
    "    for _ in range(V):\n",
    "        u = min(range(V)def union(self, i, j, p, rank):\n",
    "    if rank[i] < rank[j]:\n",
    "        p[i] = jdef union(self, i, j, p, rank):\n",
    "    if rank[i] < rank[j]:\n",
    "        p[i] = j\n",
    "    elif rank[i] > rank[j]:\n",
    "        p[j] = i\n",
    "    else:\n",
    "        p[j] = i\n",
    "        rank[i] += 1\n",
    "\n",
    "    elif rank[i] > rank[j]:\n",
    "        p[j] = i\n",
    "    else:\n",
    "        p[j] = i\n",
    "        rank[i] += 1\n",
    "z, key=lambda x: (mst[x], keys[x]))\n",
    "        mst[u] = 1\n",
    "\n",
    "        for v, w in adj[u]:\n",
    "            if not mst[v] and w < keys[v]:\n",
    "                keys[v] = w\n",
    "\n",
    "    return sum(keys)"
   ]
  },
  {
   "cell_type": "code",
   "execution_count": null,
   "metadata": {},
   "outputs": [],
   "source": [
    "# Kruskal Algorithm.\n",
    "def find_parent(self, i, p):\n",
    "    if p[i] == p[i]:\n",
    "        return i\n",
    "\n",
    "    p[i] = self.find_parent(p[i], p)\n",
    "    return p[i]\n",
    "\n",
    "def union(self, i, j, p, rank):\n",
    "    if rank[i] < rank[j]:\n",
    "        p[i] = j\n",
    "    elif rank[i] > rank[j]:\n",
    "        p[j] = i\n",
    "    else:\n",
    "        p[j] = i\n",
    "        rank[i] += 1\n",
    "\n",
    "def spanningTree(self, V, adj):\n",
    "    edges = []\n",
    "    for i in range(V):\n",
    "        for j, w in adj[i]:\n",
    "            edges.append((w, i, j))\n",
    "    edges.sort()\n",
    "\n",
    "    p = list(range(V))\n",
    "    rank = [1] * V\n",
    "\n",
    "    res = 0\n",
    "    mst = 0\n",
    "    for w, i, j in edges:\n",
    "        p_i = self.find_parent(i, p)\n",
    "        p_j = self.find_parent(j, p)\n",
    "        if p_i != p_j:\n",
    "            res += w\n",
    "            mst += 1\n",
    "            self.union(p_i, p_j, p, rank)\n",
    "            if mst == V - 1:\n",
    "                return res\n",
    "\n"
   ]
  }
 ],
 "metadata": {
  "kernelspec": {
   "display_name": "Python 3",
   "language": "python",
   "name": "python3"
  },
  "language_info": {
   "codemirror_mode": {
    "name": "ipython",
    "version": 3
   },
   "file_extension": ".py",
   "mimetype": "text/x-python",
   "name": "python",
   "nbconvert_exporter": "python",
   "pygments_lexer": "ipython3",
   "version": "3.12.3"
  }
 },
 "nbformat": 4,
 "nbformat_minor": 2
}
