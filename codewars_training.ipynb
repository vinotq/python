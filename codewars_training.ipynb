{
 "cells": [
  {
   "cell_type": "markdown",
   "metadata": {},
   "source": [
    "# **Date:** 05.10.24\n"
   ]
  },
  {
   "cell_type": "markdown",
   "metadata": {},
   "source": [
    "### **Kata**: Snail  \n",
    "(https://www.codewars.com/kata/521c2db8ddc89b9b7a0000c1)"
   ]
  },
  {
   "cell_type": "code",
   "execution_count": null,
   "metadata": {},
   "outputs": [],
   "source": [
    "def snail(snail_map):\n",
    "    if not snail_map or not snail_map[0]:\n",
    "        return []\n",
    "\n",
    "    n = len(snail_map)\n",
    "    result = []\n",
    "\n",
    "    up, down = 0, n - 1\n",
    "    left, right = 0, n - 1\n",
    "\n",
    "    while up <= down and left <= right:\n",
    "        for i in range(left, right + 1):\n",
    "            result.append(snail_map[up][i])\n",
    "        up += 1\n",
    "\n",
    "        for i in range(up, down + 1):\n",
    "            result.append(snail_map[i][right])\n",
    "        right -= 1\n",
    "\n",
    "        if up <= down:\n",
    "            for i in range(right, left - 1, -1):\n",
    "                result.append(snail_map[down][i])\n",
    "            down -= 1\n",
    "\n",
    "        if left <= right:\n",
    "            for i in range(down, up - 1, -1):\n",
    "                result.append(snail_map[i][left])\n",
    "            left += 1\n",
    "\n",
    "    return result\n"
   ]
  },
  {
   "cell_type": "markdown",
   "metadata": {},
   "source": [
    "### **Kata**: Multiply to `n`\n",
    "(https://www.codewars.com/kata/5f1891d30970800010626843/train/python)"
   ]
  },
  {
   "cell_type": "code",
   "execution_count": 58,
   "metadata": {},
   "outputs": [
    {
     "data": {
      "text/plain": [
       "8"
      ]
     },
     "execution_count": 58,
     "metadata": {},
     "output_type": "execute_result"
    }
   ],
   "source": [
    "def multiply(n, k):\n",
    "    dp = [[0] * (k + 1) for _ in range(n + 1)]\n",
    "    \n",
    "    for i in range(1, n + 1):\n",
    "        dp[i][1] = 1\n",
    "    \n",
    "    for i in range(1, n + 1):\n",
    "        for j in range(2, k + 1):\n",
    "            for x in range(1, i + 1):\n",
    "                if i % x == 0:\n",
    "                    dp[i][j] += dp[i // x][j - 1]\n",
    "    \n",
    "    return dp[n][k]\n",
    "\n",
    "multiply(24, 2)\n",
    "# timeout :("
   ]
  },
  {
   "cell_type": "code",
   "execution_count": 60,
   "metadata": {},
   "outputs": [
    {
     "data": {
      "text/plain": [
       "False"
      ]
     },
     "execution_count": 60,
     "metadata": {},
     "output_type": "execute_result"
    }
   ],
   "source": [
    "import re\n",
    "\n",
    "def alphanumeric(password):\n",
    "    return bool(re.match(r\"^[a-zA-Z0-9]+$\", password))\n",
    "\n",
    "alphanumeric(\"hello world_\")"
   ]
  }
 ],
 "metadata": {
  "kernelspec": {
   "display_name": "Python 3",
   "language": "python",
   "name": "python3"
  },
  "language_info": {
   "codemirror_mode": {
    "name": "ipython",
    "version": 3
   },
   "file_extension": ".py",
   "mimetype": "text/x-python",
   "name": "python",
   "nbconvert_exporter": "python",
   "pygments_lexer": "ipython3",
   "version": "3.12.3"
  }
 },
 "nbformat": 4,
 "nbformat_minor": 2
}
