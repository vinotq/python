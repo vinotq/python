{
 "cells": [
  {
   "cell_type": "markdown",
   "metadata": {},
   "source": [
    "# **Date:** 05.10.24\n"
   ]
  },
  {
   "cell_type": "markdown",
   "metadata": {},
   "source": [
    "### **Kata**: Snail  \n",
    "(https://www.codewars.com/kata/521c2db8ddc89b9b7a0000c1)"
   ]
  },
  {
   "cell_type": "code",
   "execution_count": null,
   "metadata": {},
   "outputs": [],
   "source": [
    "def snail(snail_map):\n",
    "    if not snail_map or not snail_map[0]:\n",
    "        return []\n",
    "\n",
    "    n = len(snail_map)\n",
    "    result = []\n",
    "\n",
    "    up, down = 0, n - 1\n",
    "    left, right = 0, n - 1\n",
    "\n",
    "    while up <= down and left <= right:\n",
    "        for i in range(left, right + 1):\n",
    "            result.append(snail_map[up][i])\n",
    "        up += 1\n",
    "\n",
    "        for i in range(up, down + 1):\n",
    "            result.append(snail_map[i][right])\n",
    "        right -= 1\n",
    "\n",
    "        if up <= down:\n",
    "            for i in range(right, left - 1, -1):\n",
    "                result.append(snail_map[down][i])\n",
    "            down -= 1\n",
    "\n",
    "        if left <= right:\n",
    "            for i in range(down, up - 1, -1):\n",
    "                result.append(snail_map[i][left])\n",
    "            left += 1\n",
    "\n",
    "    return result\n"
   ]
  },
  {
   "cell_type": "markdown",
   "metadata": {},
   "source": [
    "### **Kata**: Multiply to `n`\n",
    "(https://www.codewars.com/kata/5f1891d30970800010626843/train/python)"
   ]
  },
  {
   "cell_type": "code",
   "execution_count": 58,
   "metadata": {},
   "outputs": [
    {
     "data": {
      "text/plain": [
       "8"
      ]
     },
     "execution_count": 58,
     "metadata": {},
     "output_type": "execute_result"
    }
   ],
   "source": [
    "def multiply(n, k):\n",
    "    dp = [[0] * (k + 1) for _ in range(n + 1)]\n",
    "    \n",
    "    for i in range(1, n + 1):\n",
    "        dp[i][1] = 1\n",
    "    \n",
    "    for i in range(1, n + 1):\n",
    "        for j in range(2, k + 1):\n",
    "            for x in range(1, i + 1):\n",
    "                if i % x == 0:\n",
    "                    dp[i][j] += dp[i // x][j - 1]\n",
    "    \n",
    "    return dp[n][k]\n",
    "\n",
    "multiply(24, 2)\n",
    "# timeout :("
   ]
  },
  {
   "cell_type": "markdown",
   "metadata": {},
   "source": [
    "### **Kata**: Vigenère Cipher Helper  \n",
    "(https://www.codewars.com/kata/52d1bd3694d26f8d6e0000d3`)\n",
    "\n",
    "abcdefghijklmnopqrstuvwxyzabcdefghijklmnopqrstuvwxyz"
   ]
  },
  {
   "cell_type": "code",
   "execution_count": 36,
   "metadata": {},
   "outputs": [
    {
     "name": "stdout",
     "output_type": "stream",
     "text": [
      "rovwsoiv\n"
     ]
    }
   ],
   "source": [
    "class VigenereCipher(object):\n",
    "    def __init__(self, key, alphabet):\n",
    "        self.key = key\n",
    "        self.alphabet = alphabet + alphabet\n",
    "\n",
    "    def encode(self, text):\n",
    "        ext_key = (self.key * ((len(text) // len(self.key)) + 1))[:len(text)]\n",
    "        encoded_text = \"\"\n",
    "        \n",
    "        for i in range(len(text)):         \n",
    "            if text[i] in self.alphabet:\n",
    "                encoded_text += self.alphabet[(self.alphabet.index(text[i]) + self.alphabet.index(ext_key[i]))]\n",
    "            else:\n",
    "                encoded_text += text[i]\n",
    "                \n",
    "        return encoded_text\n",
    "                    \n",
    "    def decode(self, text):\n",
    "        ext_key = (self.key * ((len(text) // len(self.key)) + 1))[:len(text)]\n",
    "        decoded_text = \"\"\n",
    "        \n",
    "        for i in range(len(text)):         \n",
    "            if text[i] in self.alphabet:\n",
    "                decoded_text += self.alphabet[(self.alphabet.index(text[i]) - self.alphabet.index(ext_key[i]))]\n",
    "            else:\n",
    "                decoded_text += text[i]\n",
    "                \n",
    "        return decoded_text\n",
    "\n",
    "abc = \"abcdefghijklmnopqrstuvwxyz\"\n",
    "key = \"password\"\n",
    "c = VigenereCipher(key, abc)\n",
    "print(c.encode(\"codewars\"))"
   ]
  }
 ],
 "metadata": {
  "kernelspec": {
   "display_name": "Python 3",
   "language": "python",
   "name": "python3"
  },
  "language_info": {
   "codemirror_mode": {
    "name": "ipython",
    "version": 3
   },
   "file_extension": ".py",
   "mimetype": "text/x-python",
   "name": "python",
   "nbconvert_exporter": "python",
   "pygments_lexer": "ipython3",
   "version": "3.12.3"
  }
 },
 "nbformat": 4,
 "nbformat_minor": 2
}
