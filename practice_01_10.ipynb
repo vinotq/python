{
 "cells": [
  {
   "cell_type": "markdown",
   "metadata": {},
   "source": [
    "# **Practice**:\n",
    "### **Theme**: practice\n",
    "##### **Date**: 01.10.24"
   ]
  },
  {
   "cell_type": "code",
   "execution_count": 2,
   "metadata": {},
   "outputs": [],
   "source": [
    "def partitions(n):\n",
    "    p = [[0] * (n + 1) for _ in range(n + 1)]\n",
    "    p[0][0] = 1\n",
    "\n",
    "    for i in range(0, n + 1):\n",
    "        for k in range(1, n + 1):\n",
    "            if k <= i:\n",
    "                p[i][k] = p[i][k - 1] + p[i - k][k]\n",
    "            else:\n",
    "                p[i][k] = p[i][i]\n",
    "\n",
    "    return p[-1][-1]\n",
    "\n",
    "partitions(100)"
   ]
  },
  {
   "cell_type": "code",
   "execution_count": 2,
   "metadata": {},
   "outputs": [
    {
     "data": {
      "text/plain": [
       "46"
      ]
     },
     "execution_count": 2,
     "metadata": {},
     "output_type": "execute_result"
    }
   ],
   "source": [
    "def calculate_sum(n, k):\n",
    "    st = n * (1 + n) // 2\n",
    "\n",
    "    prev = n\n",
    "    for i in range(1, n + 1):\n",
    "        ki = k**i\n",
    "        if ki > n:\n",
    "            break\n",
    "\n",
    "        m = prev - (prev % k)\n",
    "\n",
    "        s = -(m // k) * (k + m) // 2\n",
    "        st += s\n",
    "\n",
    "        m = (n - (n % ki)) // ki\n",
    "        s = m * (1 + m) // 2\n",
    "        st += s\n",
    "\n",
    "        prev = m\n",
    "\n",
    "    return    st\n",
    "\n",
    "calculate_sum(10, 4)"
   ]
  }
 ],
 "metadata": {
  "kernelspec": {
   "display_name": "Python 3",
   "language": "python",
   "name": "python3"
  },
  "language_info": {
   "codemirror_mode": {
    "name": "ipython",
    "version": 3
   },
   "file_extension": ".py",
   "mimetype": "text/x-python",
   "name": "python",
   "nbconvert_exporter": "python",
   "pygments_lexer": "ipython3",
   "version": "3.12.3"
  }
 },
 "nbformat": 4,
 "nbformat_minor": 2
}
