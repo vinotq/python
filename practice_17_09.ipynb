{
 "cells": [
  {
   "cell_type": "markdown",
   "metadata": {},
   "source": [
    "# **Practice #3**  \n",
    "##### 17.09.24\n"
   ]
  },
  {
   "cell_type": "markdown",
   "metadata": {},
   "source": [
    "### **Тема**: tasks"
   ]
  },
  {
   "cell_type": "markdown",
   "metadata": {},
   "source": [
    "## **#1 Клиент и банк**  \n",
    "Класс «Клиент» содержит поля: код клиента, ФИО, дата открытия вклада, размер\n",
    "вклада, процент по вкладу.  \n",
    "\n",
    "Класс «Банк» (class Bank) содержит поле clientBase представляющем собой список\n",
    "клиентов и методами:  \n",
    "- addClient(client) — принимает обьект клиента и помещает его в base.\n",
    "- showByMoney(money) — принимает количество денег и выводит информацию о всех\n",
    "клиентах у которых размер вклада больше\n",
    "- showByCode(cod) — принимает код и выводит всю информацию клиенте с данным\n",
    "кодом.\n",
    "- showByProc(proc) — принимает процент и выводит информацию о всех клиентах у\n",
    "которых процент по вкладу больше данного.\n"
   ]
  },
  {
   "cell_type": "code",
   "execution_count": 36,
   "metadata": {},
   "outputs": [
    {
     "ename": "ValueError",
     "evalue": "Wrong client info",
     "output_type": "error",
     "traceback": [
      "\u001b[0;31m---------------------------------------------------------------------------\u001b[0m",
      "\u001b[0;31mValueError\u001b[0m                                Traceback (most recent call last)",
      "Cell \u001b[0;32mIn[36], line 51\u001b[0m\n\u001b[1;32m     47\u001b[0m client2 \u001b[38;5;241m=\u001b[39m Client(\u001b[38;5;124m\"\u001b[39m\u001b[38;5;124mJane Doe\u001b[39m\u001b[38;5;124m\"\u001b[39m, \u001b[38;5;241m200\u001b[39m, \u001b[38;5;241m0.5\u001b[39m)\n\u001b[1;32m     49\u001b[0m client1\u001b[38;5;241m.\u001b[39mid, client2\u001b[38;5;241m.\u001b[39mid\n\u001b[0;32m---> 51\u001b[0m bank \u001b[38;5;241m=\u001b[39m \u001b[43mBank\u001b[49m\u001b[43m(\u001b[49m\u001b[43m)\u001b[49m\u001b[38;5;241;43m.\u001b[39;49m\u001b[43maddClient\u001b[49m\u001b[43m(\u001b[49m\u001b[43mclient1\u001b[49m\u001b[43m)\u001b[49m\u001b[38;5;241m.\u001b[39maddClient(client2)\n",
      "Cell \u001b[0;32mIn[36], line 24\u001b[0m, in \u001b[0;36mBank.addClient\u001b[0;34m(self, client)\u001b[0m\n\u001b[1;32m     21\u001b[0m     \u001b[38;5;28mself\u001b[39m\u001b[38;5;241m.\u001b[39mclients\u001b[38;5;241m.\u001b[39mappend(client)\n\u001b[1;32m     22\u001b[0m     \u001b[38;5;28;01mreturn\u001b[39;00m \u001b[38;5;28mself\u001b[39m\n\u001b[0;32m---> 24\u001b[0m \u001b[38;5;28;01mraise\u001b[39;00m \u001b[38;5;167;01mValueError\u001b[39;00m(\u001b[38;5;124m\"\u001b[39m\u001b[38;5;124mWrong client info\u001b[39m\u001b[38;5;124m\"\u001b[39m)\n",
      "\u001b[0;31mValueError\u001b[0m: Wrong client info"
     ]
    }
   ],
   "source": [
    "class Bank:\n",
    "    def __init__(self):\n",
    "        self.clients = []\n",
    "\n",
    "    def validateClient(self, client):\n",
    "        if (\n",
    "            isinstance(client, Client)\n",
    "            and len(client.name) > 0\n",
    "            and client.deposit > 0\n",
    "            and 1 > client.percent > 0\n",
    "        ):\n",
    "            if client.id is None and not self.clients:\n",
    "                client.id = 0\n",
    "            elif client.id is None:\n",
    "                client.id = self.clients[-1].id + 1\n",
    "            elif any(c.id == client.id for c in self.clients):\n",
    "                raise ValueError(\"Client id must be unique\")    \n",
    "        \n",
    "    def addClient(self, client = Depend(validateClient)):\n",
    "        if self.validateClient(client):\n",
    "            self.clients.append(client)\n",
    "            return self\n",
    "            \n",
    "        raise ValueError(\"Wrong client info\")\n",
    "    \n",
    "\n",
    "class Client:\n",
    "    def __new__(cls, name, deposit, percent, id = None, date = None):\n",
    "        try:\n",
    "            cls.__getattribute__(cls, \"__default_id\")\n",
    "        except:\n",
    "            cls.__default_id = 0\n",
    "        return super().__new__(cls)\n",
    "\n",
    "    def __init__(self, name, deposit, percent, id = None, date = None):\n",
    "        self.name = name\n",
    "        self.deposit = deposit\n",
    "        self.percent = percent\n",
    "        if not id:\n",
    "            self.id = Client.__default_id\n",
    "            Client.__default_id += 1\n",
    "        else:\n",
    "            self.id = id\n",
    "        self.date = date\n",
    "\n",
    "client1 = Client(\"Jack\", 100, 0.1)\n",
    "client2 = Client(\"Jane Doe\", 200, 0.5)\n",
    "\n",
    "client1.id, client2.id\n",
    "\n",
    "bank = Bank().addClient(client1).addClient(client2)\n"
   ]
  }
 ],
 "metadata": {
  "kernelspec": {
   "display_name": "Python 3",
   "language": "python",
   "name": "python3"
  },
  "language_info": {
   "codemirror_mode": {
    "name": "ipython",
    "version": 3
   },
   "file_extension": ".py",
   "mimetype": "text/x-python",
   "name": "python",
   "nbconvert_exporter": "python",
   "pygments_lexer": "ipython3",
   "version": "3.12.3"
  }
 },
 "nbformat": 4,
 "nbformat_minor": 2
}
