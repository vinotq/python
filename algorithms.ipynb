{
 "cells": [
  {
   "cell_type": "markdown",
   "metadata": {},
   "source": [
    "### Задача 1\n",
    "    Даны два числа a и b в десятичной системе счисления и основание некоторой системы счисления c. Найдите сумму этих чисел в системе счисления c. Результат представить в виде списка.\n"
   ]
  },
  {
   "cell_type": "code",
   "execution_count": 110,
   "metadata": {},
   "outputs": [
    {
     "name": "stdout",
     "output_type": "stream",
     "text": [
      "[1, 1, 1, 1]\n",
      "[2, 0]\n",
      "[12, 11, 0]\n"
     ]
    }
   ],
   "source": [
    "def convert_to_c(n, c=10):\n",
    "    res = []\n",
    "    while(n):\n",
    "        res.append(n%c)\n",
    "        n//=c\n",
    "    res.reverse()\n",
    "    return res\n",
    "\n",
    "\n",
    "def sum_in_c(a, b, c=10):\n",
    "    a = convert_to_c(a, c)\n",
    "    b = convert_to_c(b, c)\n",
    "\n",
    "    if len(a) < len(b):\n",
    "        a, b = b, a\n",
    "\n",
    "    d = len(a) - len(b)\n",
    "    carry = 0\n",
    "\n",
    "    for i in range(len(a)-1, -1, -1):\n",
    "        a[i] += carry + (b[i-d] if 0 <= i-d < len(b) else 0)\n",
    "        if a[i] >= c:\n",
    "            a[i] -= c\n",
    "            carry = 1\n",
    "        else:\n",
    "            carry = 0\n",
    "    if carry:\n",
    "        a.insert(0, 1)\n",
    "    \n",
    "    return a\n",
    "\n",
    "\n",
    "\n",
    "print(convert_to_c(15, 2))\n",
    "print(sum_in_c(1, 19))\n",
    "print(sum_in_c(3200, 48, 16))"
   ]
  },
  {
   "cell_type": "markdown",
   "metadata": {},
   "source": [
    "### Задача 2\n",
    " Даны два числа a и b, представленные в виде строк. Найдите произведение этих чисел и верните его в виде строки."
   ]
  },
  {
   "cell_type": "code",
   "execution_count": 64,
   "metadata": {},
   "outputs": [
    {
     "name": "stdout",
     "output_type": "stream",
     "text": [
      "True\n",
      "True\n",
      "180\n"
     ]
    }
   ],
   "source": [
    "def sum_nums(a, b, c=10):\n",
    "    if len(a) < len(b):\n",
    "        a, b = b, a\n",
    "    \n",
    "    d = len(a) - len(b)\n",
    "    carry = 0\n",
    "    for i in range(len(a)-1, -1, -1):\n",
    "        a[i] += carry + (b[i-d] if 0 <= i-d < len(b) else 0)\n",
    "        if a[i] >= c:\n",
    "            a[i] -= c\n",
    "            carry = 1\n",
    "        else:\n",
    "            carry = 0\n",
    "    if carry:\n",
    "        a.insert(0, 1)\n",
    "    return a\n",
    "\n",
    "def multiply_by_num(arr, b, c=10):\n",
    "    a = list(arr)\n",
    "    carry = 0\n",
    "    for i in range(len(a)-1, -1, -1):\n",
    "        carry, a[i] = divmod(a[i]*b+carry, c)\n",
    "    if carry:\n",
    "        a.insert(0, carry)\n",
    "    return a\n",
    "\n",
    "\n",
    "def multiply_strings(a, b): \n",
    "    a = [int(l) for l in a]\n",
    "    b = [int(l) for l in b]\n",
    "\n",
    "    if len(a) < len(b):\n",
    "        a, b = b, a\n",
    "\n",
    "    ans = [0]\n",
    "    for i in range(len(b)-1, -1, -1):\n",
    "        ans = sum_nums(ans, (multiply_by_num(a, int(b[i])) + [0]*(len(b)-1-i)))\n",
    "\n",
    "    n_z = 0\n",
    "    for n_z in range(len(ans)):\n",
    "        if ans[n_z]!=0:\n",
    "            break\n",
    "    \n",
    "    return \"\".join(str(l) for l in ans[n_z:])\n",
    "\n",
    "\n",
    "print(multiply_strings(\"58608473622772837728372827\", \"7586374672263726736374\")==\"444625839871840560024489175424316205566214109298\")\n",
    "print(multiply_strings(\"9007199254740991\", \"9007199254740991\")==\"81129638414606663681390495662081\")\n",
    "print(multiply_strings(\"060\", \"3\"))"
   ]
  },
  {
   "cell_type": "markdown",
   "metadata": {},
   "source": [
    "### Задача 3\n",
    " Реализуйте алгоритм быстрого возведения числа a в степень b."
   ]
  },
  {
   "cell_type": "code",
   "execution_count": 63,
   "metadata": {},
   "outputs": [
    {
     "name": "stdout",
     "output_type": "stream",
     "text": [
      "True\n",
      "2\n",
      "1\n",
      "True\n"
     ]
    }
   ],
   "source": [
    "def fast_pow(a, b):\n",
    "    return a if b==1 else 1 if b==0 else (fast_pow(a*a, b//2) if not b % 2 else a*fast_pow(a, b-1))\n",
    "\n",
    "print(fast_pow(2,31 )==2**31)\n",
    "print(fast_pow(2, 1))\n",
    "print(fast_pow(2, 0))\n",
    "print(fast_pow(552, 47) == 552**47)"
   ]
  },
  {
   "cell_type": "markdown",
   "metadata": {},
   "source": [
    "### Задача 4\n",
    " Даны два числа a и b. Найдите их наибольший общий делитель."
   ]
  },
  {
   "cell_type": "code",
   "execution_count": 113,
   "metadata": {},
   "outputs": [
    {
     "name": "stdout",
     "output_type": "stream",
     "text": [
      "16\n"
     ]
    }
   ],
   "source": [
    "def gcd(a, b):\n",
    "    while b:\n",
    "        a = a % b\n",
    "        a, b = b, a\n",
    "    return a\n",
    "\n",
    "print(gcd(16, 16))"
   ]
  },
  {
   "cell_type": "markdown",
   "metadata": {},
   "source": [
    "### Задача 5\n",
    " Даны два числа a и b. Найдите пару чисел x и y, являющуюся решением уравнения вида: <math xmlns=\"http://www.w3.org/1998/Math/MathML\">\n",
    "  <mi>a</mi>\n",
    "  <mi>x</mi>\n",
    "  <mo>+</mo>\n",
    "  <mi>b</mi>\n",
    "  <mi>y</mi>\n",
    "  <mo>=</mo>\n",
    "  <mi>&#x41D;</mi>\n",
    "  <mi>&#x41E;</mi>\n",
    "  <mi>&#x414;</mi>\n",
    "  <mo stretchy=\"false\">(</mo>\n",
    "  <mi>a</mi>\n",
    "  <mo>,</mo>\n",
    "  <mi>b</mi>\n",
    "  <mo stretchy=\"false\">)</mo>\n",
    "</math>"
   ]
  },
  {
   "cell_type": "code",
   "execution_count": 114,
   "metadata": {},
   "outputs": [
    {
     "name": "stdout",
     "output_type": "stream",
     "text": [
      "True\n"
     ]
    }
   ],
   "source": [
    "def gcd_extended(a, b):\n",
    "    if b == 0:\n",
    "        return a, 1, 0\n",
    "    g, x1, y1 = gcd_extended(b, a % b)\n",
    "    return g, y1, x1 - (a//b) * y1\n",
    "\n",
    "print(gcd_extended(35, 15)==(5, 1, -2))\n",
    "\n"
   ]
  },
  {
   "cell_type": "markdown",
   "metadata": {},
   "source": [
    "### Задача 6\n",
    " Проверить, является ли число a простым."
   ]
  },
  {
   "cell_type": "code",
   "execution_count": 165,
   "metadata": {},
   "outputs": [
    {
     "name": "stdout",
     "output_type": "stream",
     "text": [
      "isPrime(1) = False\n",
      "isPrime(2) = True, isPrime(15485863) = True\n",
      "isPrime(8) = False\n"
     ]
    }
   ],
   "source": [
    "def isPrime(n):\n",
    "    if n < 2: \n",
    "        return False\n",
    "    i = 2\n",
    "    while i*i <= n:\n",
    "        if not n % i:\n",
    "            return False\n",
    "        i += 1\n",
    "\n",
    "    return True\n",
    "\n",
    "print(f'{isPrime(1) = }\\n{isPrime(2) = }, {isPrime(15485863) = }\\n{isPrime(8) = }')"
   ]
  },
  {
   "cell_type": "markdown",
   "metadata": {},
   "source": [
    "### Задача 7\n",
    " Найти k-тое по счету простое число. Число 2 считать простым числом с номером 1."
   ]
  },
  {
   "cell_type": "code",
   "execution_count": 116,
   "metadata": {},
   "outputs": [
    {
     "data": {
      "text/plain": [
       "15485863"
      ]
     },
     "execution_count": 116,
     "metadata": {},
     "output_type": "execute_result"
    }
   ],
   "source": [
    "# Для k <= 100'000\n",
    "def eratosthenes(k):\n",
    "    sieve = [False for i in range(k*17)]\n",
    "\n",
    "    i = 0\n",
    "    num = 2\n",
    "    while i!=k:\n",
    "        if not sieve[num]:\n",
    "            sieve[num] = True\n",
    "            i += 1\n",
    "            j = num * num\n",
    "            while j < len(sieve):\n",
    "                sieve[j] = True\n",
    "                j += num\n",
    "        num += 1\n",
    "\n",
    "    return num-1\n",
    "\n",
    "eratosthenes(1000000)\n"
   ]
  },
  {
   "cell_type": "markdown",
   "metadata": {},
   "source": [
    "### Задача 8\n",
    " Найти количество простых чисел в диапазоне от [0, n]"
   ]
  },
  {
   "cell_type": "code",
   "execution_count": 117,
   "metadata": {},
   "outputs": [
    {
     "name": "stdout",
     "output_type": "stream",
     "text": [
      "True\n"
     ]
    }
   ],
   "source": [
    "def count_primes(n):\n",
    "    ans = 0\n",
    "\n",
    "    sieve = [False for i in range(n+1)]\n",
    "    i = 2\n",
    "    while i <= n:\n",
    "        if not sieve[i]:\n",
    "            sieve[i] = True\n",
    "            ans += 1\n",
    "            j = i*i\n",
    "            while j <= n:\n",
    "                sieve[j] = True\n",
    "                j += i\n",
    "        i += 1\n",
    "\n",
    "    return ans\n",
    "\n",
    "print(count_primes(100)==25)"
   ]
  },
  {
   "cell_type": "markdown",
   "metadata": {},
   "source": [
    "### Задача 9\n",
    " Дан список целых чисел arr. Реализовать сортировку простыми обменами, в качестве результата вернуть количество перестановок выполненных в процессе сортировки."
   ]
  },
  {
   "cell_type": "code",
   "execution_count": 118,
   "metadata": {},
   "outputs": [
    {
     "data": {
      "text/plain": [
       "25"
      ]
     },
     "execution_count": 118,
     "metadata": {},
     "output_type": "execute_result"
    }
   ],
   "source": [
    "# Сортировка простыми обменами - пузырьковая?\n",
    "def bubble_sort(arr):\n",
    "    ans = 0\n",
    "    f = True\n",
    "    i = 0\n",
    "    while i < len(arr)-1 and f:\n",
    "        f = False\n",
    "        j = 0\n",
    "        while j < len(arr)-1:\n",
    "            if arr[j] > arr[j+1]:\n",
    "                arr[j], arr[j+1] = arr[j+1], arr[j]\n",
    "                f = True\n",
    "                ans += 1\n",
    "            j += 1\n",
    "        i += 1\n",
    "    return ans\n",
    "\n",
    "bubble_sort([1,4,2,3, 4, 6])\n",
    "bubble_sort([4, 8, 2, 9, 3, 1, 0, 7, 6, 5])\n"
   ]
  },
  {
   "cell_type": "markdown",
   "metadata": {},
   "source": [
    "### Задача 10\n",
    " Дан список целых чисел arr. Реализовать сортировку вставками (без использования бинарного поиска), в качестве результата вернуть количество перестановок выполненных в процессе сортировки."
   ]
  },
  {
   "cell_type": "code",
   "execution_count": 36,
   "metadata": {},
   "outputs": [
    {
     "data": {
      "text/plain": [
       "9"
      ]
     },
     "execution_count": 36,
     "metadata": {},
     "output_type": "execute_result"
    }
   ],
   "source": [
    "def insertion_sort(arr):\n",
    "    ans = 0\n",
    "    i = 1\n",
    "    while i < len(arr):\n",
    "        j = i-1\n",
    "        while j >= 0 and arr[j] > arr[j+1]:\n",
    "            arr[j], arr[j+1] = arr[j+1], arr[j]\n",
    "            ans += 1\n",
    "            j -= 1\n",
    "        i += 1\n",
    "    return ans\n",
    "\n",
    "insertion_sort([1,4,2,3,5])\n",
    "insertion_sort([4, 8, 2, 9, 3, 1, 0, 7, 6, 5])    \n",
    "insertion_sort(arrc:=[34, 10, 64, 51, 32, 21])"
   ]
  },
  {
   "cell_type": "markdown",
   "metadata": {},
   "source": [
    "### Задача 11\n",
    " Дан сортированный список целых чисел arr и число x. Найти индекс, на котором будет расположено число x в списке, после его добавления в список в порядке сортировки."
   ]
  },
  {
   "cell_type": "code",
   "execution_count": 120,
   "metadata": {},
   "outputs": [
    {
     "data": {
      "text/plain": [
       "1"
      ]
     },
     "execution_count": 120,
     "metadata": {},
     "output_type": "execute_result"
    }
   ],
   "source": [
    "def binary_search(arr, x):\n",
    "    l=0\n",
    "    r=len(arr)-1\n",
    "    mid = 0\n",
    "\n",
    "    while l <= r:\n",
    "        mid = l + (r-l)//2\n",
    "        if arr[mid] == x:\n",
    "            return mid\n",
    "        if arr[mid] < x:\n",
    "            l = mid+1\n",
    "        elif arr[mid] > x:\n",
    "            r = mid-1\n",
    "    return l\n",
    "\n",
    "binary_search([1, 214], 24)     \n"
   ]
  },
  {
   "cell_type": "markdown",
   "metadata": {},
   "source": [
    "### Задача 12\n",
    " Даны два сортированных списка arr1 и arr2. Выполнить их слияние так, чтобы полученный список так же был сортирован."
   ]
  },
  {
   "cell_type": "code",
   "execution_count": 121,
   "metadata": {},
   "outputs": [
    {
     "data": {
      "text/plain": [
       "[1, 2, 3, 5, 7, 15]"
      ]
     },
     "execution_count": 121,
     "metadata": {},
     "output_type": "execute_result"
    }
   ],
   "source": [
    "def merge(arr1, arr2):\n",
    "    res = [0] * (len(arr1)+len(arr2))\n",
    "    i=j=k=0\n",
    "    while i < len(arr1) and j < len(arr2):\n",
    "        if arr1[i] < arr2[j]:\n",
    "            res[k] = arr1[i]\n",
    "            i += 1\n",
    "        else:\n",
    "            res[k] = arr2[j]\n",
    "            j += 1\n",
    "        k += 1\n",
    "    \n",
    "    while i < len(arr1):\n",
    "        res[k] = arr1[i]\n",
    "        i += 1\n",
    "        k += 1\n",
    "\n",
    "    while j < len(arr2):\n",
    "        res[k] = arr2[j]\n",
    "        j += 1\n",
    "        k += 1\n",
    "\n",
    "    return res\n",
    "\n",
    "merge([1,2,7],[3,5,15])"
   ]
  },
  {
   "cell_type": "code",
   "execution_count": 122,
   "metadata": {},
   "outputs": [
    {
     "data": {
      "text/plain": [
       "[1, 3, 4, 5]"
      ]
     },
     "execution_count": 122,
     "metadata": {},
     "output_type": "execute_result"
    }
   ],
   "source": [
    "def merge_sort(arr, begin=0, end=None):\n",
    "    if not end:\n",
    "        end = len(arr)\n",
    "    if end-begin==1:\n",
    "        return arr[begin:begin+1]\n",
    "    if end-begin==0:\n",
    "        return []\n",
    "    mid = begin+(end-begin)//2\n",
    "    l = merge_sort(arr, begin, mid)\n",
    "    r = merge_sort(arr, mid, end) \n",
    "    return merge(l, r)\n",
    "\n",
    "merge_sort([7,6,5,4,3,3])\n",
    "merge_sort([4, 3, 1, 5])"
   ]
  },
  {
   "cell_type": "code",
   "execution_count": 123,
   "metadata": {},
   "outputs": [
    {
     "data": {
      "text/plain": [
       "[1, 3, 4, 5]"
      ]
     },
     "execution_count": 123,
     "metadata": {},
     "output_type": "execute_result"
    }
   ],
   "source": [
    "def mrge(arr, l, r):\n",
    "    mid = l + (r-l)//2\n",
    "    k = l\n",
    "\n",
    "    l = arr[l:mid]\n",
    "    r = arr[mid:r]\n",
    "    \n",
    "    i = j = 0\n",
    "    while i < len(l) and j < len(r):\n",
    "        if l[i] <= r[j]:\n",
    "            arr[k] = l[i]\n",
    "            i += 1\n",
    "        else:\n",
    "            arr[k] = r[j]\n",
    "            j += 1\n",
    "        k += 1\n",
    "    while i < len(l):\n",
    "        arr[k] = l[i]\n",
    "        i += 1\n",
    "        k += 1\n",
    "\n",
    "    while j < len(r):\n",
    "        arr[k] = r[j]\n",
    "        j += 1\n",
    "        k += 1\n",
    "\n",
    "def merge_srt(arr, l=0, r=None):\n",
    "    if not r:\n",
    "        r = len(arr)\n",
    "\n",
    "    if r-l <= 1:\n",
    "        return\n",
    "    \n",
    "    mid = l + (-l + r)//2\n",
    "    merge_srt(arr, l, mid)\n",
    "    merge_srt(arr, mid, r)\n",
    "    mrge(arr, l, r)\n",
    "\n",
    "    return arr\n",
    "\n",
    "\n",
    "def timsort(arr, l=0, r=None):\n",
    "    if not r:\n",
    "        r = len(arr)\n",
    "    \n",
    "\n",
    "\n",
    "merge_srt([4,3,1,5])\n",
    "\n",
    "\n"
   ]
  },
  {
   "cell_type": "markdown",
   "metadata": {},
   "source": [
    "### Задача 13\n",
    " Реализовать алгоритм быстрой сортировки."
   ]
  },
  {
   "cell_type": "code",
   "execution_count": 124,
   "metadata": {},
   "outputs": [
    {
     "name": "stdout",
     "output_type": "stream",
     "text": [
      "[0, 18, 20, 30, 41]\n"
     ]
    }
   ],
   "source": [
    "def qsort(arr, l=0, r=None):\n",
    "    if not r:\n",
    "        r = len(arr)-1\n",
    "    \n",
    "    pivot = l\n",
    "    i = pivot\n",
    "    j = r\n",
    "    while True:\n",
    "        while i < r:\n",
    "            if arr[i] > arr[pivot]:\n",
    "                break\n",
    "            i += 1\n",
    "\n",
    "        while j > pivot:\n",
    "            if arr[j] < arr[pivot]:\n",
    "                break\n",
    "            j -= 1\n",
    "        if i >= j:\n",
    "            if j!=pivot:\n",
    "                arr[pivot], arr[j] = arr[j], arr[pivot]\n",
    "            pivot = j\n",
    "            break\n",
    "\n",
    "        arr[i], arr[j] = arr[j], arr[i]\n",
    "\n",
    "\n",
    "    if pivot-l > 1:\n",
    "        qsort(arr, l, pivot-1)\n",
    "    if r-pivot > 1:\n",
    "        qsort(arr, pivot+1, r)\n",
    "\n",
    "\n",
    "arr = [18,30,41, 0, 20]\n",
    "qsort(arr)\n",
    "print(arr)\n",
    "    \n"
   ]
  },
  {
   "cell_type": "markdown",
   "metadata": {},
   "source": [
    "### Задача 14\n",
    " На вершине лесенки, содержащей N ступенек, находится мячик, который начинает прыгать по ним вниз, к основанию. Мячик может прыгнуть на следующую ступеньку, на ступеньку через одну или через 2. (То есть, если мячик лежит на 8-ой ступеньке, то он может переместиться на 5-ую, 6-ую или 7-ую.) Определить число всевозможных \"маршрутов\" мячика с вершины на землю.\n"
   ]
  },
  {
   "cell_type": "code",
   "execution_count": 125,
   "metadata": {},
   "outputs": [
    {
     "name": "stdout",
     "output_type": "stream",
     "text": [
      "7\n"
     ]
    }
   ],
   "source": [
    "def ladder(n):\n",
    "    dp = [0]*(n+1)\n",
    "    dp[n]=1\n",
    "    for i in range(n, -1, -1):\n",
    "        if i-1 >= 0:\n",
    "            dp[i-1] += dp[i]\n",
    "        if i-2 >= 0:\n",
    "            dp[i-2] += dp[i]\n",
    "        if i-3 >= 0:\n",
    "            dp[i-3] += dp[i]\n",
    "\n",
    "    print(dp[0])\n",
    "\n",
    "ladder(4)"
   ]
  },
  {
   "cell_type": "markdown",
   "metadata": {},
   "source": [
    "### Задача 15\n",
    " Вычислите n-й член последовательности, заданной формулами:\n",
    "<math xmlns=\"http://www.w3.org/1998/Math/MathML\" display=\"block\">\n",
    "  <msub>\n",
    "    <mi>a</mi>\n",
    "    <mrow data-mjx-texclass=\"ORD\">\n",
    "      <mn>2</mn>\n",
    "      <mi>n</mi>\n",
    "    </mrow>\n",
    "  </msub>\n",
    "  <mo>=</mo>\n",
    "  <msub>\n",
    "    <mi>a</mi>\n",
    "    <mi>n</mi>\n",
    "  </msub>\n",
    "  <mrow data-mjx-texclass=\"ORD\">\n",
    "    <mo>&#xAD;</mo>\n",
    "  </mrow>\n",
    "  <mo>+</mo>\n",
    "  <msub>\n",
    "    <mi>a</mi>\n",
    "    <mrow data-mjx-texclass=\"ORD\">\n",
    "      <mi>n</mi>\n",
    "      <mo>&#x2212;</mo>\n",
    "      <mn>1</mn>\n",
    "    </mrow>\n",
    "  </msub>\n",
    "  <mo>,</mo>\n",
    "  <mspace linebreak=\"newline\"></mspace>\n",
    "  <msub>\n",
    "    <mi>a</mi>\n",
    "    <mrow data-mjx-texclass=\"ORD\">\n",
    "      <mn>2</mn>\n",
    "      <mi>n</mi>\n",
    "      <mo>+</mo>\n",
    "      <mn>1</mn>\n",
    "    </mrow>\n",
    "  </msub>\n",
    "  <mo>=</mo>\n",
    "  <msub>\n",
    "    <mi>a</mi>\n",
    "    <mi>n</mi>\n",
    "  </msub>\n",
    "  <mrow data-mjx-texclass=\"ORD\">\n",
    "    <mo>&#x2013;</mo>\n",
    "  </mrow>\n",
    "  <msub>\n",
    "    <mi>a</mi>\n",
    "    <mrow data-mjx-texclass=\"ORD\">\n",
    "      <mi>n</mi>\n",
    "      <mo>&#x2212;</mo>\n",
    "      <mn>1</mn>\n",
    "    </mrow>\n",
    "  </msub>\n",
    "  <mo>,</mo>\n",
    "  <mspace linebreak=\"newline\"></mspace>\n",
    "  <msub>\n",
    "    <mi>a</mi>\n",
    "    <mn>0</mn>\n",
    "  </msub>\n",
    "  <mo>=</mo>\n",
    "  <msub>\n",
    "    <mi>a</mi>\n",
    "    <mn>1</mn>\n",
    "  </msub>\n",
    "  <mo>=</mo>\n",
    "  <mn>1.</mn>\n",
    "</math>"
   ]
  },
  {
   "cell_type": "code",
   "execution_count": 126,
   "metadata": {},
   "outputs": [
    {
     "data": {
      "text/plain": [
       "2"
      ]
     },
     "execution_count": 126,
     "metadata": {},
     "output_type": "execute_result"
    }
   ],
   "source": [
    "def func(n):\n",
    "    # a(n) = a(2n) - a(n-1) \n",
    "    # a(n) = a(2n+1) + a(n-1)\n",
    "\n",
    "    dp = [0] * (2*n+1+1)\n",
    "    dp[0]=dp[1]=1\n",
    "    for i in range(2, len(dp)):\n",
    "        if not i%2:\n",
    "            dp[i] = dp[i//2] + dp[i//2-1]\n",
    "        else:\n",
    "            dp[i] = dp[(i-1)//2] - dp[(i-1)//2-1]\n",
    "    return dp[n]\n",
    "\n",
    "func(2)"
   ]
  },
  {
   "cell_type": "markdown",
   "metadata": {},
   "source": [
    "### Задача 16\n",
    " Даны две последовательности, требуется найти длину их наибольшей общей подпоследовательности."
   ]
  },
  {
   "cell_type": "code",
   "execution_count": 127,
   "metadata": {},
   "outputs": [
    {
     "data": {
      "text/plain": [
       "3"
      ]
     },
     "execution_count": 127,
     "metadata": {},
     "output_type": "execute_result"
    }
   ],
   "source": [
    "def lcs(s1, s2):\n",
    "    dp = [[0] * (len(s2)+1) for _ in range(len(s1)+1)]\n",
    "    \n",
    "    for i in range(1, len(s1)+1):\n",
    "        for j in range(1, len(s2)+1):\n",
    "            if s1[i-1] == s2[j-1]:\n",
    "                dp[i][j] = dp[i-1][j-1] + 1\n",
    "            else:\n",
    "                dp[i][j] = max(dp[i][j-1], dp[i-1][j])\n",
    "\n",
    "    return dp[len(s1)][len(s2)]\n",
    "\n",
    "# n = int(input())\n",
    "# s1 = [int(i) for i in input().split()]\n",
    "# m = int(input())\n",
    "# s2 = [int(i) for i in input().split()]\n",
    "# print(lcs(s1, s2))\n",
    "lcs([1,2,3,4,56], [1,3,4])"
   ]
  },
  {
   "cell_type": "markdown",
   "metadata": {},
   "source": [
    "### Задача 17\n",
    " Дано N золотых слитков массой m1, ..., mn. Ими наполняют рюкзак, который выдерживает вес не более M. Можно ли набрать вес в точности M?"
   ]
  },
  {
   "cell_type": "code",
   "execution_count": 128,
   "metadata": {},
   "outputs": [
    {
     "data": {
      "text/plain": [
       "True"
      ]
     },
     "execution_count": 128,
     "metadata": {},
     "output_type": "execute_result"
    }
   ],
   "source": [
    "def backpack(n, w, weights):\n",
    "    dp = [[0 for _ in range(w+1)] for _ in range(n+1)]\n",
    "\n",
    "    for i in range(1, n+1):\n",
    "        for w in range(1, w+1):\n",
    "            if weights[i-1] <= w:\n",
    "                dp[i][w] = max(dp[i-1][w], weights[i-1] + dp[i-1][w-weights[i-1]])\n",
    "            else:\n",
    "                dp[i][w] = dp[i-1][w]\n",
    "    return dp[n][w] == w\n",
    "\n",
    "backpack(4, 5, [2,2,14,1])\n"
   ]
  },
  {
   "cell_type": "markdown",
   "metadata": {},
   "source": [
    "### Задача 18\n",
    " Определите расстояние Левенштейна для двух данных строк s1 и s2.\n"
   ]
  },
  {
   "cell_type": "code",
   "execution_count": 129,
   "metadata": {},
   "outputs": [
    {
     "data": {
      "text/plain": [
       "4"
      ]
     },
     "execution_count": 129,
     "metadata": {},
     "output_type": "execute_result"
    }
   ],
   "source": [
    "def levenstein(s1, s2):\n",
    "    n, m = len(s1), len(s2)\n",
    "    dp = [[0] * (m+1) for _ in range(n+1)]\n",
    "\n",
    "    for i in range(n+1):\n",
    "        for j in range(m+1):\n",
    "            if not i:\n",
    "                dp[i][j] = j\n",
    "            elif not j:\n",
    "                dp[i][j] = i\n",
    "            elif s1[i-1] == s2[j-1]:\n",
    "                dp[i][j] = dp[i-1][j-1]\n",
    "            else:\n",
    "                dp[i][j] = min(dp[i-1][j], dp[i][j-1], dp[i-1][j-1]) + 1\n",
    "\n",
    "    return dp[n][m]\n",
    "\n",
    "levenstein(\"ecat\", \"\")\n",
    "# https://www.codingame.com/ide/puzzle/levenshtein-distance           "
   ]
  },
  {
   "cell_type": "markdown",
   "metadata": {},
   "source": [
    "### Задача 19\n",
    " Даны два упорядоченных по невозрастанию односвязных списка. Объедините их в новый упорядоченный по невозрастанию односвязный список.\n"
   ]
  },
  {
   "cell_type": "code",
   "execution_count": 130,
   "metadata": {},
   "outputs": [
    {
     "data": {
      "text/plain": [
       "'6->4->4->2'"
      ]
     },
     "execution_count": 130,
     "metadata": {},
     "output_type": "execute_result"
    }
   ],
   "source": [
    "class Node:\n",
    "    def __init__(self, val=None):\n",
    "        self.data = val\n",
    "        self.next = None\n",
    "\n",
    "def merge_sorted_lists(root_1: Node, root_2: Node):\n",
    "    root = Node()\n",
    "    node = root\n",
    "    while root_1 and root_2:\n",
    "        if not node.data is None:\n",
    "            node.next = Node()\n",
    "            node = node.next\n",
    "        if root_1.data > root_2.data:\n",
    "            node.data = root_1.data\n",
    "            root_1 = root_1.next\n",
    "        else:\n",
    "            node.data = root_2.data\n",
    "            root_2 = root_2.next\n",
    "    while root_1:\n",
    "        if not node.data is None:\n",
    "            node.next = Node()\n",
    "            node = node.next\n",
    "        node.data = root_1.data\n",
    "        root_1 = root_1.next\n",
    "    while root_2:\n",
    "        if not node.data is None:\n",
    "            node.next = Node()\n",
    "            node = node.next\n",
    "        node.data = root_2.data\n",
    "        root_2 = root_2.next\n",
    "    return root\n",
    "\n",
    "lst1 = Node(4)\n",
    "lst1.next = Node(4)\n",
    "lst2 = Node(6)\n",
    "lst2.next = Node(2)\n",
    "\n",
    "def reprList(root: Node):\n",
    "    ans = []\n",
    "    while root:\n",
    "        ans.append(str(root.data))\n",
    "        root = root.next\n",
    "    return \"->\".join(ans)\n",
    "\n",
    "reprList(merge_sorted_lists(lst1, lst2))\n",
    "        \n",
    "        \n",
    "        "
   ]
  },
  {
   "cell_type": "markdown",
   "metadata": {},
   "source": [
    "### Задача 20\n",
    " Дан односвязный список. Определить содержит ли он цикл. Список может содержать петли.\n"
   ]
  },
  {
   "cell_type": "code",
   "execution_count": 131,
   "metadata": {},
   "outputs": [
    {
     "data": {
      "text/plain": [
       "False"
      ]
     },
     "execution_count": 131,
     "metadata": {},
     "output_type": "execute_result"
    }
   ],
   "source": [
    "class Node:\n",
    "    def __init__(self, val):\n",
    "        self.data = val\n",
    "        self.next = None\n",
    "\n",
    "def isListCycle(root: Node):\n",
    "    visited = set()\n",
    "    while root:\n",
    "        if root in visited:\n",
    "            return True\n",
    "        visited.add(root)\n",
    "        root = root.next\n",
    "    return False\n",
    "\n",
    "# Без памяти (помянем)\n",
    "def isListCycle(root: Node):\n",
    "    slow = root\n",
    "    fast = root\n",
    "\n",
    "    while fast and fast.next:\n",
    "        slow = slow.next\n",
    "        fast = fast.next.next\n",
    "        if slow == fast:\n",
    "            return True\n",
    "\n",
    "    return False    \n",
    "\n",
    "# https://www.geeksforgeeks.org/problems/detect-loop-in-linked-list/1?itm_source=geeksforgeeks&itm_medium=article&itm_campaign=practice_card\n",
    "isListCycle(lst1)"
   ]
  },
  {
   "cell_type": "markdown",
   "metadata": {},
   "source": [
    "### Задача 21\n",
    " Дана строка S состоящая из открывающихся и закрывающихся скобок '(' и ')'. Найти длину наибольшей правильной последовательности скобок.\n",
    "\n",
    "Последовательность скобок верна если:\n",
    "\n",
    "Для каждой открытой скобки есть закрытая\n",
    "Открытые скобки должны закрываться в соответствующем порядке."
   ]
  },
  {
   "cell_type": "code",
   "execution_count": 132,
   "metadata": {},
   "outputs": [
    {
     "data": {
      "text/plain": [
       "330"
      ]
     },
     "execution_count": 132,
     "metadata": {},
     "output_type": "execute_result"
    }
   ],
   "source": [
    "def longestValidPars(s):\n",
    "    max_len = 0\n",
    "    opened = closed = 0\n",
    "    for c in s:\n",
    "        if c == '(':\n",
    "            opened += 1\n",
    "        elif c == ')':\n",
    "            closed += 1\n",
    "\n",
    "        if opened == closed:\n",
    "            max_len = max(max_len, opened*2)\n",
    "        elif closed > opened:\n",
    "            opened = closed = 0\n",
    "\n",
    "    opened = closed = 0\n",
    "    for c in reversed(s):\n",
    "        if c == '(':\n",
    "            opened += 1\n",
    "        elif c == ')':\n",
    "            closed += 1\n",
    "\n",
    "        if opened == closed:\n",
    "            max_len = max(max_len, opened*2)\n",
    "        elif opened > closed:\n",
    "            opened = closed = 0    \n",
    "    return max_len\n",
    "\n",
    "# https://www.geeksforgeeks.org/problems/longest-valid-parentheses5657/1?itm_source=geeksforgeeks&itm_medium=article&itm_campaign=practice_card\n",
    "longestValidPars(\"()()))())))))(())())))()))))()((()(((((((()(()()))()(()())))((()((((((()))))()(())(((((())((((((((()))((())()(()())()(()(()(()))))))))))))))()()((()((())))())()(())(()(()(()(()))))(()()((()(((()())))(()()())((())((((()()()()())()()()()))))(()()(()()((()(()))))))(())()(()))((())(()()()((())((((((()()))(()()()(()((())()()((((((())(((((())(((())))((((()()))()(())(())()))(()(())(((()(()())())(()())()((()()(()(()()()())((((()((()(()(((((())((()(((())(()()(())))))))))(()())((())()((()()()()()))))(((()))(()()())(()))()()))()))))()))))((())((())((()((())()))(()()))))(()))()))()()))))()(())()((())(()())()()()()()))()))()((((((()))))()())))))(()()(()())()((()(((()()))((()((()()(()()()()((())(())(()))())((()())))))())())()()(()())((())(((())(())(((()())()()(()(((())())()()(((()(()))())()()()((())((()()((((((((()()((()(((())()())))()()(()((()(())))))()((()))(()((()(())((()(())((((((\")"
   ]
  },
  {
   "cell_type": "markdown",
   "metadata": {},
   "source": [
    "### Задача 22\n",
    " Дан список цифр (значения от 0 до 9), найти минимальную возможную сумму двух чисел, составленных из цифр в списке. Все цифры должны быть использованы.\n",
    "\n",
    "Любое сочетание цифр может быть использовано для составления чисел. Ведущие нули разрешены.\n",
    "\n",
    "Если составить 2 числа невозможно (например, n==0), тогда \"сумма\" - это значение единственно возможного числа."
   ]
  },
  {
   "cell_type": "code",
   "execution_count": 133,
   "metadata": {},
   "outputs": [
    {
     "data": {
      "text/plain": [
       "'604'"
      ]
     },
     "execution_count": 133,
     "metadata": {},
     "output_type": "execute_result"
    }
   ],
   "source": [
    "def sum_strings(s1, s2, c=10):\n",
    "    if len(s1) < len(s2):\n",
    "        s1, s2 = s2, s1\n",
    "    \n",
    "    s1 = [0]+[int(l) for l in s1]\n",
    "    s2 = [int(l) for l in s2]\n",
    "\n",
    "    d = len(s1)-len(s2)\n",
    "    carry = 0\n",
    "    for i in range(len(s1)-1, -1, -1):\n",
    "        if i-d < 0 and not carry:\n",
    "            break\n",
    "        s1[i] = s1[i] + carry + (s2[i-d] if 0 <= i-d else 0)\n",
    "        if s1[i] >= c:\n",
    "            s1[i] -= c\n",
    "            carry = 1\n",
    "        else:\n",
    "            carry = 0\n",
    "    \n",
    "    return \"\".join(map(str, s1)).lstrip('0')\n",
    "\n",
    "def sumOfTwoNums(arr: list[int]):\n",
    "    if not arr:\n",
    "        return 0\n",
    "    if len(arr) == 1:\n",
    "        return arr[0]\n",
    "    arr.sort()\n",
    "    num1 = \"\".join(map(str, arr[0::2]))\n",
    "    num2 = \"\".join(map(str, arr[1::2]))\n",
    "    return sum_strings(num1, num2)\n",
    "\n",
    "sumOfTwoNums([6, 8, 4, 5, 2, 3, 0])\n",
    "# https://www.geeksforgeeks.org/minimum-sum-two-numbers-formed-digits-array/\n",
    "# https://www.geeksforgeeks.org/problems/minimum-sum4058/1?itm_source=geeksforgeeks&itm_medium=article&itm_campaign=practice_card"
   ]
  },
  {
   "cell_type": "markdown",
   "metadata": {},
   "source": [
    "### Задача 23\n",
    " Реализовать алгоритм пирамидальной сортировки.\n"
   ]
  },
  {
   "cell_type": "code",
   "execution_count": 134,
   "metadata": {},
   "outputs": [
    {
     "data": {
      "text/plain": [
       "[0, 1, 2, 3, 4, 5, 6, 7, 8, 9]"
      ]
     },
     "execution_count": 134,
     "metadata": {},
     "output_type": "execute_result"
    }
   ],
   "source": [
    "# нт для макс, но мона с минусами конеш, с другой стороны а строки вы как сортировать будете)))\n",
    "# import heapq\n",
    "\n",
    "def heapify(arr, n, i):\n",
    "    largest = i\n",
    "    l = 2*i + 1\n",
    "    r = 2*i + 2\n",
    "\n",
    "    if l < n and arr[l] > arr[largest]:\n",
    "        largest = l\n",
    "    if r < n and arr[r] > arr[largest]:\n",
    "        largest = r\n",
    "\n",
    "    if largest != i:\n",
    "        arr[i], arr[largest] = arr[largest], arr[i]\n",
    "        heapify(arr, n, largest)\n",
    "\n",
    "def make_heap(arr: list):\n",
    "    non_leaf = len(arr)//2 -1\n",
    "    for i in range(non_leaf, -1, -1):\n",
    "        heapify(arr, len(arr), i)\n",
    "    \n",
    "\n",
    "def sort_heap(arr: list):\n",
    "    for i in range(len(arr)-1, -1, -1):\n",
    "        arr[0], arr[i] = arr[i], arr[0]\n",
    "        heapify(arr, i, 0)\n",
    "    return arr\n",
    "\n",
    "def pyramid_sort(arr, l=0, r=None):\n",
    "    if not r:\n",
    "        r = len(arr)-1\n",
    "    make_heap(arr)\n",
    "    sort_heap(arr)\n",
    "\n",
    "arr = [4, 8, 2, 9, 3, 1, 0, 7, 6, 5]\n",
    "pyramid_sort(arr)\n",
    "arr\n",
    "\n",
    "# https://www.geeksforgeeks.org/problems/heap-sort/1"
   ]
  },
  {
   "cell_type": "markdown",
   "metadata": {},
   "source": [
    "### Задача 24\n",
    " Дана строка S с повторяющимися буквами. Переставить буквы таким образом, чтобы одинаковые буквы не стояли рядом.\n",
    "\n",
    "Примечание: строка содержит только строчные латинские буквы и может иметь множество решений. Верните любое из них."
   ]
  },
  {
   "cell_type": "code",
   "execution_count": 185,
   "metadata": {},
   "outputs": [
    {
     "data": {
      "text/plain": [
       "'babnb'"
      ]
     },
     "execution_count": 185,
     "metadata": {},
     "output_type": "execute_result"
    }
   ],
   "source": [
    "import heapq\n",
    "\n",
    "def rearrangeString(s):\n",
    "    lets = {}\n",
    "    for l in s:\n",
    "        lets[l] = lets.get(l, 0) + 1\n",
    "    \n",
    "    # ну тут тока минусы або де ваша куЧа нормальня\n",
    "    heap = [(-v, k) for k, v in list(lets.items())]\n",
    "    heapq.heapify(heap) \n",
    "    \n",
    "    prev = None\n",
    "    ans = \"\"\n",
    "    while heap:\n",
    "        times, let = heapq.heappop(heap)\n",
    "        ans += let\n",
    "        \n",
    "        if prev and prev[0] != 0:\n",
    "            heapq.heappush(heap, prev)\n",
    "        prev = (times + 1, let)\n",
    "\n",
    "\n",
    "    return ans if len(ans) == len(s) else \"-1\"\n",
    "\n",
    "rearrangeString(\"abbnb\")  \n",
    "# https://www.geeksforgeeks.org/problems/rearrange-characters4649/1?itm_source=geeksforgeeks&itm_medium=article&itm_campaign=practice_card"
   ]
  },
  {
   "cell_type": "markdown",
   "metadata": {},
   "source": [
    "### Задача 25\n",
    " Дан невзвешенный/взвешенный неориентированный/ориентированный граф, содержащий N вершин и M ребер, представленный множеством ребер/матрицей смежности/списком смежности/матрицей инцидентности. Составить список ребер/матрицу смежности/список смежности/матрицу инцидентности данного графа.\n"
   ]
  },
  {
   "cell_type": "code",
   "execution_count": null,
   "metadata": {},
   "outputs": [],
   "source": [
    "# Нерешаемая задача ну или кому то делать не нехер или нехер но лень"
   ]
  },
  {
   "cell_type": "markdown",
   "metadata": {},
   "source": [
    "### Задача 26\n",
    " Дано N городов и известны расстояния между ними. Не все города связаны друг с другом дорогой. Найти все возможные маршруты из города А в город В (ни в один город не заходить дважды). Определить самый длинный и самый короткий маршрут.\n"
   ]
  },
  {
   "cell_type": "code",
   "execution_count": 138,
   "metadata": {},
   "outputs": [
    {
     "name": "stdout",
     "output_type": "stream",
     "text": [
      "routes=[[(0, 1, 2), (1, 2, 2)], [(0, 2, 7)]]\n",
      "Min route: [(0, 1, 2), (1, 2, 2)] with cost 4\n",
      "Max route: [(0, 2, 7)] with cost 7\n"
     ]
    }
   ],
   "source": [
    "def routes(graph, a, b):\n",
    "    routes = []\n",
    "    visited = [False for _ in range(len(graph))]\n",
    "    route = []\n",
    "    def dfs(v):\n",
    "        nonlocal routes\n",
    "        nonlocal route\n",
    "        visited[v] = True\n",
    "        if v == b:\n",
    "            routes.append(route)\n",
    "            route = []\n",
    "            return\n",
    "        for u, w in graph[v]:\n",
    "            if not visited[u]:\n",
    "                route.append((v, u, w))\n",
    "                dfs(u)\n",
    "                if route: route.pop()\n",
    "                visited[u] = False\n",
    "    dfs(a)\n",
    "    print(f'{routes=}')\n",
    "    min_r = min(routes, key=lambda route: sum([w for u, v, w in route]))\n",
    "    print(f'Min route: {min_r} with cost {sum([w for u, v, w in min_r])}')\n",
    "    max_r = max(routes, key=lambda route: sum([w for u, v, w in route]))\n",
    "    print(f'Max route: {max_r} with cost {sum([w for u, v, w in max_r])}')\n",
    "\n",
    "def add_edge(adj, i, j, w):\n",
    "    adj[i].append((j, w))\n",
    "    adj[j].append((i, w))  \n",
    "\n",
    "V = 4\n",
    "adj = [[] for _ in range(V)]\n",
    "\n",
    "add_edge(adj, 0, 1, 2)\n",
    "add_edge(adj, 0, 2, 7)\n",
    "add_edge(adj, 1, 2, 2)\n",
    "add_edge(adj, 2, 3, 2)\n",
    "\n",
    "\n",
    "routes(adj, 0, 2)      "
   ]
  },
  {
   "cell_type": "markdown",
   "metadata": {},
   "source": [
    "### Задача 27\n",
    " Дан неориентированный невзвешенный граф. Необходимо посчитать количество его компонент связности и вернуть их в виде двумерного списка, количество строк которого соответствует количеству компонент, а в строках содержится множество вершин каждой компоненты."
   ]
  },
  {
   "cell_type": "code",
   "execution_count": null,
   "metadata": {},
   "outputs": [],
   "source": [
    "def count_components(graph):\n",
    "    visited = [False for _ in range(len(graph))]\n",
    "    def dfs(v, comp: list):\n",
    "        comp.append(v)\n",
    "        visited[v]= True\n",
    "\n",
    "        for u in graph[v]:\n",
    "            if not visited[u]:\n",
    "                dfs(u)\n",
    "    \n",
    "    ans = []\n",
    "    comp = []\n",
    "    for v in range(len(graph)):\n",
    "        if not visited[v]:\n",
    "            dfs(v, comp)\n",
    "            ans.append(comp)\n",
    "            comp = []\n",
    "\n",
    "    return ans\n",
    "\n",
    "# https://www.geeksforgeeks.org/problems/connected-components-in-an-undirected-graph/1?itm_source=geeksforgeeks&itm_medium=article&itm_campaign=practice_card"
   ]
  },
  {
   "cell_type": "markdown",
   "metadata": {},
   "source": [
    "### Задача 28\n",
    " Дан ориентированный невзвешенный граф. Определить является ли данный граф ациклическим."
   ]
  },
  {
   "cell_type": "code",
   "execution_count": null,
   "metadata": {},
   "outputs": [
    {
     "data": {
      "text/plain": [
       "True"
      ]
     },
     "execution_count": 73,
     "metadata": {},
     "output_type": "execute_result"
    }
   ],
   "source": [
    "from collections import deque\n",
    "\n",
    "def isCycle_Directed(graph):\n",
    "    in_degree = [0 for _ in range(len(graph))]\n",
    "    for v in range(len(graph)):\n",
    "        for u in graph[v]:\n",
    "            in_degree[u] += 1\n",
    "\n",
    "    q = deque()\n",
    "    for v in range(len(graph)):\n",
    "        if not in_degree[v]:\n",
    "            q.append(v)\n",
    "\n",
    "    while q:\n",
    "        v = q.popleft()\n",
    "\n",
    "        for u in graph[v]:\n",
    "            in_degree[u] -= 1\n",
    "            if not in_degree[u]:\n",
    "                q.append(u)\n",
    "    \n",
    "    return True if max(in_degree) else False\n",
    "\n",
    "V = 6\n",
    "adj = [[] for _ in range(V)]\n",
    "def add_edge(adj, u, v):\n",
    "    adj[u].append(v)\n",
    "add_edge(adj, 0, 1)\n",
    "add_edge(adj, 0, 2)\n",
    "add_edge(adj, 1, 3)\n",
    "# add_edge(adj, 3, 1)\n",
    "add_edge(adj, 4, 1)\n",
    "add_edge(adj, 4, 5)\n",
    "add_edge(adj, 5, 3)\n",
    "\n",
    "isCycle_Directed(adj)\n",
    "# https://www.geeksforgeeks.org/problems/detect-cycle-in-a-directed-graph/1?itm_source=geeksforgeeks&itm_medium=article&itm_campaign=practice_card\n"
   ]
  },
  {
   "cell_type": "markdown",
   "metadata": {},
   "source": [
    "### Задача 29\n",
    "Даны N процессов. Каждый процесс может быть запущен сразу, а может быть только после выполнения некоторого количества предыдущих процессов. Список зависимостей дан в списке depend. depend[i] - список процессов, от которых зависит процесс i. Найти порядок, в котором необходимо выполнять процессы, чтобы зависимый процесс начинался после выполнения предыдущих. Если таких порядков несколько, верните любой. Гарантируется, что существует хотя бы один процесс, который не имеет зависимостей."
   ]
  },
  {
   "cell_type": "code",
   "execution_count": null,
   "metadata": {},
   "outputs": [
    {
     "data": {
      "text/plain": [
       "[0, 4, 2, 1, 5, 3]"
      ]
     },
     "execution_count": 136,
     "metadata": {},
     "output_type": "execute_result"
    }
   ],
   "source": [
    "# Это задача про топологическую сортировку, клянусь всеми органами артема ефимова\n",
    "\n",
    "from collections import deque\n",
    "\n",
    "def top_sort(graph):\n",
    "    in_degree = [0 for _ in range(len(graph))]\n",
    "\n",
    "    for v in range(len(graph)):\n",
    "        for u in graph[v]:\n",
    "            in_degree[u] += 1\n",
    "    \n",
    "    q = deque()\n",
    "\n",
    "    for v in range(len(graph)):\n",
    "        if not in_degree[v]:\n",
    "            q.append(v)\n",
    "    \n",
    "    ans = []\n",
    "\n",
    "    while q:\n",
    "        v = q.popleft()\n",
    "        ans.append(v)\n",
    "\n",
    "        for u in graph[v]:\n",
    "            in_degree[u] -= 1\n",
    "            if not in_degree[u]:\n",
    "                q.append(u)\n",
    "    \n",
    "    return ans\n",
    "\n",
    "V = 6\n",
    "adj = [[] for _ in range(V)]\n",
    "def add_edge(adj, u, v):\n",
    "    adj[u].append(v)\n",
    "add_edge(adj, 0, 1)\n",
    "add_edge(adj, 0, 2)\n",
    "add_edge(adj, 1, 3)\n",
    "# add_edge(adj, 3, 1)\n",
    "add_edge(adj, 4, 1)\n",
    "add_edge(adj, 4, 5)\n",
    "add_edge(adj, 5, 3)\n",
    "\n",
    "top_sort(adj)\n",
    "\n",
    "# https://www.geeksforgeeks.org/problems/topological-sort/1"
   ]
  },
  {
   "cell_type": "markdown",
   "metadata": {},
   "source": [
    "### Задача 30\n",
    " Дана система двусторонних дорог. N-периферией называется множество городов, расстояние от которых до выделенного города (столицы) больше N. Для данного N определите N-периферию.\n"
   ]
  },
  {
   "cell_type": "code",
   "execution_count": 162,
   "metadata": {},
   "outputs": [
    {
     "data": {
      "text/plain": [
       "[3, 4]"
      ]
     },
     "execution_count": 162,
     "metadata": {},
     "output_type": "execute_result"
    }
   ],
   "source": [
    "# сори задачу не пон поэтому не буде\n",
    "from collections import deque\n",
    "\n",
    "def n_periphery(graph, capital, n):\n",
    "    d = [float('-inf') for _ in range(len(graph))]\n",
    "    ans = []\n",
    "    \n",
    "    q = deque()\n",
    "    d[capital] = 0\n",
    "    q.append(capital)\n",
    "\n",
    "    while q:\n",
    "        v = q.popleft()\n",
    "        if d[v] > n:\n",
    "            ans.append(v)\n",
    "        for u, w in graph[v]:\n",
    "            if d[u] == float('-inf'):\n",
    "                d[u] = d[v] + w\n",
    "                q.append(u)\n",
    "\n",
    "    return ans\n",
    "\n",
    "\n",
    "V = 5  \n",
    "edges = [(0, 1, 1), (1, 2, 1), (2, 3, 1), (3, 4, 1)]  \n",
    "s = 0  \n",
    "N = 2  \n",
    "def edjes_to_adj(edges, V):\n",
    "    adj = [[] for _ in range(V)]\n",
    "    for u, v, w in edges:\n",
    "        adj[u].append((v, w))\n",
    "        adj[v].append((u, w))\n",
    "    return adj\n",
    "\n",
    "n_periphery(edjes_to_adj(edges, V), s, N)\n",
    "    \n"
   ]
  },
  {
   "cell_type": "markdown",
   "metadata": {},
   "source": [
    "### Задача 31\n",
    " Система двусторонних дорог такова, что для любой пары городов можно указать соединяющий их путь. Найдите такой город, сумма расстояний от которого до остальных городов минимальна."
   ]
  },
  {
   "cell_type": "code",
   "execution_count": 1,
   "metadata": {},
   "outputs": [
    {
     "name": "stdout",
     "output_type": "stream",
     "text": [
      "1\n",
      "All tests passed!\n"
     ]
    }
   ],
   "source": [
    "def find_center_city(V: int, edges):\n",
    "    d = [[float('inf')]*V for _ in range(V)]\n",
    "\n",
    "    for i in range(V):\n",
    "        d[i][i] = 0\n",
    "    for u, v, w in edges:\n",
    "        d[u][v] = w\n",
    "        d[v][u] = w\n",
    "\n",
    "    for k in range(V):\n",
    "        for i in range(V):\n",
    "            for j in range(V):\n",
    "                d[i][j] = min(d[i][j], d[i][k] + d[k][j])\n",
    "\n",
    "    return d.index(min(d, key=lambda x: sum(x)))\n",
    "\n",
    "n = 4  # количество вершин\n",
    "edges = [(0, 1, 1), (1, 2, 2), (2, 3, 3), (3, 0, 4)]  # список ребер (u, v, w)\n",
    "find_center_city(n, edges)\n",
    "\n",
    "# Simple line graph\n",
    "n = 4\n",
    "edges = [(0, 1, 1), (1, 2, 2), (2, 3, 3)]\n",
    "print(find_center_city(n, edges))\n",
    "assert find_center_city(n, edges) == 1, \"Test failed: Simple line graph\"\n",
    "\n",
    "# Simple cycle graph херня какая то\n",
    "# n = 4\n",
    "# edges = [(0, 1, 1), (1, 2, 2), (2, 3, 3), (3, 0, 4)]\n",
    "# # print(find_center_city(n, edges))\n",
    "\n",
    "# assert find_center_city(n, edges) == 1, \"Test failed: Simple cycle graph\"\n",
    "\n",
    "# Star graph\n",
    "n = 4\n",
    "edges = [(0, 1, 1), (0, 2, 1), (0, 3, 1)]\n",
    "assert find_center_city(n, edges) == 0, \"Test failed: Star graph\"\n",
    "\n",
    "# Complete graph\n",
    "n = 4\n",
    "edges = [(0, 1, 1), (0, 2, 1), (0, 3, 1), (1, 2, 1), (1, 3, 1), (2, 3, 1)]\n",
    "assert find_center_city(n, edges) == 0, \"Test failed: Complete graph\"\n",
    "\n",
    "# One vertex\n",
    "n = 1\n",
    "edges = []\n",
    "assert find_center_city(n, edges) == 0, \"Test failed: One vertex\"\n",
    "\n",
    "# Two vertices\n",
    "n = 2\n",
    "edges = [(0, 1, 1)]\n",
    "assert find_center_city(n, edges) == 0, \"Test failed: Two vertices\"\n",
    "\n",
    "# Line of five vertices\n",
    "n = 5\n",
    "edges = [(0, 1, 1), (1, 2, 2), (2, 3, 3), (3, 4, 4)]\n",
    "assert find_center_city(n, edges) == 2, \"Test failed: Line of five vertices\"\n",
    "\n",
    "print(\"All tests passed!\")"
   ]
  },
  {
   "cell_type": "markdown",
   "metadata": {},
   "source": [
    "### Задача 32\n",
    " За проезд по каждой дороге взымается некоторая пошлина. Найдите путь из города А в город B с минимальной величиной S+P, где S - сумма длин дорог пути, а P - сумма пошлин проезжаемых дорог."
   ]
  },
  {
   "cell_type": "code",
   "execution_count": 2,
   "metadata": {},
   "outputs": [],
   "source": [
    "import heapq\n",
    "\n",
    "def dijkstra(graph, a, b):\n",
    "    d = [float('inf') for _ in range(len(graph))]\n",
    "    p = [None for _ in range(len(graph))]\n",
    "    q = [(0, a)]\n",
    "    heapq.heapify(q)\n",
    "    d[a] = 0\n",
    "\n",
    "    while q:\n",
    "        dst, v = heapq.heappop(q)\n",
    "        if dst > d[v]:\n",
    "            continue\n",
    "        for u, w in graph[v]:\n",
    "            if dst + w < d[u]:\n",
    "                d[u] = dst + w\n",
    "                heapq.heappush(q, (d[u], u))\n",
    "                p[u] = v\n",
    "\n",
    "    return d[b]\n",
    "\n",
    "def solution(a, b, edges, duties): ...\n",
    "    # ну там как то надо будт в вес ребер добавить пошлины, если они не дадутся туда автоматом\n",
    "\n",
    "# https://www.geeksforgeeks.org/problems/implementing-dijkstra-set-1-adjacency-matrix/1\n"
   ]
  },
  {
   "cell_type": "markdown",
   "metadata": {},
   "source": [
    "### Задача 33\n",
    "Дан взвешенный ориентированный граф с n узлами и m ребрами. Узлы пронумерованы от 0 до n-1, необходимо проверить, содержит ли граф цикл отрицательного веса.\n",
    "\n",
    "Примечание: edges[i] состоит из вершин u, v и веса."
   ]
  },
  {
   "cell_type": "code",
   "execution_count": null,
   "metadata": {},
   "outputs": [],
   "source": [
    "\n",
    "def isNegativeWeightCycle(V, edges):\n",
    "    d = [float('inf') for _ in range(V)]\n",
    "    def b_ford(s_v):\n",
    "        d[s_v] = 0\n",
    "\n",
    "        for _ in range(V-1):\n",
    "            for u, v, w in edges: \n",
    "                if d[u] != float('inf') and d[u] + w < d[v]:\n",
    "                    d[v] = d[u] + w\n",
    "\n",
    "        for u, v, w in edges:\n",
    "            if d[u] != float('inf') and d[u] + w < d[v]:\n",
    "                return 1\n",
    "    \n",
    "        return 0\n",
    "    \n",
    "    ans = 0\n",
    "    for v in range(V):\n",
    "        if d[v] == float('inf'):\n",
    "            ans = max(ans, b_ford(v))\n",
    "    \n",
    "    return ans\n",
    "\n",
    "# https://www.geeksforgeeks.org/problems/negative-weight-cycle3504/0"
   ]
  },
  {
   "cell_type": "markdown",
   "metadata": {},
   "source": [
    "### Задача 34\n",
    " Найти минимальное покрывающее дерево для заданного графа. Вывести список его ребер и суммарный вес."
   ]
  },
  {
   "cell_type": "code",
   "execution_count": 15,
   "metadata": {},
   "outputs": [
    {
     "name": "stdout",
     "output_type": "stream",
     "text": [
      "mst edges: [(0, 2, 1), (1, 2, 3)]\n",
      "mst length: 4\n"
     ]
    }
   ],
   "source": [
    "class DSU:\n",
    "    def __init__(self, V):\n",
    "        self.p = [i for i in range(V)]\n",
    "        self.rk = [1 for i in range(V)]\n",
    "\n",
    "    def get_root(self, v):\n",
    "        if self.p[v] == v:\n",
    "            return v\n",
    "        else:\n",
    "            self.p[v] = self.get_root(self.p[v])\n",
    "            return self.p[v]\n",
    "        \n",
    "    def merge(self, u, v):\n",
    "        u, v = self.get_root(u), self.get_root(v)\n",
    "        if u == v:\n",
    "            return False\n",
    "        if self.rk[u] > self.rk[v]:\n",
    "            self.p[v] = u\n",
    "        elif self.rk[v] > self.rk[u]:\n",
    "            self.p[u] = v\n",
    "        else:\n",
    "            self.p[v] = u\n",
    "            self.rk[u] += 1\n",
    "        return True                                            \n",
    "\n",
    "def mst(V, edges):\n",
    "    ans = []\n",
    "    mst_len = 0\n",
    "    dsu = DSU(V)\n",
    "    for w, u, v in sorted(edges):\n",
    "        if dsu.merge(u, v):\n",
    "            ans.append((u, v, w))\n",
    "            mst_len += w\n",
    "\n",
    "    print(f'mst edges: {ans}')\n",
    "    print(f'mst length: {mst_len}')\n",
    "\n",
    "# https://www.geeksforgeeks.org/problems/minimum-spanning-tree/0\n",
    "\n",
    "madj = [[[1, 5], [2, 1]], [[0, 5], [2, 3]], [[1, 3], [0, 1]]]\n",
    "def adj_to_edges(V, adj):\n",
    "    edges = []\n",
    "    for v in range(V):\n",
    "        for u, w in adj[v]:\n",
    "            edges.append((w, v, u))\n",
    "    \n",
    "    return edges\n",
    "\n",
    "mst(3, adj_to_edges(3, madj))\n"
   ]
  },
  {
   "cell_type": "markdown",
   "metadata": {},
   "source": [
    "### Задача 35\n",
    " В неориентированный взвешенный граф добавляют ребра. Напишите программу, которая, после добавления ребер, находит сумму весов ребер в компоненте связности.\n",
    "\n"
   ]
  },
  {
   "cell_type": "code",
   "execution_count": null,
   "metadata": {},
   "outputs": [
    {
     "ename": "ValueError",
     "evalue": "too many values to unpack (expected 2)",
     "output_type": "error",
     "traceback": [
      "\u001b[1;31m---------------------------------------------------------------------------\u001b[0m",
      "\u001b[1;31mValueError\u001b[0m                                Traceback (most recent call last)",
      "Cell \u001b[1;32mIn[33], line 50\u001b[0m\n\u001b[0;32m     47\u001b[0m         \u001b[38;5;28;01melse\u001b[39;00m:\n\u001b[0;32m     48\u001b[0m             dsu\u001b[38;5;241m.\u001b[39mmerge(inp[\u001b[38;5;241m1\u001b[39m], inp[\u001b[38;5;241m2\u001b[39m], inp[\u001b[38;5;241m3\u001b[39m])\n\u001b[1;32m---> 50\u001b[0m \u001b[43msum_edges_in_comp\u001b[49m\u001b[43m(\u001b[49m\u001b[43m)\u001b[49m\n",
      "Cell \u001b[1;32mIn[33], line 40\u001b[0m, in \u001b[0;36msum_edges_in_comp\u001b[1;34m()\u001b[0m\n\u001b[0;32m     39\u001b[0m \u001b[38;5;28;01mdef\u001b[39;00m \u001b[38;5;21msum_edges_in_comp\u001b[39m():\n\u001b[1;32m---> 40\u001b[0m     n, m \u001b[38;5;241m=\u001b[39m \u001b[38;5;28mmap\u001b[39m(\u001b[38;5;28mint\u001b[39m, \u001b[38;5;28minput\u001b[39m()\u001b[38;5;241m.\u001b[39msplit())\n\u001b[0;32m     41\u001b[0m     dsu \u001b[38;5;241m=\u001b[39m DSU(n)\n\u001b[0;32m     43\u001b[0m     \u001b[38;5;28;01mfor\u001b[39;00m _ \u001b[38;5;129;01min\u001b[39;00m \u001b[38;5;28mrange\u001b[39m(m):\n",
      "\u001b[1;31mValueError\u001b[0m: too many values to unpack (expected 2)"
     ]
    }
   ],
   "source": [
    "class DSU:\n",
    "    def __init__(self, V):\n",
    "        self.p = [i for i in range(V)]\n",
    "        self.sums = [0] * V\n",
    "        self.rk = [1 for i in range(V)]\n",
    "\n",
    "    def get_root(self, v):\n",
    "        if self.p[v] == v:\n",
    "            return v\n",
    "        else:\n",
    "            self.p[v] = self.get_root(self.p[v])\n",
    "            return self.p[v]\n",
    "        \n",
    "    def merge(self, u, v, w):\n",
    "        u, v = self.get_root(u), self.get_root(v)\n",
    "        if u == v:\n",
    "            self.sums[v] += w\n",
    "            return\n",
    "        if self.rk[u] > self.rk[v]:\n",
    "            self.p[v] = u\n",
    "            self.sums[u] += self.sums[v] + w\n",
    "            self.sums[v] = 0\n",
    "        elif self.rk[v] > self.rk[u]:\n",
    "            self.p[u] = v\n",
    "            self.sums[v] +=  self.sums[u] + w\n",
    "            self.sums[u] = 0\n",
    "        else:\n",
    "            self.p[v] = u\n",
    "            self.rk[u] += 1\n",
    "            self.sums[u] += self.sums[v] +  w\n",
    "            self.sums[v] = 0\n",
    "        \n",
    "    \n",
    "    def getSum(self, v):\n",
    "        return self.sums[self.get_root(v)]\n",
    "    \n",
    "def sum_edges_in_comp():\n",
    "    n = int(input())\n",
    "    m = int(input())\n",
    "    \n",
    "    dsu = DSU(n)\n",
    "\n",
    "    for _ in range(m):\n",
    "        u, v, w = map(int, input().split())\n",
    "        dsu.merge(u, v, w)\n",
    "    \n",
    "    A = int(input())\n",
    "    print(dsu.getSum(A))\n",
    "sum_edges_in_comp()\n",
    "\n",
    "# https://informatics.msk.ru/mod/statements/view.php?chapterid=1376#1\n",
    "# (Примерно похожая задача, решение корректно только если сделать одекватни ио с помощью сисио)"
   ]
  },
  {
   "cell_type": "markdown",
   "metadata": {},
   "source": [
    "### Задача 36\n",
    " Дан граф представляющий собой транспортную сеть с N вершина пронумерованными 1 до N и M ребрами. Найти максимальный поток из вершины 1 до вершины N.\n"
   ]
  },
  {
   "cell_type": "code",
   "execution_count": null,
   "metadata": {},
   "outputs": [
    {
     "data": {
      "text/plain": [
       "16"
      ]
     },
     "execution_count": 61,
     "metadata": {},
     "output_type": "execute_result"
    }
   ],
   "source": [
    "from collections import deque\n",
    "\n",
    "def findMaxFlow(n, edges): \n",
    "    m=[[0]*n for _ in range(n)]\n",
    "    for u, v, w in edges:\n",
    "        u -= 1; v -= 1\n",
    "        m[u][v] += w\n",
    "        m[v][u] += w\n",
    "    \n",
    "    p = [-1] * n\n",
    "\n",
    "    def bfs():\n",
    "        visited=[False for _ in range(n)]\n",
    "        q=deque()\n",
    "        q.append(0)\n",
    "        visited[0] = True\n",
    "        p[0] = -1\n",
    "        while q:\n",
    "            v = q.popleft()\n",
    "            \n",
    "            for i in range(n):\n",
    "                if m[v][i] > 0 and not visited[i]:\n",
    "                    p[i]=v\n",
    "                    q.append(i)\n",
    "                    visited[i] = True \n",
    "                \n",
    "        return visited[n-1]\n",
    "    \n",
    "    m_flow = 0\n",
    "\n",
    "    while bfs():\n",
    "        p_flow = float('inf')\n",
    "        v = n-1\n",
    "        while v!=0:\n",
    "            u = p[v]\n",
    "            p_flow = min(p_flow, m[u][v])\n",
    "            v = u\n",
    "        \n",
    "        v = n-1\n",
    "        while v!=0:\n",
    "            u = p[v]\n",
    "            m[v][u] += p_flow\n",
    "            m[u][v] -= p_flow\n",
    "            v = u\n",
    "        m_flow += p_flow\n",
    "\n",
    "    return m_flow\n",
    "\n",
    "\n",
    "findMaxFlow(6, [[1, 6, 9], [3, 2, 7], [6, 1, 7], [5, 1, 2], [5, 3, 2], [5, 4, 5], [3, 2, 8], [2, 2, 8], [3, 5, 9], [2, 3, 3]])"
   ]
  },
  {
   "cell_type": "markdown",
   "metadata": {},
   "source": [
    "### Задача 37\n",
    " Дано бинарное дерево. Выполнить прямой/центрированный/обратный/уровневый обход дерева.\n"
   ]
  },
  {
   "cell_type": "code",
   "execution_count": null,
   "metadata": {},
   "outputs": [],
   "source": [
    "def inorder(root):\n",
    "    ans = []\n",
    "    def dfs(v):\n",
    "        if v.left:\n",
    "            dfs(v.left)\n",
    "        ans.append(v.data)\n",
    "        if v.right:\n",
    "            dfs(v.right)\n",
    "    dfs(root)\n",
    "    return ans\n",
    "\n",
    "def preorder(root):\n",
    "    ans = []\n",
    "    def dfs(v):\n",
    "        ans.append(v.data)\n",
    "        if v.left:\n",
    "            dfs(v.left)\n",
    "        if v.right:\n",
    "            dfs(v.right)\n",
    "    dfs(root)\n",
    "    return ans\n",
    "\n",
    "def postorder(root):\n",
    "    ans = []\n",
    "    def dfs(v):\n",
    "        if v.left:\n",
    "            dfs(v.left)\n",
    "        if v.right:\n",
    "            dfs(v.right)\n",
    "        ans.append(v.data)\n",
    "    dfs(root)\n",
    "    return ans\n",
    "\n",
    "# https://www.geeksforgeeks.org/problems/inorder-traversal/1?page=2&category=Tree&sortBy=submissions\n",
    "# https://www.geeksforgeeks.org/problems/preorder-traversal/1?page=2&category=Tree&sortBy=submissions"
   ]
  },
  {
   "cell_type": "markdown",
   "metadata": {},
   "source": [
    "### Задача 38\n",
    " Дано бинарное дерево. Проверить является ли данное дерево сбалансированным."
   ]
  },
  {
   "cell_type": "code",
   "execution_count": null,
   "metadata": {},
   "outputs": [],
   "source": [
    "def isBalanced(root):\n",
    "    def height(v):\n",
    "        l = r = 0\n",
    "        if v.left:\n",
    "            l = height(v.left)\n",
    "        if v.right:\n",
    "            r = height(v.right)\n",
    "        return max(l, r) + 1\n",
    "\n",
    "    l = height(root.left) if root.left else 0\n",
    "    r = height(root.right) if root.right else 0\n",
    "    return abs(r - l) <= 1\n",
    "\n",
    "# https://www.geeksforgeeks.org/problems/check-for-balanced-tree/1?itm_source=geeksforgeeks&itm_medium=article&itm_campaign=practice_card"
   ]
  },
  {
   "cell_type": "markdown",
   "metadata": {},
   "source": [
    "### Задача 39\n",
    " Дано бинарное дерево. Проверить является ли данное дерево бинарным деревом поиска."
   ]
  },
  {
   "cell_type": "code",
   "execution_count": null,
   "metadata": {},
   "outputs": [],
   "source": [
    "def isBST(root, minv=float('-inf'), maxv=float('inf')):\n",
    "    if not root:\n",
    "        return True\n",
    "    if maxv < root.data or root.data < minv:\n",
    "        return False\n",
    "    return isBST(root.left, minv, min(maxv, root.data)) and isBST(root.right, max(minv, root.data), maxv)\n",
    "\n",
    "\n",
    "# https://www.geeksforgeeks.org/problems/check-for-bst/1?itm_source=geeksforgeeks&itm_medium=article&itm_campaign=practice_card\n"
   ]
  },
  {
   "cell_type": "markdown",
   "metadata": {},
   "source": [
    "### Задача 40\n",
    " Дано бинарное дерево. Найти высоту дерева."
   ]
  },
  {
   "cell_type": "code",
   "execution_count": null,
   "metadata": {},
   "outputs": [],
   "source": [
    "\n",
    "def height(self, root, f=False):\n",
    "    l = r = 0\n",
    "    if root.left:\n",
    "        l = height(root.left, True)\n",
    "    if root.right:\n",
    "        r = height(root.right, True)\n",
    "    return max(l, r) + (1 if f else 0)\n",
    "\n",
    "# https://www.geeksforgeeks.org/problems/height-of-binary-tree/1\n"
   ]
  }
 ],
 "metadata": {
  "kernelspec": {
   "display_name": "Python 3",
   "language": "python",
   "name": "python3"
  },
  "language_info": {
   "codemirror_mode": {
    "name": "ipython",
    "version": 3
   },
   "file_extension": ".py",
   "mimetype": "text/x-python",
   "name": "python",
   "nbconvert_exporter": "python",
   "pygments_lexer": "ipython3",
   "version": "3.13.1"
  }
 },
 "nbformat": 4,
 "nbformat_minor": 2
}
