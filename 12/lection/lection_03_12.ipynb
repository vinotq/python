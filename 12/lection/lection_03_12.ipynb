{
 "cells": [
  {
   "cell_type": "markdown",
   "metadata": {},
   "source": [
    "# **Lection #8?**:\n",
    "### **Theme**: MathLib\n",
    "##### **Date**: 03.12.24"
   ]
  },
  {
   "cell_type": "code",
   "execution_count": null,
   "metadata": {},
   "outputs": [],
   "source": [
    "import matplotlib.pyplot as plt\n",
    "\n",
    "plt.plot([1, 2, 3, 4], [1, 4, 9, 16], \"r1\")\n",
    "plt.ylabel('some numbers')\n",
    "plt.show()"
   ]
  },
  {
   "cell_type": "code",
   "execution_count": null,
   "metadata": {},
   "outputs": [],
   "source": [
    "plt.plot([1, 2, 3, 4], [1, 4, 9, 16], \"r1\")\n",
    "plt.axis([0, 6, 0, 20])"
   ]
  },
  {
   "cell_type": "code",
   "execution_count": null,
   "metadata": {},
   "outputs": [],
   "source": [
    "import math\n",
    "\n",
    "def f(x):\n",
    "    a = 2\n",
    "    b = 7\n",
    "    c = 1.4889113248\n",
    "    return a * math.sin(b * x) - c\n",
    "\n",
    "x = list(range(-5, 5))\n",
    "y = [f(i) for i in x]\n",
    "\n",
    "plt.plot(x, y)\n",
    "plt.show()"
   ]
  },
  {
   "cell_type": "code",
   "execution_count": 114,
   "metadata": {},
   "outputs": [
    {
     "data": {
      "text/plain": [
       "array([[ 25.,  16.,   7.,  -2., -11.],\n",
       "       [ 15.,  10.,   5.,   0.,  -5.],\n",
       "       [  5.,   4.,   3.,   2.,   1.],\n",
       "       [ -5.,  -2.,   1.,   4.,   7.],\n",
       "       [-15.,  -8.,  -1.,   6.,  13.]])"
      ]
     },
     "execution_count": 114,
     "metadata": {},
     "output_type": "execute_result"
    }
   ],
   "source": [
    "import numpy as np\n",
    "\n",
    "x = np.arange(-5., 5., 1)\n",
    "x.reshape(5, 2) @ x.reshape(2, 5)\n",
    "\n"
   ]
  },
  {
   "cell_type": "code",
   "execution_count": 115,
   "metadata": {},
   "outputs": [
    {
     "data": {
      "text/plain": [
       "array([[ 40.,  22.,   4., -14., -32.],\n",
       "       [ 20.,  10.,   0., -10., -20.],\n",
       "       [  0.,  -2.,  -4.,  -6.,  -8.],\n",
       "       [-20., -14.,  -8.,  -2.,   4.],\n",
       "       [-40., -26., -12.,   2.,  16.]])"
      ]
     },
     "execution_count": 115,
     "metadata": {},
     "output_type": "execute_result"
    }
   ],
   "source": [
    "(x.reshape(5, 2) @ x.reshape(2, 5)) * 2 - 10"
   ]
  },
  {
   "cell_type": "code",
   "execution_count": null,
   "metadata": {},
   "outputs": [],
   "source": [
    "def f(x):\n",
    "    a = 2\n",
    "    b = 7\n",
    "    c = 1.4889113248\n",
    "    return a * np.sin(b * x) - c\n",
    "\n",
    "x = np.arange(-5., 5., 0.01)\n",
    "y = f(x)\n",
    "\n",
    "plt.plot(x, y, \"r\")\n",
    "plt.plot(x-0.5, y, \"y\")\n",
    "plt.plot(x+0.1488, y, \"g\")\n",
    "plt.axhline(0, color=\"black\")\n",
    "plt.show()"
   ]
  },
  {
   "cell_type": "code",
   "execution_count": null,
   "metadata": {},
   "outputs": [],
   "source": [
    "import matplotlib.pyplot as plt\n",
    "import numpy as np\n",
    "\n",
    "x = np.arange(-5.0, 5.0, 0.01)\n",
    "y = [1 if i == -5 else -1 if i > 4.98 else 0 for i in x]\n",
    "y2 = [-1 if i < 0 else 1 for i in x]\n",
    "\n",
    "plt.plot(x, y, \"r\")\n",
    "plt.plot(x, y2, \"black\")\n",
    "plt.ylabel(\"some numbers\")\n",
    "plt.show()\n"
   ]
  },
  {
   "cell_type": "code",
   "execution_count": null,
   "metadata": {},
   "outputs": [],
   "source": [
    "import plotly.express as px\n",
    "import pandas\n",
    "\n",
    "def f(x):\n",
    "    a = 2\n",
    "    b = 7\n",
    "    c = 1.4889113248\n",
    "    return a * np.sin(b * x) - c\n",
    "\n",
    "x = np.arange(-5.0, 5.0, 0.01)\n",
    "y = f(x)\n",
    "\n",
    "df = pandas.DataFrame({\"x\": x, \"y\": y})\n",
    "\n",
    "fig = px.line(df, x=\"x\", y=\"y\")\n",
    "\n",
    "fig.show()"
   ]
  }
 ],
 "metadata": {
  "kernelspec": {
   "display_name": "Python 3",
   "language": "python",
   "name": "python3"
  },
  "language_info": {
   "codemirror_mode": {
    "name": "ipython",
    "version": 3
   },
   "file_extension": ".py",
   "mimetype": "text/x-python",
   "name": "python",
   "nbconvert_exporter": "python",
   "pygments_lexer": "ipython3",
   "version": "3.12.7"
  }
 },
 "nbformat": 4,
 "nbformat_minor": 2
}
