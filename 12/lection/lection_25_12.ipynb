{
 "cells": [
  {
   "cell_type": "markdown",
   "metadata": {},
   "source": [
    "# **Lection #11**:\n",
    "\n",
    "### **Theme**:\n",
    "\n",
    "##### **Date**: 25.12.24\n"
   ]
  },
  {
   "cell_type": "markdown",
   "metadata": {},
   "source": [
    "#### 1. Написать функцию, которая принимает словарь и строку. Возвращает список значений, соответствующих всем ключам, в которых присутствует эта строка.\n",
    "\n",
    "**Пример**: `function({‘cat’: 1, ‘dog’: 2, ‘mouse’: 3}, ‘o’) -> [2, 3]`\n"
   ]
  },
  {
   "cell_type": "code",
   "execution_count": 7,
   "metadata": {},
   "outputs": [
    {
     "data": {
      "text/plain": [
       "[2, 3]"
      ]
     },
     "execution_count": 7,
     "metadata": {},
     "output_type": "execute_result"
    }
   ],
   "source": [
    "def looking_for_substr(dictionary: dict, string: str) -> list:\n",
    "    if not isinstance(string, str):\n",
    "        return TypeError\n",
    "\n",
    "    if not isinstance(dictionary, dict):\n",
    "        return TypeError\n",
    "\n",
    "    if not dictionary or not string:\n",
    "        return ValueError\n",
    "\n",
    "    result = []\n",
    "\n",
    "    for key, value in dictionary.items():\n",
    "        if string in key:\n",
    "            result.append(value)\n",
    "\n",
    "    return result\n",
    "\n",
    "\n",
    "looking_for_substr({\"cat\": 1, \"dog\": 2, \"mouse\": 3}, \"o\")"
   ]
  },
  {
   "cell_type": "markdown",
   "metadata": {},
   "source": [
    "#### 2. Написать функцию-генератор, которая принимает число `N` и булевый аргумент.\n",
    "\n",
    "Если второй аргумент равен `True`, генерируемые значения должны быть чётными. Если `False`, то нечётными.\n",
    "\n",
    "По умолчанию этот аргумент равен `True`. Генератор “выдаёт” значения от **0 до N** включительно c указанным шагом.\n"
   ]
  },
  {
   "cell_type": "code",
   "execution_count": 14,
   "metadata": {},
   "outputs": [
    {
     "name": "stdout",
     "output_type": "stream",
     "text": [
      "0 2 4 6 8\n",
      "1 3 5 7 9\n"
     ]
    }
   ],
   "source": [
    "def generartor(n: int, bool_arg: bool) -> int:\n",
    "    if not isinstance(n, int):\n",
    "        return TypeError\n",
    "\n",
    "    if not isinstance(bool_arg, bool):\n",
    "        return TypeError\n",
    "\n",
    "    if bool_arg:\n",
    "        for i in range(0, n + 1, 2):\n",
    "            yield i\n",
    "    else:\n",
    "        for i in range(1, n + 1, 2):\n",
    "            yield i\n",
    "\n",
    "\n",
    "g1 = generartor(10, True)\n",
    "print(next(g1), next(g1), next(g1), next(g1), next(g1))\n",
    "\n",
    "g2 = generartor(10, False)\n",
    "print(next(g2), next(g2), next(g2), next(g2), next(g2))"
   ]
  },
  {
   "cell_type": "markdown",
   "metadata": {},
   "source": [
    "#### 3. Написать функцию, принимающую список любых значений.\n",
    "\n",
    "Функция возвращает `True`, если\n",
    "выполнены все три условия:\n",
    "\n",
    "1. список не пустой;\n",
    "2. все элементы списка - строки;\n",
    "3. в списке нет повторяющихся значений.\n",
    "\n",
    "Во всех остальных случаях функция должна возвращать `False`.\n",
    "\n",
    "**Примеры**: `function([‘cat’, ‘dog’]) -> True; function([3, ‘cat’]) -> False`\n"
   ]
  },
  {
   "cell_type": "code",
   "execution_count": 2,
   "metadata": {},
   "outputs": [
    {
     "name": "stdout",
     "output_type": "stream",
     "text": [
      "True\n",
      "False\n",
      "False\n"
     ]
    }
   ],
   "source": [
    "def checkup(list_of_strs: list) -> bool:\n",
    "    if not isinstance(list_of_strs, list):\n",
    "        return TypeError\n",
    "\n",
    "    if not list_of_strs:\n",
    "        return False\n",
    "\n",
    "    if any(not isinstance(element, str) for element in list_of_strs):\n",
    "        return False\n",
    "\n",
    "    if any(list_of_strs.count(element) > 1 for element in list_of_strs):\n",
    "        return False\n",
    "\n",
    "    return True\n",
    "\n",
    "print(checkup([\"cat\", \"dog\"]))\n",
    "print(checkup([\"cat\", \"dog\", \"cat\"]))\n",
    "print(checkup([\"cat\", \"dog\", 3]))"
   ]
  }
 ],
 "metadata": {
  "kernelspec": {
   "display_name": "Python 3",
   "language": "python",
   "name": "python3"
  },
  "language_info": {
   "codemirror_mode": {
    "name": "ipython",
    "version": 3
   },
   "file_extension": ".py",
   "mimetype": "text/x-python",
   "name": "python",
   "nbconvert_exporter": "python",
   "pygments_lexer": "ipython3",
   "version": "3.12.7"
  }
 },
 "nbformat": 4,
 "nbformat_minor": 2
}
