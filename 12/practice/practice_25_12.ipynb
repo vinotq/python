{
 "cells": [
  {
   "cell_type": "markdown",
   "metadata": {},
   "source": [
    "# **Practice.**\n",
    "\n",
    "##### 25.12.24\n"
   ]
  },
  {
   "cell_type": "markdown",
   "metadata": {},
   "source": [
    "Напишите описанную ниже систему классов и продемонстрируйте их работу:\n",
    "\n",
    "Класс `Counter` (Счетчик):\n",
    "\n",
    "Объект этого класса управляет внутренним скрытым свойством `value` (значение). Это свойство нельзя поменять напрямую, а получить можно только через property `value`, доступного только для чтения.\n",
    "\n",
    "Значение при этом меняется методом `tick`, а шаг, на который меняется счетчик этим методом, определяется свойством класса `step`. Метод `reset` обнуляет счетчик. Класс `Counter` и любой класс потомок должен использовать `Singleton`. При попытке создания второго объекта этого класса должен возвращаться уже существующий объект.\n",
    "\n",
    "Наследуйте от класса `Counter` классы `DownwardCounter` (с шагом -1), `UpwardCounter` (с шагом +1).\n",
    "\n",
    "Продемонстрируйте работу классов и методов.\n"
   ]
  },
  {
   "cell_type": "code",
   "execution_count": 14,
   "metadata": {},
   "outputs": [
    {
     "data": {
      "text/plain": [
       "False"
      ]
     },
     "execution_count": 14,
     "metadata": {},
     "output_type": "execute_result"
    }
   ],
   "source": [
    "class Counter:\n",
    "    step = 1\n",
    "    __exist = {}\n",
    "\n",
    "    def __new__(cls):\n",
    "        if f\"{cls.__name__}{cls.step}\" not in cls.__exist:\n",
    "            cls.__exist[f\"{cls.__name__}{cls.step}\"] = super().__new__(cls)\n",
    "        return cls.__exist[f\"{cls.__name__}{cls.step}\"]\n",
    "\n",
    "    def __init__(self):\n",
    "        self.__value = 0\n",
    "\n",
    "    @property\n",
    "    def value(self):\n",
    "        return self.__value\n",
    "\n",
    "    def tick(self):\n",
    "        self.__value += self.step\n",
    "\n",
    "    def reset(self):\n",
    "        self.__value = 0\n",
    "\n",
    "\n",
    "class DownwardCounter(Counter):\n",
    "    step = -1\n",
    "\n",
    "\n",
    "class UpwardCounter(Counter):\n",
    "    step = 1\n",
    "\n",
    "\n",
    "c = Counter()\n",
    "\n",
    "c1 = Counter()\n",
    "\n",
    "cD1 = DownwardCounter()\n",
    "cU1 = UpwardCounter()"
   ]
  },
  {
   "cell_type": "markdown",
   "metadata": {},
   "source": [
    "Напишите классы `Person` (Человек), `Student` (Студент).\n",
    "\n",
    "У `человека` есть `имя` и `возраст`, а также `метод строкового представления` и метод класса (classmethod) `from_birthdate` для создания человека из имени и даты рождения. Метод `from_birthdate` принимает дату формата datetime.date, альтернативные варианты допустимы, но будут оцениваться ниже.Погрешность високосных лет можно не учитывать.\n",
    "\n",
    "`Студент` наследуется от `человека`, но имеет атрибут `название группы`. **Вы должны запретить создавать студента с такими же именем и группой, как у уже существующего**. Если такой студент уже есть, вместо создания нового студента нужно возвращать уже существующего студента с этими параметрами группы и имени.\n",
    "\n",
    "Продемонстрировать работу всех классов и методов.\n"
   ]
  },
  {
   "cell_type": "code",
   "execution_count": 54,
   "metadata": {},
   "outputs": [
    {
     "name": "stdout",
     "output_type": "stream",
     "text": [
      "Name: Sergay\n",
      "Age of Sergay: 47\n",
      "\n",
      "Name: Ivan\n",
      "Age of Ivan: 24\n",
      "\n",
      "Name: Oleg\n",
      "Age of Oleg: 10\n",
      "Group of Oleg: K0709-23-1\n",
      "\n",
      "Name: Vlad\n",
      "Age of Vlad: 52\n",
      "Group of Vlad: K0709-23-4\n",
      "\n",
      "Name: Oleg\n",
      "Age of Oleg: 4\n",
      "Group of Oleg: K0709-23-47\n",
      "\n"
     ]
    }
   ],
   "source": [
    "from datetime import datetime\n",
    "\n",
    "\n",
    "class Person:\n",
    "    def __init__(self, name: str, age: int, *args):\n",
    "        self.name = name\n",
    "        self.age = age\n",
    "\n",
    "    @classmethod\n",
    "    def from_birthdate(cls, name: str, birthdate: datetime.date, *args):\n",
    "        return cls(name, (datetime.now().year - birthdate.year), *args)\n",
    "\n",
    "    def __str__(self):\n",
    "        return f\"Name: {self.name}\\nAge of {self.name}: {self.age}\\n\"\n",
    "\n",
    "\n",
    "class Student(Person):\n",
    "    __studs = {}\n",
    "\n",
    "    def __new__(cls, name: str, age: int, group: str):\n",
    "        if f\"{name}{age}{group}\" not in cls.__studs:\n",
    "            cls.__studs[f\"{name}{age}{group}\"] = super().__new__(cls)\n",
    "        return cls.__studs[f\"{name}{age}{group}\"]\n",
    "\n",
    "    def __init__(self, name: str, age: int, group: str):\n",
    "        super().__init__(name, age)\n",
    "        self.group = group\n",
    "\n",
    "    def __str__(self):\n",
    "        return f\"Name: {self.name}\\nAge of {self.name}: {self.age}\\nGroup of {self.name}: {self.group}\\n\"\n",
    "\n",
    "\n",
    "\n",
    "p1 = Person(\"Sergay\", 47)\n",
    "print(p1)\n",
    "\n",
    "p = Person.from_birthdate(\"Ivan\", datetime(2000, 10, 15))\n",
    "print(p)\n",
    "\n",
    "s = Student.from_birthdate(\"Oleg\", datetime(2014, 10, 31), \"K0709-23-1\")\n",
    "print(s)\n",
    "\n",
    "s1 = Student(\"Vlad\", 52, \"K0709-23-4\")\n",
    "print(s1)\n",
    "\n",
    "s3 = Student.from_birthdate(\"Oleg\", datetime(2020, 10, 31), \"K0709-23-47\")\n",
    "print(s3)\n"
   ]
  }
 ],
 "metadata": {
  "kernelspec": {
   "display_name": "Python 3",
   "language": "python",
   "name": "python3"
  },
  "language_info": {
   "codemirror_mode": {
    "name": "ipython",
    "version": 3
   },
   "file_extension": ".py",
   "mimetype": "text/x-python",
   "name": "python",
   "nbconvert_exporter": "python",
   "pygments_lexer": "ipython3",
   "version": "3.12.7"
  }
 },
 "nbformat": 4,
 "nbformat_minor": 2
}
