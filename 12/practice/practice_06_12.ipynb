{
 "cells": [
  {
   "cell_type": "markdown",
   "metadata": {},
   "source": [
    "# **Practice**:\n",
    "\n",
    "### **Theme**:\n",
    "\n",
    "##### **Date**: 06.12.24\n"
   ]
  },
  {
   "cell_type": "code",
   "execution_count": null,
   "metadata": {},
   "outputs": [],
   "source": [
    "# полтора часа задачи"
   ]
  },
  {
   "cell_type": "code",
   "execution_count": null,
   "metadata": {},
   "outputs": [],
   "source": [
    "from collections import deque\n",
    "\n",
    "\n",
    "class Node:\n",
    "    def __init__(self, val):\n",
    "        self.right = None\n",
    "        self.data = val\n",
    "        self.left = None\n",
    "\n",
    "\n",
    "class Solution:\n",
    "    def minTime(self, root, target):\n",
    "        def parentMap(node, parent, p_map):\n",
    "            if not node:\n",
    "                return None\n",
    "\n",
    "            p_map[node] = parent\n",
    "            l_res = parentMap(node.left, node, p_map)\n",
    "            r_res = parentMap(node.right, node, p_map)\n",
    "\n",
    "            if node.data == target:\n",
    "                return node\n",
    "            return l_res or r_res\n",
    "\n",
    "        parent_map = {}\n",
    "        node_trgt = parentMap(root, None, parent_map)\n",
    "\n",
    "        q = deque([node_trgt])\n",
    "        vis = set([node_trgt])\n",
    "        time = 0\n",
    "\n",
    "        while q:\n",
    "            s = len(q)\n",
    "            is_burned = False\n",
    "\n",
    "            for _ in range(s):\n",
    "                cur = q.popleft()\n",
    "\n",
    "                if cur.left and cur.left not in vis:\n",
    "                    q.append(cur.left)\n",
    "                    vis.add(cur.left)\n",
    "                    is_burned = True\n",
    "\n",
    "                if cur.right and cur.right not in vis:\n",
    "                    q.append(cur.right)\n",
    "                    vis.add(cur.right)\n",
    "                    is_burned = True\n",
    "\n",
    "                if cur in parent_map and parent_map[cur] and parent_map[cur] not in vis:\n",
    "                    q.append(parent_map[cur])\n",
    "                    vis.add(parent_map[cur])\n",
    "                    is_burned = True\n",
    "\n",
    "            if is_burned:\n",
    "                time += 1\n",
    "\n",
    "        return time"
   ]
  }
 ],
 "metadata": {
  "kernelspec": {
   "display_name": "Python 3",
   "language": "python",
   "name": "python3"
  },
  "language_info": {
   "name": "python",
   "version": "3.12.7"
  }
 },
 "nbformat": 4,
 "nbformat_minor": 2
}
