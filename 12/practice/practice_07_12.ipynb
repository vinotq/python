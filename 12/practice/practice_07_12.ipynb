{
 "cells": [
  {
   "cell_type": "markdown",
   "metadata": {},
   "source": [
    "# **Practice**\n",
    "\n",
    "##### 07.12.24\n"
   ]
  },
  {
   "cell_type": "code",
   "execution_count": null,
   "metadata": {},
   "outputs": [],
   "source": [
    "def is_valid_IP(strng):\n",
    "    str = strng.split('.')\n",
    "    if len(str) != 4:\n",
    "        return False\n",
    "\n",
    "    for i in str:\n",
    "        if i[0] == \"0\" and len(i) > 1:\n",
    "            return False\n",
    "\n",
    "        if not i.isdigit():\n",
    "            return False\n",
    "\n",
    "        if int(i) > 255 or int(i) < 0:\n",
    "            return False\n",
    "    return True"
   ]
  },
  {
   "cell_type": "code",
   "execution_count": null,
   "metadata": {},
   "outputs": [],
   "source": [
    "def count_smileys(arr):\n",
    "    # the number of valid smiley faces in array/list\n",
    "    # Valid smiley face examples: :) :D ;-D :~)\n",
    "    # Invalid smiley faces examples: ;( :> :} :]\n",
    "    count = 0\n",
    "    for i in arr:\n",
    "        if i[0] == \":\" or i[0] == \";\":\n",
    "            if len(i) == 2:\n",
    "                if i[1] == \")\" or i[1] == \"D\":\n",
    "                    count += 1\n",
    "            elif len(i) == 3:\n",
    "                if i[1] == \"-\" or i[1] == \"~\":\n",
    "                    if i[2] == \")\" or i[2] == \"D\":\n",
    "                        count += 1\n",
    "    return count"
   ]
  },
  {
   "cell_type": "code",
   "execution_count": 9,
   "metadata": {},
   "outputs": [
    {
     "data": {
      "text/plain": [
       "216"
      ]
     },
     "execution_count": 9,
     "metadata": {},
     "output_type": "execute_result"
    }
   ],
   "source": [
    "import heapq\n",
    "\n",
    "def gen():\n",
    "    c = [1]\n",
    "    while True:\n",
    "        h = heapq.heappop(c)\n",
    "\n",
    "        while c and c[0] == h:\n",
    "            heapq.heappop(c)\n",
    "\n",
    "        for i in [2, 3, 5]:\n",
    "            heapq.heappush(c, h * i)\n",
    "\n",
    "        yield h\n",
    "\n",
    "\n",
    "def hamming(n):\n",
    "    # A Hamming number is a positive integer of the form 2^i3^j5^k, for some non-negative integers i, j, and k.\n",
    "    generator = gen()\n",
    "    return [next(generator) for _ in range(n)][-1]\n",
    "\n",
    "hamming(47)"
   ]
  }
 ],
 "metadata": {
  "kernelspec": {
   "display_name": "Python 3",
   "language": "python",
   "name": "python3"
  },
  "language_info": {
   "codemirror_mode": {
    "name": "ipython",
    "version": 3
   },
   "file_extension": ".py",
   "mimetype": "text/x-python",
   "name": "python",
   "nbconvert_exporter": "python",
   "pygments_lexer": "ipython3",
   "version": "3.12.7"
  }
 },
 "nbformat": 4,
 "nbformat_minor": 2
}
