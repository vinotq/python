{
 "cells": [
  {
   "cell_type": "markdown",
   "metadata": {},
   "source": [
    "# **Practice**\n",
    "\n",
    "##### 19.12.24\n"
   ]
  },
  {
   "cell_type": "code",
   "execution_count": null,
   "metadata": {},
   "outputs": [],
   "source": [
    "def testit(act, s):\n",
    "    return ''.join(\n",
    "        \"_\" if act[i] == \"run\" and s[i] == \"_\" else\n",
    "        \"|\" if act[i] == \"jump\" and s[i] == \"|\" else\n",
    "        \"/\" if act[i] == \"run\" and s[i] == \"|\" else\n",
    "        \"x\" if act[i] == \"jump\" and s[i] == \"_\" else\n",
    "        \"|\" if act[i] == \"jump\" and s[i] == \"/\" else \"\"\n",
    "        for i in range(len(act))\n",
    "    )"
   ]
  },
  {
   "cell_type": "code",
   "execution_count": null,
   "metadata": {},
   "outputs": [],
   "source": [
    "class Phone:\n",
    "    def __init__(self):\n",
    "        self.ring = \"\"\n",
    "        self.screen = \"\"\n",
    "        self.micro = \"\"\n",
    "        self.contact = None\n",
    "\n",
    "    def incoming_call(self, num):\n",
    "        c = None\n",
    "        for contact in contacts:\n",
    "            if contact[\"number\"] == num:\n",
    "                self.contact = contact\n",
    "                self.ring = contact[\"ring\"]\n",
    "                self.screen = \"Call: {name}\\nNumber: {number}\".format(\n",
    "                    **contact)\n",
    "                self.micro = \"\"\n",
    "                break\n",
    "\n",
    "    def connect(self):\n",
    "        self.ring = \"\"\n",
    "        self.screen = \"\"\n",
    "        if self.contact:\n",
    "            self.micro = f\"Hello, {self.contact[\"name\"]}!\"\n",
    "        else:\n",
    "            self.micro = \"Hello, who is speaking, please?\"\n",
    "\n",
    "    def hangup(self):\n",
    "        self.ring = \"\"\n",
    "        self.screen = \"\"\n",
    "        self.micro = \"\""
   ]
  },
  {
   "cell_type": "code",
   "execution_count": null,
   "metadata": {},
   "outputs": [],
   "source": [
    "def testit(s):\n",
    "    res = 0\n",
    "    op = \"=-*/\"\n",
    "\n",
    "    if not s or len(s) % 2 == 0:\n",
    "        return None\n",
    "\n",
    "    for i in range(0, len(s) - 1, 2):\n",
    "        s[i] = (ord(i) - 65)\n",
    "        s[i+1] = op[(ord(s[i+1]) - 65) % 4]\n",
    "\n",
    "    return eval(\"\".join(s))"
   ]
  }
 ],
 "metadata": {
  "kernelspec": {
   "display_name": "Python 3",
   "language": "python",
   "name": "python3"
  },
  "language_info": {
   "name": "python",
   "version": "3.12.7"
  }
 },
 "nbformat": 4,
 "nbformat_minor": 2
}
