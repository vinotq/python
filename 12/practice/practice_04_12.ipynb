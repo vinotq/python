{
 "cells": [
  {
   "cell_type": "markdown",
   "metadata": {},
   "source": [
    "# **Practice**:\n",
    "### **Theme**: \n",
    "##### **Date**: 04.12.24"
   ]
  },
  {
   "cell_type": "code",
   "execution_count": null,
   "metadata": {},
   "outputs": [],
   "source": [
    "class Node:\n",
    "    def __init__(self, val):\n",
    "        self.right = None\n",
    "        self.data = val\n",
    "        self.left = None\n",
    "\n",
    "class Solution:\n",
    "    def InOrder(self,root):\n",
    "        if not root:\n",
    "            return []\n",
    "        return self.InOrder(root.left) + [root] + self.InOrder(root.right)\n",
    "\n",
    "    def buildBST(self, arr_):\n",
    "        if not arr_:\n",
    "            return None\n",
    "\n",
    "        mid_ = len(arr_) // 2\n",
    "\n",
    "        arr_[mid_].left = self.buildBST(arr_[:mid_])\n",
    "        arr_[mid_].rigft = self.buildBST(arr_[mid_ + 1:])\n",
    "        return arr_[mid_]\n",
    "\n",
    "\n",
    "    def buildBalancedTree(self, root):\n",
    "        arr = self.InOrder(root)\n",
    "        return self.buildBST(arr)\n"
   ]
  },
  {
   "cell_type": "code",
   "execution_count": null,
   "metadata": {},
   "outputs": [],
   "source": [
    "class Solution:\n",
    "    # your task is to complete this function\n",
    "    # function should delete all the Nodes greater than or equal to k\n",
    "    # function should return the new head to pointer\n",
    "    def deleteNode(self, root, k):\n",
    "        if not root:\n",
    "            return None\n",
    "\n",
    "        if root.data < k:\n",
    "            root.right = self.deleteNode(root.right, k)\n",
    "            return root\n",
    "\n",
    "        return self.deleteNode(root.left, k)\n"
   ]
  },
  {
   "cell_type": "code",
   "execution_count": null,
   "metadata": {},
   "outputs": [],
   "source": [
    "class Solution:\n",
    "    def buildTree(self, in_order, post_order):\n",
    "        if not in_order or not post_order:\n",
    "            return None\n",
    "\n",
    "        root = Node(post_order[-1])\n",
    "\n",
    "        i = in_order.index(post_order[-1])\n",
    "\n",
    "        root.left = self.buildTree(in_order[:i], post_order[:i])\n",
    "        root.right = self.buildTree(in_order[i + 1:], post_order[i:-1])\n",
    "\n",
    "        return root"
   ]
  },
  {
   "cell_type": "code",
   "execution_count": null,
   "metadata": {},
   "outputs": [],
   "source": [
    "\n",
    "'''\n",
    "# A node structure\n",
    "class Node:\n",
    "    # A utility function to create a new node\n",
    "    def __init__(self, key):\n",
    "        self.key = key\n",
    "        self.left = None\n",
    "        self.right = None\n",
    "'''\n",
    "class Solution:\n",
    "    #Function to construct binary tree from parent array.\n",
    "    def createTree(self,parent):\n",
    "        arr = []\n",
    "\n",
    "        for i in range(len(parent)):\n",
    "            arr.append(Node(i))\n",
    "\n",
    "        root = None\n",
    "\n",
    "        for i, j in enumerate(parent):\n",
    "            if j == -1:\n",
    "                root = arr[i]\n",
    "                continue\n",
    "            else:\n",
    "                if arr[j].left:\n",
    "                    arr[j].right = arr[i]\n",
    "                else:\n",
    "                    arr[j].left = arr[i]\n",
    "\n",
    "        return root\n"
   ]
  },
  {
   "cell_type": "code",
   "execution_count": null,
   "metadata": {},
   "outputs": [],
   "source": [
    "class Solution:\n",
    "    #Function to find the minimum element in the given BST.\n",
    "    def minValue(self, root):\n",
    "        while root.left:\n",
    "            root = root.left\n",
    "        return root.data\n"
   ]
  }
 ],
 "metadata": {
  "kernelspec": {
   "display_name": "Python 3",
   "language": "python",
   "name": "python3"
  },
  "language_info": {
   "name": "python",
   "version": "3.12.7"
  }
 },
 "nbformat": 4,
 "nbformat_minor": 2
}
