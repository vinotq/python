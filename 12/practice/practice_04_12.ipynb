{
 "cells": [
  {
   "cell_type": "markdown",
   "metadata": {},
   "source": [
    "# **Practice.**  \n",
    "##### 04.12.24\n"
   ]
  },
  {
   "cell_type": "markdown",
   "metadata": {},
   "source": [
    "### **Тема**: паттерн `Visitor`\n",
    "\n"
   ]
  },
  {
   "cell_type": "code",
   "execution_count": 3,
   "metadata": {},
   "outputs": [],
   "source": [
    "from abc import ABC\n",
    "from __future__ import annotations"
   ]
  },
  {
   "cell_type": "code",
   "execution_count": null,
   "metadata": {},
   "outputs": [],
   "source": [
    "class Apartment(ABC):\n",
    "    def __init__(self, area: float):\n",
    "        self.area = area\n",
    "\n",
    "\n",
    "class PoorApartment(Apartment):\n",
    "    def accept(self, voyager: Visitor):\n",
    "        return \"I don't have any money to buy it!\"\n",
    "\n",
    "    def throwATomato(self):\n",
    "        return \"Bro, catch this rotten tomato!\"\n",
    "\n",
    "\n",
    "class RichApartment(Apartment):\n",
    "    def accept(self, voyager: Visitor):\n",
    "        return \"I already have it! Get out.\"\n",
    "\n",
    "    def callPolice(self):\n",
    "        return \"Dude, i'm calling the police!\\n     -911, what is your emergency?\\n     -Uhhhh, one strange guy trying to sell to me a vacuum cleaner! Can u help me?\"\n",
    "\n",
    "\n",
    "class NewApartment(Apartment):\n",
    "    def accept(self, voyager: Visitor):\n",
    "        return \"Thanks! Now run.\"\n",
    "\n",
    "    def deepThemes(self):\n",
    "        return \"Or let's talk about God\"\n",
    "\n",
    "\n",
    "class Visitor:\n",
    "    def __init__(self, apartment: list[Apartment]) -> None:\n",
    "        self.apartment = apartment\n",
    "\n",
    "    def visit(self):\n",
    "        reactions = []\n",
    "        for apartment in self.apartment:\n",
    "            reactions.append(apartment.accept(self))\n",
    "\n",
    "            match apartment:\n",
    "                case PoorApartment():\n",
    "                    reactions.append(apartment.throwATomato())\n",
    "                case RichApartment():\n",
    "                    reactions.append(apartment.callPolice())\n",
    "                case NewApartment():\n",
    "                    reactions.append(apartment.deepThemes())\n",
    "\n",
    "        return \"\\n-----------\\n\".join(reactions)"
   ]
  },
  {
   "cell_type": "code",
   "execution_count": 35,
   "metadata": {},
   "outputs": [
    {
     "name": "stdout",
     "output_type": "stream",
     "text": [
      "I don't have any money to buy it!\n",
      "-----------\n",
      "Bro, catch this rotten tomato!\n",
      "-----------\n",
      "I already have it! Get out.\n",
      "-----------\n",
      "Dude, i'm calling the police!\n",
      "     -911, what is your emergency?\n",
      "     -Uhhhh, one strange guy trying to sell to me a vacuum cleaner! Can u help me?\n",
      "-----------\n",
      "Thanks! Now run.\n",
      "-----------\n",
      "Or let's talk about God\n"
     ]
    }
   ],
   "source": [
    "apartments = [PoorApartment(20), RichApartment(79), NewApartment(47)]\n",
    "\n",
    "visitor = Visitor(apartments)\n",
    "\n",
    "print(visitor.visit())"
   ]
  },
  {
   "cell_type": "markdown",
   "metadata": {},
   "source": [
    "# **Codewars. Now.**"
   ]
  },
  {
   "cell_type": "code",
   "execution_count": null,
   "metadata": {},
   "outputs": [],
   "source": [
    "class ValidationError:\n",
    "    pass\n",
    "\n",
    "\n",
    "class CharField:\n",
    "    def __init__(self, min_length = 0, max_length = 150, default = \"\") -> None:\n",
    "        self.__min_length__ = min_length\n",
    "        self.__max_length__ = max_length\n",
    "        self.__data__ = default\n",
    "\n",
    "    def validate(self):\n",
    "        if self.__min_length__ > len(self. __data__) or self.__max_length__ < len(self.__data__):\n",
    "            raise ValidationError()\n",
    "\n",
    "class IntegerField:\n",
    "    def __init__(self, min_value = 0, max_value = 1000000, default = 0, blank = True) -> None:\n",
    "        self.__min_value__ = min_value\n",
    "        self.__max_value__ = max_value\n",
    "        self.__data__ = default\n",
    "\n",
    "    def validate(self):\n",
    "        if self.__min_value__ > self.__data__ or self.__max_value__ < self.__data__:\n",
    "            raise ValidationError()\n",
    "\n",
    "class BooleanField:\n",
    "    def __init__(self, default = False) -> None:\n",
    "        self.__data__ = default\n",
    "\n",
    "\n",
    "class DateTimeField:\n",
    "    def __init__(self, auto_now = None) -> None:\n",
    "        pass\n",
    "\n",
    "class EmailField:\n",
    "    def __init__(self, default = \"\") -> None:\n",
    "        self.__data__ = default\n",
    "\n",
    "\n",
    "class Model:\n",
    "    pass\n",
    "\n",
    "class metaModel"
   ]
  }
 ],
 "metadata": {
  "kernelspec": {
   "display_name": "Python 3",
   "language": "python",
   "name": "python3"
  },
  "language_info": {
   "codemirror_mode": {
    "name": "ipython",
    "version": 3
   },
   "file_extension": ".py",
   "mimetype": "text/x-python",
   "name": "python",
   "nbconvert_exporter": "python",
   "pygments_lexer": "ipython3",
   "version": "3.12.7"
  }
 },
 "nbformat": 4,
 "nbformat_minor": 2
}
