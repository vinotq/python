{
 "cells": [
  {
   "cell_type": "markdown",
   "metadata": {},
   "source": [
    "# **Practice**:\n",
    "\n",
    "### **Theme**:\n",
    "\n",
    "##### **Date**: 11.12.24\n"
   ]
  },
  {
   "cell_type": "code",
   "execution_count": null,
   "metadata": {},
   "outputs": [],
   "source": [
    "'''\n",
    "class Node:\n",
    "    def __init__(self,val):\n",
    "        self.data = val\n",
    "        self.left = None\n",
    "        self.right = None\n",
    "'''\n",
    "\n",
    "class Solution:\n",
    "    def zigZagTraversal(self, root):\n",
    "        queue = [root]\n",
    "        sec_queue = []\n",
    "        lvl = False\n",
    "        res = [root.data]\n",
    "\n",
    "        while queue or sec_queue:\n",
    "            if queue:\n",
    "                while queue:\n",
    "                    node = queue.pop(0)\n",
    "                    if node.left:\n",
    "                        sec_queue.append(node.left)\n",
    "\n",
    "                    if node.right:\n",
    "                        sec_queue.append(node.right)\n",
    "            else:\n",
    "                while sec_queue:\n",
    "                    node = sec_queue.pop(0)\n",
    "\n",
    "                    if node.left:\n",
    "                        queue.append(node.left)\n",
    "\n",
    "                    if node.right:\n",
    "                        queue.append(node.right)\n",
    "\n",
    "            if lvl:\n",
    "                res.extend([i.data for i in queue])\n",
    "\n",
    "            else:\n",
    "                res.extend([i.data for i in sec_queue[::-1]])\n",
    "\n",
    "            lvl = not lvl\n",
    "\n",
    "        return res\n"
   ]
  },
  {
   "cell_type": "code",
   "execution_count": 1,
   "metadata": {},
   "outputs": [],
   "source": [
    "class Solution:\n",
    "    #Function to find the nodes that are common in both BST.\n",
    "    def inorder(self, root):\n",
    "        if not root:\n",
    "            return []\n",
    "        return self.inorder(root.left) + [root.data] + self.inorder(root.right)\n",
    "\n",
    "    def findCommon(self, root1, root2):\n",
    "        inorder1 = self.inorder(root1)\n",
    "        inorder2 = self.inorder(root2)\n",
    "\n",
    "        return sorted(set(inorder1) & set(inorder2))"
   ]
  },
  {
   "cell_type": "code",
   "execution_count": null,
   "metadata": {},
   "outputs": [],
   "source": []
  }
 ],
 "metadata": {
  "kernelspec": {
   "display_name": "Python 3",
   "language": "python",
   "name": "python3"
  },
  "language_info": {
   "codemirror_mode": {
    "name": "ipython",
    "version": 3
   },
   "file_extension": ".py",
   "mimetype": "text/x-python",
   "name": "python",
   "nbconvert_exporter": "python",
   "pygments_lexer": "ipython3",
   "version": "3.12.7"
  }
 },
 "nbformat": 4,
 "nbformat_minor": 2
}
