{
 "cells": [
  {
   "cell_type": "markdown",
   "metadata": {},
   "source": [
    "# **Practice**\n",
    "\n",
    "##### 17.12.24\n"
   ]
  },
  {
   "cell_type": "code",
   "execution_count": null,
   "metadata": {},
   "outputs": [],
   "source": [
    "test.assert_equals(testit(\"\"), \"\", \"\")\n",
    "test.assert_equals(testit(\"a\"), \"a\", \"\")\n",
    "test.assert_equals(testit(\"b\"), \"b\", \"\")\n",
    "test.assert_equals(testit(\"aa\"), \"a\", \"\")\n",
    "test.assert_equals(testit(\"ab\"), \"a\", \"\")\n",
    "test.assert_equals(testit(\"bc\"), \"b\", \"\")\n",
    "test.assert_equals(testit(\"aaaa\"), \"aa\", \"\")\n",
    "test.assert_equals(testit(\"aaaaaa\"), \"aaa\", \"\")\n",
    "\n",
    "\n",
    "def testit(s):\n",
    "    print(s)\n",
    "    res = \"\"\n",
    "\n",
    "    for i in range(0, len(s) - 1, 2):\n",
    "        res += chr((ord(s[i]) + ord(s[i-1])) // 2)\n",
    "\n",
    "    if len(s) % 2:\n",
    "        res += s[-1]\n",
    "\n",
    "    return res"
   ]
  },
  {
   "cell_type": "code",
   "execution_count": null,
   "metadata": {},
   "outputs": [],
   "source": [
    "def testit(s):\n",
    "    x = s.split()\n",
    "    for word in x:\n",
    "        wrds = word.capita\n",
    "        word = wrds\n",
    "\n",
    "    return ' '.join(s)"
   ]
  },
  {
   "cell_type": "code",
   "execution_count": null,
   "metadata": {},
   "outputs": [],
   "source": [
    "test.assert_equals(testit([\"1m\", \"2m\", \"3m\"]), [\"1m\", \"2m\", \"3m\"])\n",
    "test.assert_equals(testit([\"3m\", \"2m\", \"1m\"]), [\"1m\", \"2m\", \"3m\"])\n",
    "test.assert_equals(testit([\"1km\", \"2dm\", \"3cm\"]), [\"3cm\", \"2dm\", \"1km\"])\n",
    "test.assert_equals(testit([\"1km\", \"1m\", \"1dm\", \"1cm\", \"1mm\"]), [\n",
    "                   \"1mm\", \"1cm\", \"1dm\", \"1m\", \"1km\"])\n",
    "test.assert_equals(testit([\"1d\", \"2h\", \"3m\"]), [\"3m\", \"2h\", \"1d\"])\n",
    "test.assert_equals(testit([\"1d\", \"1h\", \"1m\", \"1s\", \"1ms\"]), [\n",
    "                   \"1ms\", \"1s\", \"1m\", \"1h\", \"1d\"])\n",
    "\n",
    "\n",
    "import re\n",
    "\n",
    "def testit(a):\n",
    "    weights = {\n",
    "        'km': 1000,\n",
    "        'm': 1,\n",
    "        'cm': 0.01,\n",
    "        'dm': 0.1,\n",
    "        'mm': 0.001,\n",
    "\n",
    "\n",
    "        's': 1/60,\n",
    "        'ms': 1/600000,\n",
    "        'h': 60,\n",
    "        'd': 24 * 60\n",
    "    }\n",
    "\n",
    "    st = ' '.join(a)\n",
    "    if any(i in st for i in ['km', 'cm', 'dm', 'mm']) and any(i in st for i in ['s', 'ms', 'h', 'd ']):\n",
    "        return None\n",
    "\n",
    "\n",
    "    return sorted(a, key=lambda x: int(re.search(r'\\d+', x).group()) * weights[re.search(r'[a-z]+', x).group()])"
   ]
  }
 ],
 "metadata": {
  "kernelspec": {
   "display_name": "Python 3",
   "language": "python",
   "name": "python3"
  },
  "language_info": {
   "codemirror_mode": {
    "name": "ipython",
    "version": 3
   },
   "file_extension": ".py",
   "mimetype": "text/x-python",
   "name": "python",
   "nbconvert_exporter": "python",
   "pygments_lexer": "ipython3",
   "version": "3.12.7"
  }
 },
 "nbformat": 4,
 "nbformat_minor": 2
}
