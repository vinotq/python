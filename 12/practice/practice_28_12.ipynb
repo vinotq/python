{
 "cells": [
  {
   "cell_type": "markdown",
   "metadata": {},
   "source": [
    "# **Practice**\n",
    "\n",
    "##### 28.12.24\n"
   ]
  },
  {
   "cell_type": "markdown",
   "metadata": {},
   "source": [
    "### 4. Написать функцию, которая складывает или вычитает два числа и выводит результат.\n",
    "\n",
    "Функция принимает три аргумента - два числа и аргумент, указывающий, что нужно делать - складывать или вычитать числа (по умолчанию этот аргумент будет установлен на сложение).\n",
    "\n",
    "Аргументы принимаются в виде **строк**.\n",
    "\n",
    "Сделать функцию защищенной от возможных возникающих ошибок.\n",
    "\n",
    "Примеры: `function(‘4’, ‘1’, ‘-’) -> 3; function(‘2’, ‘3’) -> 5`\n"
   ]
  },
  {
   "cell_type": "code",
   "execution_count": 20,
   "metadata": {},
   "outputs": [
    {
     "data": {
      "text/plain": [
       "2"
      ]
     },
     "execution_count": 20,
     "metadata": {},
     "output_type": "execute_result"
    }
   ],
   "source": [
    "def func(a: str, b: str, operation=\"+\") -> int:\n",
    "    if (\n",
    "        not isinstance(a, str)\n",
    "        or not isinstance(b, str)\n",
    "        or not isinstance(operation, str)\n",
    "    ):\n",
    "        raise TypeError(\"Nums or operation must be str type!\")\n",
    "\n",
    "    if operation != \"+\" and operation != \"-\":\n",
    "        raise TypeError(\"Wrong operation sign! Use only '+' or '-'\")\n",
    "\n",
    "    if not a.isnumeric() or not b.isnumeric():\n",
    "        raise TypeError(\"Nums must be NUMS as STR!\")\n",
    "\n",
    "    if operation == \"+\":\n",
    "        return int(a) + int(b)\n",
    "    else:\n",
    "        return int(a) - int(b)\n",
    "\n",
    "\n",
    "func(\"1\", \"1\")"
   ]
  },
  {
   "cell_type": "markdown",
   "metadata": {},
   "source": [
    "### 5. Написать функцию, принимающую список любых значений.\n",
    "\n",
    "Функция возвращает `True`, если выполнены все три условия:\n",
    "\n",
    "1. был принят **список**;\n",
    "2. все элементы списка - **числа**;\n",
    "3. все числа в списке - **четные**.\n",
    "\n",
    "Во всех остальных случаях функция должна возвращать `False`.\n",
    "\n",
    "Примеры: `function([2, 4, 6) -> True; function([3, ‘four’]) -> False`\n"
   ]
  },
  {
   "cell_type": "code",
   "execution_count": 28,
   "metadata": {},
   "outputs": [
    {
     "data": {
      "text/plain": [
       "True"
      ]
     },
     "execution_count": 28,
     "metadata": {},
     "output_type": "execute_result"
    }
   ],
   "source": [
    "def validate(arr: list) -> bool:\n",
    "    if not isinstance(arr, list):\n",
    "        raise TypeError(\"Array must be list type!\")\n",
    "\n",
    "    for i in arr:\n",
    "        if not isinstance(i, int):\n",
    "            raise TypeError(\"Array must be list of int!\")\n",
    "\n",
    "        if i % 2 != 0:\n",
    "            return False\n",
    "\n",
    "    return True\n",
    "\n",
    "\n",
    "validate([4, 2, 8])"
   ]
  },
  {
   "cell_type": "markdown",
   "metadata": {},
   "source": [
    "### 6. Написать функцию, принимающую два аргумента: **числовое значение** и **список чисел**.\n",
    "\n",
    "Возвращает список результатов деления числа в первом аргументе на все числа из списка.\n",
    "\n",
    "Сделать функцию защищенной от возможных возникающих ошибок.\n",
    "\n",
    "Примеры: `function(10, [5, 2, 1]) -> [2, 5, 10]`\n"
   ]
  },
  {
   "cell_type": "code",
   "execution_count": 38,
   "metadata": {},
   "outputs": [
    {
     "data": {
      "text/plain": [
       "[2, 5, 10]"
      ]
     },
     "execution_count": 38,
     "metadata": {},
     "output_type": "execute_result"
    }
   ],
   "source": [
    "def division(num: int, arr: list) -> list:\n",
    "    if not isinstance(num, int):\n",
    "        raise TypeError(\"Num must be int type!\")\n",
    "\n",
    "    if not isinstance(arr, list):\n",
    "        raise TypeError(\"Array must be list type!\")\n",
    "\n",
    "    for i in range(len(arr)):\n",
    "        if not isinstance(arr[i], int):\n",
    "            raise TypeError(\"Array must be list of int!\")\n",
    "\n",
    "        arr[i] = num // arr[i]\n",
    "\n",
    "    return arr\n",
    "\n",
    "\n",
    "division(10, [5, 2, 1])"
   ]
  },
  {
   "cell_type": "markdown",
   "metadata": {},
   "source": [
    "### 7. Написать функцию, которая принимает два списка любых элементов.\n",
    "\n",
    "Функция возвращает количество элементов, которые присутствуют как в первом, так и во втором списке.\n",
    "\n",
    "Если оба списка пусты, возвращает `-1`.\n",
    "\n",
    "Примеры: `function([0, 1], [1, 2]) -> 1; function([0, 1, 2], [1, 2, 3]) -> 2`\n"
   ]
  },
  {
   "cell_type": "code",
   "execution_count": 41,
   "metadata": {},
   "outputs": [
    {
     "data": {
      "text/plain": [
       "2"
      ]
     },
     "execution_count": 41,
     "metadata": {},
     "output_type": "execute_result"
    }
   ],
   "source": [
    "def count_repeats(arr1: list, arr2: list) -> int:\n",
    "    if not isinstance(arr1, list) or not isinstance(arr2, list):\n",
    "        raise TypeError(\"Arrays must be list type!\")\n",
    "\n",
    "    res = 0\n",
    "\n",
    "    for i in range(len(arr1)):\n",
    "        if not isinstance(arr1[i], int):\n",
    "            raise TypeError(\"Arrays must be list of int!\")\n",
    "\n",
    "        for j in range(len(arr2)):\n",
    "            if not isinstance(arr2[j], int):\n",
    "                raise TypeError(\"Arrays must be list of int!\")\n",
    "\n",
    "            if arr1[i] == arr2[j]:\n",
    "                res += 1\n",
    "\n",
    "    return res\n",
    "\n",
    "\n",
    "count_repeats([0, 1, 2], [1, 2, 3])"
   ]
  },
  {
   "cell_type": "markdown",
   "metadata": {},
   "source": [
    "### 8. Написать функцию, которая принимает две строки (текст и подстроку), а возвращает список индексов, на которых подстрока встречается в cтроке.\n",
    "\n",
    "Примеры: `function(‘cat is a cat’, ‘cat’) -> [0, 9]; function(‘cat is not a dog’) -> [0]`\n"
   ]
  },
  {
   "cell_type": "code",
   "execution_count": 46,
   "metadata": {},
   "outputs": [],
   "source": [
    "def st_ind_of_subdtr(strng: str, substr: str = \"\") -> list:\n",
    "    if not substr:\n",
    "        return [0]\n",
    "\n",
    "    if not isinstance(strng, str) or not isinstance(substr, str):\n",
    "        raise TypeError(\"Strings must be str type!\")\n",
    "\n",
    "    res = []\n",
    "    i = 0\n",
    "\n",
    "    while i < len(strng):\n",
    "        if strng[i : i + len(substr)] == substr:\n",
    "            res.append(i)\n",
    "            i += len(substr)\n",
    "        else:\n",
    "            i += 1\n",
    "\n",
    "    return res\n",
    "\n",
    "assert st_ind_of_subdtr('cat is a cat', 'cat') == [0, 9]\n",
    "assert st_ind_of_subdtr('cat is not a dog') == [0]"
   ]
  }
 ],
 "metadata": {
  "kernelspec": {
   "display_name": "Python 3",
   "language": "python",
   "name": "python3"
  },
  "language_info": {
   "codemirror_mode": {
    "name": "ipython",
    "version": 3
   },
   "file_extension": ".py",
   "mimetype": "text/x-python",
   "name": "python",
   "nbconvert_exporter": "python",
   "pygments_lexer": "ipython3",
   "version": "3.12.7"
  }
 },
 "nbformat": 4,
 "nbformat_minor": 2
}
