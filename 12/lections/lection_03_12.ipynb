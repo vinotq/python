{
 "cells": [
  {
   "cell_type": "markdown",
   "metadata": {},
   "source": [
    "# **Lection #12**\n",
    "### **Theme**: Декартовы деревья. Продолжение\n",
    "##### **Date**: 03.12.24"
   ]
  },
  {
   "cell_type": "code",
   "execution_count": null,
   "metadata": {},
   "outputs": [],
   "source": [
    "def merge(left, right):\n",
    "    if (not left) or (not right):\n",
    "        return left or right\n",
    "    elif left.prior > right.prior:\n",
    "        left.right = merge(left.right, right)\n",
    "        return left\n",
    "    else:\n",
    "        right.left = merge(left, right.left)\n",
    "        return right\n"
   ]
  },
  {
   "cell_type": "code",
   "execution_count": null,
   "metadata": {},
   "outputs": [],
   "source": [
    "def split(root, value):\n",
    "    if root is None:\n",
    "        return (None, None)\n",
    "\n",
    "    elif root.value is None:\n",
    "        return (None, None)\n",
    "\n",
    "    else:\n",
    "        if value < root.value:\n",
    "            left, root.left = split(root.left, value)\n",
    "            return (left, root)\n",
    "        else:\n",
    "            root.right, right = split(root.right, value)\n",
    "            return (root, right)\n"
   ]
  }
 ],
 "metadata": {
  "kernelspec": {
   "display_name": "Python 3",
   "language": "python",
   "name": "python3"
  },
  "language_info": {
   "codemirror_mode": {
    "name": "ipython",
    "version": 3
   },
   "file_extension": ".py",
   "mimetype": "text/x-python",
   "name": "python",
   "nbconvert_exporter": "python",
   "pygments_lexer": "ipython3",
   "version": "3.12.7"
  }
 },
 "nbformat": 4,
 "nbformat_minor": 2
}
