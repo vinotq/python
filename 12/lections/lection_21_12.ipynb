{
 "cells": [
  {
   "cell_type": "markdown",
   "metadata": {},
   "source": [
    "# **Lection #13**\n",
    "\n",
    "### **Theme**: Z-функциия, префиксы, постфиксы и много чего другого\n",
    "\n",
    "##### **Date**: 21.12.24\n"
   ]
  },
  {
   "cell_type": "markdown",
   "metadata": {},
   "source": [
    "### **Z-func** тривиально\n"
   ]
  },
  {
   "cell_type": "code",
   "execution_count": 3,
   "metadata": {},
   "outputs": [],
   "source": [
    "def z(s, n):\n",
    "    z = [0] * n\n",
    "    for i in range(1, n):\n",
    "        while i + z[i] < n and s[z[i]] == s[i + z[i]]:\n",
    "            z[i] += 1\n",
    "    return z"
   ]
  },
  {
   "cell_type": "markdown",
   "metadata": {},
   "source": [
    "### **Z-func** эффективно\n"
   ]
  },
  {
   "cell_type": "code",
   "execution_count": 5,
   "metadata": {},
   "outputs": [],
   "source": [
    "def zEffective(s):\n",
    "    n = len(s)\n",
    "    z = [0] * n\n",
    "    l = 0\n",
    "    r = 0\n",
    "\n",
    "    for i in range(1, n):\n",
    "        if i < r:\n",
    "            z[i] = min(r - i, z[i - l])\n",
    "\n",
    "        while i + z[i] < n and s[z[i]] == s[i + z[i]]:\n",
    "            z[i] += 1\n",
    "\n",
    "        if i + z[i] > r:\n",
    "            l = i\n",
    "            r = i + z[i]\n",
    "\n",
    "    return z"
   ]
  },
  {
   "cell_type": "markdown",
   "metadata": {},
   "source": [
    "### **Z-func** для поиска подстроки\n"
   ]
  },
  {
   "cell_type": "code",
   "execution_count": null,
   "metadata": {},
   "outputs": [],
   "source": [
    "def substr_search(text, pattern):\n",
    "    zf = zEffective(f\"{pattern}${text}\")\n",
    "    print(zf)\n",
    "\n",
    "    for i in range(len(pattern) + 1, len(text) + 1):\n",
    "        if zf[i] == len(pattern):\n",
    "            return i\n",
    "\n",
    "\n",
    "substr_search(\"abaaba\", \"aba\")"
   ]
  }
 ],
 "metadata": {
  "kernelspec": {
   "display_name": "Python 3",
   "language": "python",
   "name": "python3"
  },
  "language_info": {
   "codemirror_mode": {
    "name": "ipython",
    "version": 3
   },
   "file_extension": ".py",
   "mimetype": "text/x-python",
   "name": "python",
   "nbconvert_exporter": "python",
   "pygments_lexer": "ipython3",
   "version": "3.12.7"
  }
 },
 "nbformat": 4,
 "nbformat_minor": 2
}
