{
 "cells": [
  {
   "cell_type": "markdown",
   "metadata": {},
   "source": [
    "# **Lection #10**:\n",
    "\n",
    "### **Theme**: Патерны 5, Порождающие паттерны 😭😲🤯\n",
    "\n",
    "##### **Date**: 11.12.24\n"
   ]
  },
  {
   "cell_type": "markdown",
   "metadata": {},
   "source": [
    "### **Паттерн** `Абстрактная фабрика`\n",
    "\n",
    "- Все подобные паттерны выносят `init` класса за класс\n",
    "- создает семейства взаимосвязаннных объектов, не специфицирует их конкретные классы"
   ]
  },
  {
   "cell_type": "markdown",
   "metadata": {},
   "source": [
    "### **Паттерн** `Строитель`\n",
    "\n",
    "- выносит сборку/конструирования объекта в отдельный объект"
   ]
  },
  {
   "cell_type": "markdown",
   "metadata": {},
   "source": [
    "### **Паттерн** `Фабричный метод`\n",
    "\n",
    "- делегирует обязанности выбора создания кнопки на другой объект\n",
    "- сделает условный мечь, но какой... другой вопрос, критерии определяет сам, иногда лютый рандом\n"
   ]
  },
  {
   "cell_type": "markdown",
   "metadata": {},
   "source": [
    "### **Паттерн** `Прототип`\n",
    "\n",
    "- Клонирует объект\n",
    " "
   ]
  },
  {
   "cell_type": "markdown",
   "metadata": {},
   "source": [
    "### **Паттерн** `Синглтон`\n",
    "\n",
    "- единая точка входа в систему\n",
    "- обеспечивает единую точку входа\n",
    " "
   ]
  }
 ],
 "metadata": {
  "kernelspec": {
   "display_name": "Python 3",
   "language": "python",
   "name": "python3"
  },
  "language_info": {
   "codemirror_mode": {
    "name": "ipython",
    "version": 3
   },
   "file_extension": ".py",
   "mimetype": "text/x-python",
   "name": "python",
   "nbconvert_exporter": "python",
   "pygments_lexer": "ipython3",
   "version": "3.12.7"
  }
 },
 "nbformat": 4,
 "nbformat_minor": 2
}
