{
 "cells": [
  {
   "cell_type": "markdown",
   "metadata": {},
   "source": [
    "# **Object Orientired Programming**  \n",
    "##### 10.09.24\n"
   ]
  },
  {
   "cell_type": "markdown",
   "metadata": {},
   "source": [
    "### **Тема**: Введение. Принципы, классы, объекты"
   ]
  },
  {
   "cell_type": "markdown",
   "metadata": {},
   "source": [
    "**Клаcc** - шаблон создания объектов, совокупность методов\n",
    "\n",
    "**Объект** - сущность в цифровом пространстве, обладает состоянием и поведением"
   ]
  },
  {
   "cell_type": "markdown",
   "metadata": {},
   "source": [
    "### **Принципы ООП:**"
   ]
  },
  {
   "cell_type": "markdown",
   "metadata": {},
   "source": [
    "* **Абстракция** - принцип, который описывает только то что нам необходимо, опуская второстепенные хар-ки;  \n",
    "* **Инкапсуляция** - сложность реализации прячется за интерфейс программы, нет доступа к программному компоненту, взаимодействие через интрефейс;  \n",
    "* **Наследование** - создание нового класса на основе уже существующего, при котором класс-потомок заимствует св-ва и методы родителя и добавляет собственные.  \n",
    "* **Полиморфизм** - поддержка нескольких реализаций на основе общего интерфейса, перегруз методов родительского класса      \n",
    "\n",
    "***Абстрактный метод** - метод класса, реализация которого отсутствует"
   ]
  },
  {
   "cell_type": "markdown",
   "metadata": {},
   "source": [
    "### **Python и ООП**:"
   ]
  },
  {
   "cell_type": "code",
   "execution_count": null,
   "metadata": {},
   "outputs": [],
   "source": [
    "class Car:\n",
    "    pass\n",
    "\n",
    "car_object = Car()"
   ]
  },
  {
   "cell_type": "markdown",
   "metadata": {},
   "source": [
    "**Атрибуты** - любой элемент класса/объекта;\n",
    "\n",
    "Есть 2 группы:\n",
    "- Встроенные\n",
    "- Пользовательские"
   ]
  },
  {
   "cell_type": "markdown",
   "metadata": {},
   "source": [
    "### **Встроенные атрибуты класса в Python**:"
   ]
  },
  {
   "cell_type": "markdown",
   "metadata": {},
   "source": [
    "**\\_\\_new\\_\\_(cls[, ...])** - создает объект класса  \n",
    "**\\_\\_init\\_\\_(self[, ...])** - принимает новый объект класса  \n",
    "**\\_\\_del\\_\\_(self)** - удаляет объект  \n",
    "**\\_\\_str\\_\\_(self)** - превращает в строковое представление  "
   ]
  },
  {
   "cell_type": "markdown",
   "metadata": {},
   "source": [
    "### **Поля - свойства класса в Python**:"
   ]
  },
  {
   "cell_type": "code",
   "execution_count": 7,
   "metadata": {},
   "outputs": [
    {
     "name": "stdout",
     "output_type": "stream",
     "text": [
      "Blue\n"
     ]
    }
   ],
   "source": [
    "class Phone:\n",
    "    default_colour = \"Grey\"\n",
    "    default_model = \"C347\"\n",
    "\n",
    "Phone.default_colour = \"Blue\"\n",
    "\n",
    "print(Phone.default_colour)"
   ]
  }
 ],
 "metadata": {
  "kernelspec": {
   "display_name": "Python 3",
   "language": "python",
   "name": "python3"
  },
  "language_info": {
   "codemirror_mode": {
    "name": "ipython",
    "version": 3
   },
   "file_extension": ".py",
   "mimetype": "text/x-python",
   "name": "python",
   "nbconvert_exporter": "python",
   "pygments_lexer": "ipython3",
   "version": "3.12.3"
  }
 },
 "nbformat": 4,
 "nbformat_minor": 2
}
