{
 "cells": [
  {
   "cell_type": "markdown",
   "metadata": {},
   "source": [
    "# **Practice #3**\n",
    "##### **Date**: 13.09.24"
   ]
  },
  {
   "cell_type": "markdown",
   "metadata": {},
   "source": [
    "#### **Theme**: codewars"
   ]
  },
  {
   "cell_type": "markdown",
   "metadata": {},
   "source": [
    "### **#1 Scoring word** (solved):"
   ]
  },
  {
   "cell_type": "code",
   "execution_count": 2,
   "metadata": {},
   "outputs": [
    {
     "data": {
      "text/plain": [
       "['Oleg', 'sandrs', 'basket']"
      ]
     },
     "execution_count": 3,
     "metadata": {},
     "output_type": "execute_result"
    }
   ],
   "source": [
    "def high(x):\n",
    "    wrds = x.split(\" \")\n",
    "    wrds_scr = []\n",
    "\n",
    "    for word in wrds:\n",
    "        score = sum(ord(char) - ord('a') + 1 for char in word)\n",
    "        wrds_scr.append(score)\n",
    "\n",
    "    max_score = max(wrds_scr)\n",
    "    max_index = wrds_scr.index(max_score)\n",
    "\n",
    "    return wrds[max_index]\n",
    "\n",
    "high(\"Oleg sandrs basket\")"
   ]
  },
  {
   "cell_type": "markdown",
   "metadata": {},
   "source": [
    "### **#2 Unique** ()\n"
   ]
  },
  {
   "cell_type": "code",
   "execution_count": null,
   "metadata": {},
   "outputs": [],
   "source": [
    "def find_uniq(arr):\n",
    "    arr.sort()\n",
    "    if arr[0] != arr[1]:\n",
    "        return arr[0] \n",
    "    elif arr[-1] != arr[-2]:\n",
    "        return arr[-1]\n",
    "    "
   ]
  },
  {
   "cell_type": "markdown",
   "metadata": {},
   "source": [
    "### **#3 Shuffle** (https://www.codewars.com/kata/64e5939df1294fb6ea6093ed)\n"
   ]
  },
  {
   "cell_type": "code",
   "execution_count": null,
   "metadata": {},
   "outputs": [],
   "source": [
    "def shuffle_a(a, b):\n",
    "    for i in range(len(b)):\n",
    "        m = float(\"inf\")\n",
    "        i_min = 0\n",
    "        for j in range(i, len(a)):\n",
    "            if 0 < a[j] - b[i] < m:\n",
    "                m = a[j]\n",
    "                i_min = j\n",
    "        a[i], a[i_min] = a[i_min], a[i]\n",
    "    \n",
    "    return a"
   ]
  },
  {
   "cell_type": "markdown",
   "metadata": {},
   "source": [
    "### **#2** ()\n"
   ]
  },
  {
   "cell_type": "code",
   "execution_count": null,
   "metadata": {},
   "outputs": [],
   "source": []
  }
 ],
 "metadata": {
  "kernelspec": {
   "display_name": "Python 3",
   "language": "python",
   "name": "python3"
  },
  "language_info": {
   "codemirror_mode": {
    "name": "ipython",
    "version": 3
   },
   "file_extension": ".py",
   "mimetype": "text/x-python",
   "name": "python",
   "nbconvert_exporter": "python",
   "pygments_lexer": "ipython3",
   "version": "3.12.3"
  }
 },
 "nbformat": 4,
 "nbformat_minor": 2
}
