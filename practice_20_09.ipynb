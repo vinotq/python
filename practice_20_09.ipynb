{
 "cells": [
  {
   "cell_type": "markdown",
   "metadata": {},
   "source": [
    "# **Practice**:\n",
    "### **Theme**: \n",
    "##### **Date**: 20.09.24"
   ]
  },
  {
   "cell_type": "markdown",
   "metadata": {},
   "source": [
    "# **Бинарный поиск**\n"
   ]
  },
  {
   "cell_type": "code",
   "execution_count": 1,
   "metadata": {},
   "outputs": [
    {
     "data": {
      "text/plain": [
       "34"
      ]
     },
     "execution_count": 1,
     "metadata": {},
     "output_type": "execute_result"
    }
   ],
   "source": [
    "import math\n",
    "\n",
    "def binary_search(arr: list, value) -> int | None:\n",
    "    l = 0\n",
    "    r = len(arr) - 1\n",
    "    mid = math.floor((l + r)/2)\n",
    "    \n",
    "    while r != l:\n",
    "        if arr[mid] == value:\n",
    "            return mid\n",
    "        elif arr[mid] < value:\n",
    "            l = mid + 1\n",
    "        else:\n",
    "            r = mid\n",
    "        mid = (l + r) // 2\n",
    "    \n",
    "    return None\n",
    "\n",
    "arr = list(range(100))\n",
    "\n",
    "binary_search(arr, 34)\n"
   ]
  },
  {
   "cell_type": "markdown",
   "metadata": {},
   "source": [
    "# **Сортировка слиянием (дополненная)**\n"
   ]
  },
  {
   "cell_type": "code",
   "execution_count": 34,
   "metadata": {},
   "outputs": [
    {
     "name": "stdout",
     "output_type": "stream",
     "text": [
      "[1, 47, 15, 47, 67, 34, 89, 14, 65, -1, 92, -76]\n"
     ]
    }
   ],
   "source": [
    "def merge(A, B):\n",
    "    i, j, C = 0, 0, []\n",
    "    while True:\n",
    "        if A[i] < B[j]:\n",
    "            C.append(A[i])\n",
    "            i += 1\n",
    "            if i == len(A):\n",
    "                C.extend(B[j:])\n",
    "                break\n",
    "            \n",
    "        else:\n",
    "            C.append(B[j])\n",
    "            j += 1\n",
    "            if j == len(B):\n",
    "                C.extend(A[i:])\n",
    "                break\n",
    "\n",
    "    return C\n",
    "a,b = [1, 47 , 89, 14, 65, -1], [47, 15, 67, 34, 92, -76]\n",
    "print(merge(a, b))\n"
   ]
  },
  {
   "cell_type": "code",
   "execution_count": null,
   "metadata": {},
   "outputs": [],
   "source": [
    "def binary_search_merge(a, b):\n",
    "    if len(b) > len(a):\n",
    "        b, a = a, b\n",
    "\n",
    "    for i in b:\n",
    "        left, right, mid = 0, len(a) - 1, (len(a)-1) // 2\n",
    "\n",
    "        while left < right:\n",
    "            if a[mid] < i:\n",
    "                left = mid + 1\n",
    "            else:\n",
    "                right = mid\n",
    "            mid = (right + left) // 2\n",
    "        a.insert(mid, i)\n",
    "    return a\n",
    "    \n",
    "a = [1, 3, 5, 7, 9, 47]\n",
    "b = [2, 4, 6, 8, 10]\n",
    "binary_search_merge(a, b)"
   ]
  },
  {
   "cell_type": "markdown",
   "metadata": {},
   "source": [
    "# **Галлопирование**\n",
    "- вариация бин. поиска через умножение"
   ]
  },
  {
   "cell_type": "code",
   "execution_count": 37,
   "metadata": {},
   "outputs": [
    {
     "data": {
      "text/plain": [
       "[1, 3, 5, 7, 9, 14, 47, 98]"
      ]
     },
     "execution_count": 37,
     "metadata": {},
     "output_type": "execute_result"
    }
   ],
   "source": [
    "def galloping(AB, n, C):\n",
    "    C[:] = AB[:n]\n",
    "\n",
    "    # r — указатель на конец результата\n",
    "    # j — место последней вставки\n",
    "    # m — длина остатка B\n",
    "    r, j, m = 0, n, len(AB) - n\n",
    "    for i in range(n):\n",
    "        # k — степень двойки\n",
    "        # l — указатель на 2^k-1 элемент\n",
    "        k, l = 0, 0\n",
    "        while l < m and AB[j+l] < C[i]:\n",
    "            k += 1\n",
    "            l = 2**k - 1\n",
    "\n",
    "        if l >= m:\n",
    "            l = m - 1\n",
    "\n",
    "        while l >= 0 and AB[j+l] > C[i]:\n",
    "            l -= 1\n",
    "\n",
    "        l += 1\n",
    "        AB[r:r+l], AB[r+l] = AB[j:j+l], C[i]\n",
    "        r, j, m = r + l + 1, j + l, m - l\n",
    "        \n",
    "ab = [1, 3, 14, 98, 5, 7, 9, 47]\n",
    "c = []\n",
    "galloping(ab, 4, c)\n",
    "ab"
   ]
  }
 ],
 "metadata": {
  "kernelspec": {
   "display_name": "Python 3",
   "language": "python",
   "name": "python3"
  },
  "language_info": {
   "codemirror_mode": {
    "name": "ipython",
    "version": 3
   },
   "file_extension": ".py",
   "mimetype": "text/x-python",
   "name": "python",
   "nbconvert_exporter": "python",
   "pygments_lexer": "ipython3",
   "version": "3.12.3"
  }
 },
 "nbformat": 4,
 "nbformat_minor": 2
}
