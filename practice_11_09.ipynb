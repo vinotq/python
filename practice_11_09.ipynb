{
 "cells": [
  {
   "cell_type": "markdown",
   "metadata": {},
   "source": [
    "# **Practice**\n",
    "##### **Date**: 11.09.24"
   ]
  },
  {
   "cell_type": "markdown",
   "metadata": {},
   "source": [
    "#### **Theme**: Codewars"
   ]
  },
  {
   "cell_type": "markdown",
   "metadata": {},
   "source": [
    "### **#1 Digital cypher**    (https://www.codewars.com/kata/592e830e043b99888600002d/train/python):"
   ]
  },
  {
   "cell_type": "code",
   "execution_count": 13,
   "metadata": {},
   "outputs": [],
   "source": [
    "def encode(message, key):\n",
    "    message = [ord(letter) - 96 for letter in message]\n",
    "    key = [int(digit) for digit in str(key)]\n",
    "    \n",
    "    i = 0\n",
    "    j = 0\n",
    "\n",
    "    while i < len(message):\n",
    "        while i < len(message) and j < len(key):\n",
    "            message[i] += key[j]\n",
    "            i += 1\n",
    "            j += 1\n",
    "        j=0\n",
    "    return message, key\n"
   ]
  },
  {
   "cell_type": "markdown",
   "metadata": {},
   "source": [
    "##### OR"
   ]
  },
  {
   "cell_type": "code",
   "execution_count": null,
   "metadata": {},
   "outputs": [],
   "source": [
    "def encode(message, key):\n",
    "    message = [ord(letter) - 96 for letter in message]\n",
    "    key = [int(digit) for digit in str(key)]\n",
    "    \n",
    "    for i in range(len(message)):\n",
    "        message[i] += key[i%len(key)]\n",
    "    \n",
    "    return message, key\n"
   ]
  },
  {
   "cell_type": "markdown",
   "metadata": {},
   "source": [
    "### **#2 Digital cypher vol 2** (https://www.codewars.com/kata/592edfda5be407b9640000b2/train/python)\n"
   ]
  },
  {
   "cell_type": "code",
   "execution_count": null,
   "metadata": {},
   "outputs": [],
   "source": [
    "def decode(code, key):\n",
    "    message_list = [code[i] - int(str(key)[i % len(str(key))]) for i in range(len(code))]\n",
    "    return ''.join([chr(i + 96) for i in message_list])\n"
   ]
  },
  {
   "cell_type": "markdown",
   "metadata": {},
   "source": [
    "### **#3 Digital cypher vol 3 - missing key** (https://www.codewars.com/kata/5930d8a4b8c2d9e11500002a/train/python)"
   ]
  },
  {
   "cell_type": "code",
   "execution_count": 19,
   "metadata": {},
   "outputs": [
    {
     "data": {
      "text/plain": [
       "[1, 2, 1, 2, 1, 2, 1, 2, 1, 2, 1]"
      ]
     },
     "execution_count": 19,
     "metadata": {},
     "output_type": "execute_result"
    }
   ],
   "source": [
    "def find_the_key(message, code):\n",
    "    message = \"nomoretears\"\n",
    "    code = [15, 17, 14, 17, 19, 7, 21, 7, 2, 20, 20]\n",
    "\n",
    "    keys = [\n",
    "        str(encoded_letter - ord(letter) + 96) for letter, encoded_letter in zip(message, code)\n",
    "    ]\n",
    "\n",
    "    n = len(message)\n",
    "\n",
    "    for l in range(1, n + 1):\n",
    "        if (keys[:l] * (n // l + 1))[:n] == keys:\n",
    "            return (int(''.join(keys[:l]))) \n",
    "            brake\n",
    "        \n"
   ]
  }
 ],
 "metadata": {
  "kernelspec": {
   "display_name": "Python 3",
   "language": "python",
   "name": "python3"
  },
  "language_info": {
   "codemirror_mode": {
    "name": "ipython",
    "version": 3
   },
   "file_extension": ".py",
   "mimetype": "text/x-python",
   "name": "python",
   "nbconvert_exporter": "python",
   "pygments_lexer": "ipython3",
   "version": "3.12.3"
  }
 },
 "nbformat": 4,
 "nbformat_minor": 2
}
