{
 "cells": [
  {
   "cell_type": "markdown",
   "metadata": {},
   "source": [
    "# **Lection #4**:\n",
    "### **Theme**: Функции, пространства имен, обработка ошибок, модули\n",
    "##### **Date**: 01.10.24"
   ]
  },
  {
   "cell_type": "code",
   "execution_count": 45,
   "metadata": {},
   "outputs": [
    {
     "data": {
      "text/plain": [
       "(40, -2)"
      ]
     },
     "execution_count": 45,
     "metadata": {},
     "output_type": "execute_result"
    }
   ],
   "source": [
    "class User:\n",
    "    def __init__(self, rank = -8, progress = 0):\n",
    "        self.rank = rank\n",
    "        self.progress = progress\n",
    "    \n",
    "    def inc_progress(self, value):\n",
    "        if value > 8 or value < -8 or value == 0:\n",
    "            raise ValueError\n",
    "        d = value - self.rank + ( -1 if (value > 0 and self.rank < 0) else 1 if (value < 0 and self.rank > 0) else 0)\n",
    "        if d >= 1:\n",
    "            self.progress += 10 * d * d\n",
    "            \n",
    "        elif d == -1: \n",
    "            self.progress += 1\n",
    "            \n",
    "        elif d == 0:   \n",
    "            self.progress += 3   \n",
    "            \n",
    "               \n",
    "        while self.progress >= 100:\n",
    "            if self.rank < 8:\n",
    "                self.progress -= 100\n",
    "                self.rank += 1 if self.rank != -1 else 2\n",
    "            else:\n",
    "                break\n",
    "        \n",
    "        if self.rank == 8:\n",
    "            self.progress = 0\n",
    "        \n",
    "        \n",
    "        return self.progress, self.rank\n",
    "\n",
    "user = User()\n",
    "user.inc_progress(1)"
   ]
  }
 ],
 "metadata": {
  "kernelspec": {
   "display_name": "Python 3",
   "language": "python",
   "name": "python3"
  },
  "language_info": {
   "codemirror_mode": {
    "name": "ipython",
    "version": 3
   },
   "file_extension": ".py",
   "mimetype": "text/x-python",
   "name": "python",
   "nbconvert_exporter": "python",
   "pygments_lexer": "ipython3",
   "version": "3.12.3"
  }
 },
 "nbformat": 4,
 "nbformat_minor": 2
}
