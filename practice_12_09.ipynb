{
 "cells": [
  {
   "cell_type": "markdown",
   "metadata": {},
   "source": [
    "# **Practice #1**  \n",
    "##### 12.09.24\n"
   ]
  },
  {
   "cell_type": "markdown",
   "metadata": {},
   "source": [
    "### **Тема**: Автобус"
   ]
  },
  {
   "cell_type": "markdown",
   "metadata": {},
   "source": [
    "## **#1 Класс «Автобус»**  \n",
    "Класс содержит свойства:  \n",
    "- speed (скорость),\n",
    "- capacity (максимальное количество пассажиров),\n",
    "- maxSpeed (максимальная скорость),\n",
    "- passengers (список имен пассажиров),\n",
    "- hasEmptySeats (наличие свободных мест),\n",
    "- seats (словарь мест в автобусе);\n",
    "\n",
    "методы:  \n",
    "- посадка и высадка одного или нескольких пассажиров,\n",
    "- увеличение и уменьшение скорости на заданное значение.\n",
    "- операции \"in\", \"+=\" и \"−=\" (посадка и высадка пассажира(ов) с заданной фамилией)"
   ]
  },
  {
   "cell_type": "code",
   "execution_count": 53,
   "metadata": {},
   "outputs": [
    {
     "name": "stdout",
     "output_type": "stream",
     "text": [
      "{'1A': 'Oleg'}\n",
      "This seat is already occupied!\n",
      "{'1A': 'Oleg', '1D': 'Jesus'}\n",
      "['Oleg', 'Jesus']\n"
     ]
    }
   ],
   "source": [
    "class Bus:\n",
    "    passegers = []\n",
    "    hasEmptySeats = True\n",
    "    seats = dict()\n",
    "    maxSpeed = 300\n",
    "    \n",
    "    def __init__(self,  capacity, speed = 0):\n",
    "        self.capacity = capacity\n",
    "        self.speed = speed\n",
    "        \n",
    "        \n",
    "    def change_speed(self, val: int):\n",
    "        if not isinstance(val, (int, float)):\n",
    "            raise ValueError (\"Speed must be num\")\n",
    "            return\n",
    "        \n",
    "        self.speed += val\n",
    "        \n",
    "        if self.speed < 0:\n",
    "            self.speed = 0\n",
    "        elif self.speed > self.maxSpeed:\n",
    "            self.speed = self.maxSpeed\n",
    "            \n",
    "    def passenger_board(self, seat, name):\n",
    "        if not self.hasEmptySeats:\n",
    "            print(\"No empty seats!\")\n",
    "            return\n",
    "        \n",
    "        if seat in self.seats:\n",
    "            print(\"This seat is already occupied!\")\n",
    "            return\n",
    "        \n",
    "        \n",
    "        self.passegers.append(name)\n",
    "        self.seats[seat] = name\n",
    "        \n",
    "        self.hasEmptySeats = self.capacity > len(self.passegers)\n",
    "         \n",
    "    def passengers_board(self, seats : list, names : list):\n",
    "        for seat, name in zip(seats, names):\n",
    "            self.passenger_board(seat, name)  \n",
    "    \n",
    "    def passenger_unboard(self, seat = None, name = None):\n",
    "        if seat is None and name is None:\n",
    "            self.pasenger = []\n",
    "            self.seats = dict()\n",
    "            self.hasEmptySeats = True\n",
    "            \n",
    "        elif seat is not None:\n",
    "            self.passegers.remove(self.seats[seat])\n",
    "            del self.seats[seat]\n",
    "            \n",
    "        elif name is not None:\n",
    "            for seat, v in self.seats.items():\n",
    "                if v == name:\n",
    "                    self.passegers.remove(name)\n",
    "                    del self.seats[seat]\n",
    "                    break\n",
    "        \n",
    "        \n",
    "    \n",
    "bus1 = Bus(5)\n",
    "\n",
    "bus1.passenger_board(\"1A\", \"Oleg\")\n",
    "print(bus1.seats)\n",
    "\n",
    "bus1.passengers_board([\"1A\", \"1C\", \"1D\"], [\"Jack\", \"Jeremy\", \"Jesus\"])\n",
    "bus1.passenger_unboard(name = \"Jeremy\")\n",
    "print(bus1.seats)\n",
    "print(bus1.passegers)\n",
    "\n",
    "\n",
    "\n",
    "# bus2 = Bus(20)\n",
    "# bus2.branding = \"Sochi FC\"\n",
    "# print(bus2.__dict__)\n",
    "    "
   ]
  }
 ],
 "metadata": {
  "kernelspec": {
   "display_name": "Python 3",
   "language": "python",
   "name": "python3"
  },
  "language_info": {
   "codemirror_mode": {
    "name": "ipython",
    "version": 3
   },
   "file_extension": ".py",
   "mimetype": "text/x-python",
   "name": "python",
   "nbconvert_exporter": "python",
   "pygments_lexer": "ipython3",
   "version": "3.12.3"
  }
 },
 "nbformat": 4,
 "nbformat_minor": 2
}
