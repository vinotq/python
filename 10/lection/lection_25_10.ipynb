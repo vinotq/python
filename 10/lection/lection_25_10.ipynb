{
 "cells": [
  {
   "cell_type": "markdown",
   "metadata": {},
   "source": [
    "# **Lection #7**:\n",
    "### **Theme**: pip, как правильно писать код\n",
    "##### **Date**: 25.10.24"
   ]
  },
  {
   "cell_type": "code",
   "execution_count": 4,
   "metadata": {},
   "outputs": [
    {
     "name": "stdout",
     "output_type": "stream",
     "text": [
      " hfhefineffmefnekfne\n"
     ]
    }
   ],
   "source": [
    "meth = \" hfhefinef\\\n",
    "fmefnekfne\"\n",
    "z = \"z\"\n",
    "\n",
    "print(meth+\n",
    "    z\n",
    "    )"
   ]
  }
 ],
 "metadata": {
  "kernelspec": {
   "display_name": "Python 3",
   "language": "python",
   "name": "python3"
  },
  "language_info": {
   "codemirror_mode": {
    "name": "ipython",
    "version": 3
   },
   "file_extension": ".py",
   "mimetype": "text/x-python",
   "name": "python",
   "nbconvert_exporter": "python",
   "pygments_lexer": "ipython3",
   "version": "3.12.3"
  }
 },
 "nbformat": 4,
 "nbformat_minor": 2
}
