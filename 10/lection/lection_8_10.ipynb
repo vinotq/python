{
 "cells": [
  {
   "cell_type": "markdown",
   "metadata": {},
   "source": [
    "# **Lection #5**:\n",
    "### **Theme**: Графы\n",
    "##### **Date**: 08.10.24"
   ]
  },
  {
   "cell_type": "markdown",
   "metadata": {},
   "source": [
    "# **Способы хранения**\n",
    "### 1. Матрица смежности\n",
    "### 2. \n",
    "### 3. "
   ]
  },
  {
   "cell_type": "code",
   "execution_count": null,
   "metadata": {},
   "outputs": [],
   "source": [
    "class Graph(object):\n",
    "    def __init__(self, size):\n",
    "        self.adjMatrix = [[0] * size for i in range(size)]\n",
    "        self.size = size\n",
    "\n",
    "    def add_edge(self, v1, v2):\n",
    "        if v1 == v2:\n",
    "            print(f\"Та же вершина {v1} и {v2}\")\n",
    "        self.adjMatrix[v1][v2] = 1\n",
    "        self.adjMatrix[v2][v1] = 1\n",
    "\n",
    "    def __len__(self):\n",
    "        return self.size\n",
    "\n",
    "    def remove_edge(self, v1, v2):\n",
    "        if self.adjMatrix[v1][v2] == 0:\n",
    "            print(f\"Нет ребра между {v1} и {v2}\")\n",
    "            return\n",
    "        self.adjMatrix[v1][v2] = 0\n",
    "        self.adjMatrix[v2][v1] = 0\n",
    "\n",
    "    def print_matrix(self):\n",
    "        for row in self.adjMatrix:\n",
    "            for val in row:\n",
    "                print(f'{val:4d}')\n",
    "            print()\n"
   ]
  },
  {
   "cell_type": "code",
   "execution_count": null,
   "metadata": {},
   "outputs": [],
   "source": [
    "class AdjNode:\n",
    "  def __init__(self, value):\n",
    "    self.vertex = value\n",
    "    self.next = None\n",
    "\n",
    "class Graph:\n",
    "    def __init__(self, num):\n",
    "        self.V = num\n",
    "        self.graph = [None] * self.V\n",
    "\n",
    "    def add_edge(self, s, d):\n",
    "        node = AdjNode(d)\n",
    "        node.next = self.graph[s]\n",
    "        self.graph[s] = node\n",
    "        node = AdjNode(s)\n",
    "        node.next = self.graph[d]\n",
    "        self.graph[d] = node\n",
    "\n",
    "    def print_graph(self):\n",
    "        for i in range(self.V):\n",
    "            print(\"Вершина \" + str(i) + \":\", end=\"\")\n",
    "            temp = self.graph[i]\n",
    "        while temp:\n",
    "            print(f\" -> {temp.vertex}\", end=\"\")\n",
    "            temp = temp.next\n",
    "        print(\" \\n\")\n"
   ]
  }
 ],
 "metadata": {
  "kernelspec": {
   "display_name": "Python 3",
   "language": "python",
   "name": "python3"
  },
  "language_info": {
   "codemirror_mode": {
    "name": "ipython",
    "version": 3
   },
   "file_extension": ".py",
   "mimetype": "text/x-python",
   "name": "python",
   "nbconvert_exporter": "python",
   "pygments_lexer": "ipython3",
   "version": "3.12.3"
  }
 },
 "nbformat": 4,
 "nbformat_minor": 2
}
