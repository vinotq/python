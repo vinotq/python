{
 "cells": [
  {
   "cell_type": "markdown",
   "metadata": {},
   "source": [
    "# **Lection #8**\n",
    "### **Theme**: Кратчайшие пути в ациклических графах\n",
    "##### **Date**: 22.10.24"
   ]
  },
  {
   "cell_type": "markdown",
   "metadata": {},
   "source": [
    "# **Алгоритм Беллмана-Форда**"
   ]
  },
  {
   "cell_type": "code",
   "execution_count": 1,
   "metadata": {},
   "outputs": [],
   "source": [
    "class Graph:\n",
    "    def __init__(self, vertices):\n",
    "        self.V = vertices\n",
    "        self.graph = []\n",
    "\n",
    "    def addEdge(self, u, v, w):\n",
    "        self.graph.append([u, v, w])\n",
    "\n",
    "    def printArr(self, dist):\n",
    "        print(\"Расстояние до стартовой\")\n",
    "        for i in range(self.V):\n",
    "            print(f\"{i}\\t\\t{dist[i]}\")\n",
    "\n",
    "\n",
    "\n",
    "def BellmanFord(self, src):\n",
    "    dist = [float(\"Inf\")] * self.V\n",
    "    dist[src] = 0\n",
    "\n",
    "    for _ in range(self.V - 1):\n",
    "        for u, v, w in self.graph:\n",
    "            if dist[u] != float(\"Inf\") \\\n",
    "                and dist[u] + w < dist[v]:\n",
    "                dist[v] = dist[u] + w\n",
    "    self.printArr(dist)"
   ]
  },
  {
   "cell_type": "code",
   "execution_count": null,
   "metadata": {},
   "outputs": [],
   "source": [
    "def BellmanFord(self, src):\n",
    "    dist = [float(\"Inf\")] * self.V\n",
    "    dist[src] = 0\n",
    "\n",
    "    for _ in range(self.V - 1):\n",
    "        for u, v, w in self.graph:\n",
    "            if dist[u] != float(\"Inf\") \\\n",
    "            and dist[u] + w < dist[v]:\n",
    "                dist[v] = dist[u] + w\n",
    "\n",
    "    for u, v, w in self.graph:\n",
    "        if dist[u] != float(\"Inf\") \\\n",
    "        and dist[u] + w < dist[v]:\n",
    "            print(\"Граф содержит отрицательный цикл\")\n",
    "        return\n",
    "\n",
    "    self.printArr(dist)"
   ]
  },
  {
   "cell_type": "markdown",
   "metadata": {},
   "source": [
    "# **Кратчайшие пути между всеми парами вершин. Алгоритм Флойда-Уоршелла**"
   ]
  },
  {
   "cell_type": "code",
   "execution_count": null,
   "metadata": {},
   "outputs": [],
   "source": [
    "def floydWarshall(graph):\n",
    "    dist = list(map(lambda i: list(map(lambda j: j, i)), graph))\n",
    "    for k in range(V):\n",
    "        for i in range(V):\n",
    "            for j in range(V):\n",
    "                dist[i][j] = min(dist[i][j], dist[i][k] + dist[k][j])"
   ]
  }
 ],
 "metadata": {
  "kernelspec": {
   "display_name": "Python 3",
   "language": "python",
   "name": "python3"
  },
  "language_info": {
   "codemirror_mode": {
    "name": "ipython",
    "version": 3
   },
   "file_extension": ".py",
   "mimetype": "text/x-python",
   "name": "python",
   "nbconvert_exporter": "python",
   "pygments_lexer": "ipython3",
   "version": "3.12.3"
  }
 },
 "nbformat": 4,
 "nbformat_minor": 2
}
