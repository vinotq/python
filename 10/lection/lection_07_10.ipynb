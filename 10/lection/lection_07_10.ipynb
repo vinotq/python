{
 "cells": [
  {
   "cell_type": "markdown",
   "metadata": {},
   "source": [
    "# **Lection #5**:\n",
    "### **Theme**: Генераторы, декораторы\n",
    "##### **Date**: 07.10.24"
   ]
  },
  {
   "cell_type": "markdown",
   "metadata": {},
   "source": [
    "# **Oleg**"
   ]
  },
  {
   "cell_type": "code",
   "execution_count": 40,
   "metadata": {},
   "outputs": [],
   "source": [
    "def rgb(r, g, b):\n",
    "    if r > 255:\n",
    "        r = 255\n",
    "\n",
    "    if g > 255:\n",
    "        g = 255\n",
    "\n",
    "    if b > 255:\n",
    "        b = 255\n",
    "\n",
    "    if r < 0:\n",
    "        r = 0\n",
    "\n",
    "    if g < 0:\n",
    "        g = 0\n",
    "\n",
    "    if b < 0:\n",
    "        b = 0\n",
    "\n",
    "    return (f\"{hex(r//16)[2:].upper()}{hex(r%16)[2:].upper()}{hex(g//16)[2:].upper()}{hex(g%16)[2:].upper()}{hex(b//16)[2:].upper()}{hex(b%16)[2:].upper()}\")\n",
    "\n"
   ]
  },
  {
   "cell_type": "code",
   "execution_count": 43,
   "metadata": {},
   "outputs": [
    {
     "name": "stdout",
     "output_type": "stream",
     "text": [
      "FF9933\n"
     ]
    },
    {
     "data": {
      "text/plain": [
       "{'r': 255, 'g': 153, 'b': 51}"
      ]
     },
     "execution_count": 43,
     "metadata": {},
     "output_type": "execute_result"
    }
   ],
   "source": [
    "def hex_string_to_RGB(hex_string):\n",
    "    hex_string = hex_string[1:]\n",
    "    result = {}\n",
    "    result[\"r\"] = int(hex_string[0], 16) * 16 + int(hex_string[1], 16)\n",
    "    result[\"g\"] = int(hex_string[2], 16) * 16 + int(hex_string[3], 16)\n",
    "    result[\"b\"] = int(hex_string[4], 16) * 16 + int(hex_string[5], 16)\n",
    "\n",
    "    print(hex_string)\n",
    "    return result\n",
    "\n",
    "hex_string_to_RGB(\"#FF9933\")"
   ]
  },
  {
   "cell_type": "code",
   "execution_count": null,
   "metadata": {},
   "outputs": [],
   "source": [
    "def format_duration(seconds):\n",
    "    if seconds == 0:\n",
    "        return \"now\"\n",
    "\n",
    "    times = [\n",
    "        (\"year\", 365 * 24 * 3600),\n",
    "        (\"day\", 24 * 3600),\n",
    "        (\"hour\", 3600),\n",
    "        (\"minute\", 60),\n",
    "        (\"second\", 1)\n",
    "    ]\n",
    "\n",
    "    result = []\n",
    "\n",
    "    for name, hm_second in times:\n",
    "        if seconds >= hm_second:\n",
    "            count = seconds // hm_second\n",
    "            seconds %= hm_second\n",
    "\n",
    "            if count == 1:\n",
    "                result.append(f\"{count} {name}\")\n",
    "            else:\n",
    "                result.append(f\"{count} {name}s\")\n",
    "\n",
    "    if len(result) == 1:\n",
    "        return result[0]\n",
    "\n",
    "    elif len(result) == 2:\n",
    "        return ' and '.join(result)\n",
    "\n",
    "    else:\n",
    "        return ', '.join(result[:-1]) + ' and ' + result[-1]\n"
   ]
  }
 ],
 "metadata": {
  "kernelspec": {
   "display_name": "Python 3",
   "language": "python",
   "name": "python3"
  },
  "language_info": {
   "codemirror_mode": {
    "name": "ipython",
    "version": 3
   },
   "file_extension": ".py",
   "mimetype": "text/x-python",
   "name": "python",
   "nbconvert_exporter": "python",
   "pygments_lexer": "ipython3",
   "version": "3.12.3"
  }
 },
 "nbformat": 4,
 "nbformat_minor": 2
}
