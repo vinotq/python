{
 "cells": [
  {
   "cell_type": "markdown",
   "metadata": {},
   "source": [
    "# **Lection #6**:\n",
    "### **Theme**: Работа с файлами, котекстные менеджеры\n",
    "##### **Date**: 21.10.24"
   ]
  },
  {
   "cell_type": "markdown",
   "metadata": {},
   "source": [
    "## **Открытие файлов в питончике**\n"
   ]
  },
  {
   "cell_type": "code",
   "execution_count": null,
   "metadata": {},
   "outputs": [],
   "source": [
    "file = open(\"filename\")"
   ]
  },
  {
   "cell_type": "markdown",
   "metadata": {},
   "source": [
    "## **Пару ключей для открытия**\n",
    "##### - **r** для чтения\n",
    "##### - **w** для записи\n",
    "##### - **a** добавление в конец\n",
    "##### - **+** добавление + чтение"
   ]
  },
  {
   "cell_type": "markdown",
   "metadata": {},
   "source": [
    "## **Способы чтения файлов**\n"
   ]
  },
  {
   "cell_type": "code",
   "execution_count": null,
   "metadata": {},
   "outputs": [],
   "source": [
    "file.read(size = -1) # default, не более size символов"
   ]
  },
  {
   "cell_type": "code",
   "execution_count": null,
   "metadata": {},
   "outputs": [],
   "source": [
    "file.readlines() # all file, return it as list"
   ]
  },
  {
   "cell_type": "code",
   "execution_count": 11,
   "metadata": {},
   "outputs": [
    {
     "name": "stdout",
     "output_type": "stream",
     "text": [
      "oleg\n",
      "me too\n",
      "47\n",
      "after so many years\n"
     ]
    }
   ],
   "source": [
    "with open(\"test.txt\", \"r\") as fp:\n",
    "    for line in fp:\n",
    "        print(line, end = \"\")"
   ]
  },
  {
   "cell_type": "markdown",
   "metadata": {},
   "source": [
    "## **Способы записи файлов**\n"
   ]
  },
  {
   "cell_type": "code",
   "execution_count": 12,
   "metadata": {},
   "outputs": [],
   "source": [
    "text = [\"me too\", \"47\", \"after so many years\"]\n",
    "\n",
    "with open(\"test.txt\", \"w\") as fp:\n",
    "    for line in text:\n",
    "        fp.write(line + \"\\n\")"
   ]
  },
  {
   "cell_type": "code",
   "execution_count": 13,
   "metadata": {},
   "outputs": [
    {
     "name": "stdout",
     "output_type": "stream",
     "text": [
      "me too\n",
      "47\n",
      "after so many years\n"
     ]
    }
   ],
   "source": [
    "with open(\"test.txt\", \"r\") as fp:\n",
    "    for line in fp:\n",
    "        print(line, end = \"\")"
   ]
  },
  {
   "cell_type": "markdown",
   "metadata": {},
   "source": [
    "## **Контекстные менеджеры**\n"
   ]
  },
  {
   "cell_type": "code",
   "execution_count": 23,
   "metadata": {},
   "outputs": [
    {
     "name": "stdout",
     "output_type": "stream",
     "text": [
      "0.0238095238095238095238095238095238095238095\n"
     ]
    },
    {
     "data": {
      "text/plain": [
       "Decimal('0.02380952380952380952380952381')"
      ]
     },
     "execution_count": 23,
     "metadata": {},
     "output_type": "execute_result"
    }
   ],
   "source": [
    "from decimal import Decimal, localcontext\n",
    "\n",
    "with localcontext() as ctx:\n",
    "    ctx.prec = 42\n",
    "    print(Decimal(\"1\") / Decimal(\"42\"))\n",
    "\n",
    "Decimal(\"1\") / Decimal(\"42\")"
   ]
  },
  {
   "cell_type": "code",
   "execution_count": null,
   "metadata": {},
   "outputs": [],
   "source": []
  }
 ],
 "metadata": {
  "kernelspec": {
   "display_name": "Python 3",
   "language": "python",
   "name": "python3"
  },
  "language_info": {
   "codemirror_mode": {
    "name": "ipython",
    "version": 3
   },
   "file_extension": ".py",
   "mimetype": "text/x-python",
   "name": "python",
   "nbconvert_exporter": "python",
   "pygments_lexer": "ipython3",
   "version": "3.12.3"
  }
 },
 "nbformat": 4,
 "nbformat_minor": 2
}
