{
 "cells": [
  {
   "cell_type": "markdown",
   "metadata": {},
   "source": [
    "# **Lection #7**:\n",
    "### **Theme**: Патерны 2, Структурные 😭😲🤯\n",
    "##### **Date**: 28.10.24"
   ]
  },
  {
   "cell_type": "markdown",
   "metadata": {},
   "source": [
    "### **Паттерн** `Адаптер` \n",
    "- Преобразует интерфейс одного класса в интерфейс *другого*, который  \n",
    "ожидают клиенты. Адаптер обеспечивает **совместную работу классов** с  \n",
    "несовместимыми интерфейсами, которая без него была бы  \n",
    "невозможна.  \n"
   ]
  },
  {
   "cell_type": "code",
   "execution_count": 2,
   "metadata": {},
   "outputs": [
    {
     "name": "stdout",
     "output_type": "stream",
     "text": [
      "Target: the default target's behaviour\n",
      "Adapter: Adaptee: special behavior\n"
     ]
    }
   ],
   "source": [
    "class Target:\n",
    "    def request(self) -> str:\n",
    "        return \"Target: the default target's behaviour\"\n",
    "\n",
    "\n",
    "class Adaptee:\n",
    "    \"\"\"\n",
    "        я его адаптирую 🤯\n",
    "    \"\"\"\n",
    "    def specific_request(self):\n",
    "        return \"Adaptee: special behavior\"[::-1]\n",
    "\n",
    "\n",
    "class Adapter(Target, Adaptee):\n",
    "    def request(self) -> str:\n",
    "        return f\"Adapter: {self.specific_request()[::-1]}\"\n",
    "\n",
    "\n",
    "def client_code(target) -> None:\n",
    "    print(target.request())\n",
    "\n",
    "\n",
    "trgt = Target()\n",
    "client_code(trgt)\n",
    "\n",
    "# adptee = Adaptee()\n",
    "adapter = Adapter()\n",
    "client_code(adapter)"
   ]
  },
  {
   "cell_type": "markdown",
   "metadata": {},
   "source": [
    "#### `Адаптер` через **композицию**\n"
   ]
  },
  {
   "cell_type": "code",
   "execution_count": 10,
   "metadata": {},
   "outputs": [
    {
     "name": "stdout",
     "output_type": "stream",
     "text": [
      "Adapter: Adaptee: special behavior\n"
     ]
    }
   ],
   "source": [
    "class AdapterComp(Target):\n",
    "    def __init__(self, adaptee: Adaptee) -> None:\n",
    "        self.adaptee = adaptee\n",
    "\n",
    "    def request(self):\n",
    "        return f\"Adapter: {self.adaptee.specific_request()[::-1]}\"\n",
    "\n",
    "adaptee = Adaptee()\n",
    "adapter2 = AdapterComp(adaptee)\n",
    "client_code(adapter2)\n"
   ]
  },
  {
   "cell_type": "markdown",
   "metadata": {},
   "source": [
    "### **Паттерн** `Фасад` \n",
    "- паттерн, *структурирующий* объекты.  \n",
    "- **Фасад** определяет интерфейс более высокого уровня, который упрощает  \n",
    "использование подсистемы.  \n"
   ]
  },
  {
   "cell_type": "code",
   "execution_count": 15,
   "metadata": {},
   "outputs": [
    {
     "name": "stdout",
     "output_type": "stream",
     "text": [
      "Facade init subsys:\n",
      "Subsys 1 is ZZZZ!\n",
      "Subsys 2 is VVVV!\n",
      "Facade orders subsys to perform the action:\n",
      "Subsys 1 is CB0!\n",
      "Subsys 2 is ZOV!\n"
     ]
    }
   ],
   "source": [
    "from __future__ import annotations\n",
    "\n",
    "class Facade:\n",
    "    def __init__(self, subsys1: Subsys1, subsys2: Subsys2) -> None:\n",
    "        self._subsys1 = subsys1 or Subsys1()\n",
    "        self._subsys2 = subsys2 or Subsys2()\n",
    "\n",
    "    def operation(self) -> str:\n",
    "        res = []\n",
    "        res.append(\"Facade init subsys:\")\n",
    "        res.append(self._subsys1.operation1())\n",
    "        res.append(self._subsys2.operation1())\n",
    "        res.append(\"Facade orders subsys to perform the action:\")\n",
    "        res.append(self._subsys1.operation_n())\n",
    "        res.append(self._subsys2.operation_z())\n",
    "        return \"\\n\".join(res)\n",
    "\n",
    "class Subsys1:\n",
    "    def operation1(str) -> str:\n",
    "        return \"Subsys 1 is ZZZZ!\"\n",
    "\n",
    "    def operation_n(str) -> str:\n",
    "        return \"Subsys 1 is CB0!\"\n",
    "\n",
    "class Subsys2:\n",
    "    def operation1(str) -> str:\n",
    "        return \"Subsys 2 is VVVV!\"\n",
    "\n",
    "    def operation_z(str) -> str:\n",
    "        return \"Subsys 2 is ZOV!\"\n",
    "\n",
    "def client_code(facade: Facade):\n",
    "    print(facade.operation())\n",
    "    facade._subsys1.operation1()\n",
    "\n",
    "\n",
    "sub1 = Subsys1()\n",
    "sub2 = Subsys2()\n",
    "facade = Facade(sub1, sub2)\n",
    "client_code(facade)"
   ]
  },
  {
   "cell_type": "markdown",
   "metadata": {},
   "source": [
    "### **Паттерн** `Мост` \n",
    "- паттерн, *структурирующий* объекты.  \n",
    "- отделить абстракцию от ее реализации так, чтобы то и другое  \n",
    "можно было изменять независимо\n"
   ]
  },
  {
   "cell_type": "code",
   "execution_count": 18,
   "metadata": {},
   "outputs": [
    {
     "name": "stdout",
     "output_type": "stream",
     "text": [
      "Abstaction: Base operation with:\n",
      "ConcreteImplementation: result A\n",
      "Abstaction: Changed operation with:\n",
      "ConcreteImplementation: result B\n"
     ]
    }
   ],
   "source": [
    "from abc import ABC, abstractmethod\n",
    "\n",
    "class Abstraction:\n",
    "    def __init__(self, implementation: Implementation):\n",
    "        self.implementation = implementation\n",
    "\n",
    "    def operation(self):\n",
    "        return f\"Abstaction: Base operation with:\\n{self.implementation.operation_imp()}\"\n",
    "\n",
    "class RefinedAbstraction(Abstraction):\n",
    "    def operation(self):\n",
    "        return f\"Abstaction: Changed operation with:\\n{self.implementation.operation_imp()}\"\n",
    "\n",
    "\n",
    "class Implementation(ABC):\n",
    "    @abstractmethod\n",
    "    def operation_imp(self):\n",
    "        pass\n",
    "\n",
    "class ConcreteImplementationA(Implementation):\n",
    "    def operation_imp(self) -> str:\n",
    "        return \"ConcreteImplementation: result A\"\n",
    "\n",
    "class ConcreteImplementationB(Implementation):\n",
    "    def operation_imp(self) -> str:\n",
    "        return \"ConcreteImplementation: result B\"\n",
    "\n",
    "def client_code(abstraction: Abstraction) -> None:\n",
    "    print(abstraction.operation())\n",
    "\n",
    "imp = ConcreteImplementationA()\n",
    "abstraction = Abstraction(imp)\n",
    "client_code(abstraction)\n",
    "\n",
    "imp2 = ConcreteImplementationB()\n",
    "abstraction2 = RefinedAbstraction(imp2)\n",
    "client_code(abstraction2)\n"
   ]
  },
  {
   "cell_type": "markdown",
   "metadata": {},
   "source": [
    "# !DO NOT SUBMIT!, only test"
   ]
  },
  {
   "cell_type": "code",
   "execution_count": 19,
   "metadata": {},
   "outputs": [
    {
     "name": "stderr",
     "output_type": "stream",
     "text": [
      "<>:7: SyntaxWarning: invalid escape sequence '\\s'\n",
      "<>:7: SyntaxWarning: invalid escape sequence '\\s'\n",
      "/tmp/ipykernel_32331/4096073864.py:7: SyntaxWarning: invalid escape sequence '\\s'\n",
      "  regex = re.compile(\"\\s*(=>|[-+*\\/\\%=\\(\\)]|[A-Za-z_][A-Za-z0-9_]*|[0-9]*\\.?[0-9]+)\\s*\")\n"
     ]
    }
   ],
   "source": [
    "import re\n",
    "\n",
    "def tokenize(expression):\n",
    "    if expression == \"\":\n",
    "        return []\n",
    "\n",
    "    regex = re.compile(\"\\s*(=>|[-+*\\/\\%=\\(\\)]|[A-Za-z_][A-Za-z0-9_]*|[0-9]*\\.?[0-9]+)\\s*\")\n",
    "    tokens = regex.findall(expression)\n",
    "    return [s for s in tokens if not s.isspace()]\n",
    "\n",
    "class Interpreter:\n",
    "\n",
    "    priority = ('%', '/', '*', '-', '+', '=')\n",
    "\n",
    "    def __init__(self):\n",
    "        self.vars = {}\n",
    "        self.functions = {}\n",
    "\n",
    "    def calc(self, a, b, op):\n",
    "        if op == '=' and a.isalpha():\n",
    "            self.vars[a] = b\n",
    "            return float(b)\n",
    "        if a in self.vars.keys(): a = self.vars[a]\n",
    "        if b in self.vars.keys(): b = self.vars[b]\n",
    "\n",
    "        if op == '+': return float(a) + float(b)\n",
    "        elif op == '-': return float(a) - float(b)\n",
    "        elif op == '*': return float(a) * float(b)\n",
    "        elif op == '/' and b != '0': return float(a) / float(b)\n",
    "        elif op == '%': return float(a) % float(b)\n",
    "\n",
    "    def input(self, expression):\n",
    "        tokens = tokenize(expression)\n",
    "        if not tokens:\n",
    "            return ''\n",
    "        if (\n",
    "                tokens.count('+') == 0\n",
    "                and tokens.count('-') == 0\n",
    "                and tokens.count('*') == 0\n",
    "                and tokens.count('/') == 0\n",
    "                and tokens.count('%') == 0\n",
    "                and tokens.count('=') == 0\n",
    "                and len(tokens) > 1\n",
    "            ):\n",
    "                raise Exception\n",
    "        current_priority = 0\n",
    "        while len(tokens) > 1:\n",
    "            f = True\n",
    "            for i in range(len(tokens)):\n",
    "                if tokens[i] == ')':\n",
    "                    j = i-1\n",
    "                    res = []\n",
    "                    while tokens[j] != '(':\n",
    "                        res.append(tokens[j])\n",
    "                        j -= 1\n",
    "                    res = self.input(''.join(res[::-1]))\n",
    "                    del tokens[j:i+1]\n",
    "                    tokens.insert(j, str(res))\n",
    "                    f = False\n",
    "                    break\n",
    "\n",
    "                if tokens.count(')') == 0 and tokens[i] in Interpreter.priority[current_priority]:\n",
    "                    res = str(self.calc(tokens[i-1], tokens[i+1], tokens[i]))\n",
    "                    print(tokens)\n",
    "                    del tokens[i-1:i+2]\n",
    "                    tokens.insert(i, res)\n",
    "                    break\n",
    "\n",
    "            if f:\n",
    "                current_priority += 1\n",
    "            if current_priority >= len(Interpreter.priority):\n",
    "                break\n",
    "\n",
    "        if tokens[0].isalpha() and not self.vars.get(tokens[0]):\n",
    "            raise Exception\n",
    "        if tokens[0].isalpha():\n",
    "            return float(self.vars[tokens[0]])\n",
    "        return float(tokens[0])\n"
   ]
  }
 ],
 "metadata": {
  "kernelspec": {
   "display_name": "Python 3",
   "language": "python",
   "name": "python3"
  },
  "language_info": {
   "codemirror_mode": {
    "name": "ipython",
    "version": 3
   },
   "file_extension": ".py",
   "mimetype": "text/x-python",
   "name": "python",
   "nbconvert_exporter": "python",
   "pygments_lexer": "ipython3",
   "version": "3.12.3"
  }
 },
 "nbformat": 4,
 "nbformat_minor": 2
}
