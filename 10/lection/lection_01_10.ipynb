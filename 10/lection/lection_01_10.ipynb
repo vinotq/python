{
 "cells": [
  {
   "cell_type": "markdown",
   "metadata": {},
   "source": [
    "# **Lection #4**:\n",
    "### **Theme**: Функции, пространства имен, обработка ошибок, модули\n",
    "##### **Date**: 01.10.24"
   ]
  },
  {
   "cell_type": "markdown",
   "metadata": {},
   "source": [
    "# **Lection #4**:\n",
    "### **Theme**: Функции, пространства имен, обработка ошибок, модули\n",
    "##### **Date**: 01.10.24"
   ]
  },
  {
   "cell_type": "code",
   "execution_count": 45,
   "metadata": {},
   "outputs": [
    {
     "data": {
      "text/plain": [
       "(40, -2)"
      ]
     },
     "execution_count": 45,
     "metadata": {},
     "output_type": "execute_result"
    }
   ],
   "source": [
    "class User:\n",
    "    def __init__(self, rank = -8, progress = 0):\n",
    "        self.rank = rank\n",
    "        self.progress = progress\n",
    "\n",
    "    def inc_progress(self, value):\n",
    "        if value > 8 or value < -8 or value == 0:\n",
    "            raise ValueError\n",
    "        d = value - self.rank + ( -1 if (value > 0 and self.rank < 0) else 1 if (value < 0 and self.rank > 0) else 0)\n",
    "        if d >= 1:\n",
    "            self.progress += 10 * d * d\n",
    "\n",
    "        elif d == -1:\n",
    "            self.progress += 1\n",
    "\n",
    "        elif d == 0:\n",
    "            self.progress += 3\n",
    "\n",
    "\n",
    "        while self.progress >= 100:\n",
    "            if self.rank < 8:\n",
    "                self.progress -= 100\n",
    "                self.rank += 1 if self.rank != -1 else 2\n",
    "            else:\n",
    "                break\n",
    "\n",
    "        if self.rank == 8:\n",
    "            self.progress = 0\n",
    "\n",
    "\n",
    "        return self.progress, self.rank\n",
    "\n",
    "user = User()\n",
    "user.inc_progress(1)"
   ]
  },
  {
   "cell_type": "code",
   "execution_count": 17,
   "metadata": {},
   "outputs": [
    {
     "name": "stdout",
     "output_type": "stream",
     "text": [
      "[1, 2, 3, 4, 5, 6, 7, 8, 9]\n",
      "[0, 1, 0, 0, 0, 0, 0, 0, 0, 0]\n",
      "[0, 1, 2, 0, 0, 0, 0, 0, 0, 0]\n",
      "[0, 1, 2, 3, 0, 0, 0, 0, 0, 0]\n",
      "[0, 1, 2, 3, 4, 0, 0, 0, 0, 0]\n",
      "[0, 1, 2, 3, 4, 5, 0, 0, 0, 0]\n",
      "[0, 1, 2, 3, 4, 5, 6, 0, 0, 0]\n",
      "[0, 1, 2, 3, 4, 5, 6, 7, 0, 0]\n",
      "[0, 1, 2, 3, 4, 5, 6, 7, 8, 0]\n",
      "[0, 1, 2, 3, 4, 5, 6, 7, 8, 9]\n"
     ]
    },
    {
     "data": {
      "text/plain": [
       "[0, 1, 2, 3, 4, 5, 6, 7, 8, 9]"
      ]
     },
     "execution_count": 17,
     "metadata": {},
     "output_type": "execute_result"
    }
   ],
   "source": [
    "def snail(snail_map):\n",
    "    c = len(snail_map[0])\n",
    "    snail_map = [i for row in snail_map for i in row]\n",
    "    print(snail_map)\n",
    "    snail_map_sorted = [0]*(len(snail_map)+1)\n",
    "    count = 0\n",
    "\n",
    "    i = 0\n",
    "    j = 1\n",
    "    n = 3\n",
    "    itr = n\n",
    "\n",
    "    while count != len(snail_map):\n",
    "        snail_map_sorted[j] = snail_map[i]\n",
    "        print(snail_map_sorted)\n",
    "        j += 1\n",
    "        i += 1\n",
    "        itr += 1\n",
    "\n",
    "\n",
    "\n",
    "\n",
    "\n",
    "    return snail_map_sorted\n",
    "\n",
    "snail([[1,2,3],\n",
    "         [4,5,6],\n",
    "         [7,8,9]])"
   ]
  }
 ],
 "metadata": {
  "kernelspec": {
   "display_name": "Python 3",
   "language": "python",
   "name": "python3"
  },
  "language_info": {
   "codemirror_mode": {
    "name": "ipython",
    "version": 3
   },
   "file_extension": ".py",
   "mimetype": "text/x-python",
   "name": "python",
   "nbconvert_exporter": "python",
   "pygments_lexer": "ipython3",
   "version": "3.12.3"
  }
 },
 "nbformat": 4,
 "nbformat_minor": 2
}
