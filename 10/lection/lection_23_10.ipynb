{
 "cells": [
  {
   "cell_type": "markdown",
   "metadata": {},
   "source": [
    "# **Lection #5**:\n",
    "### **Theme**: Наследование, декодирование классов\n",
    "##### **Date**: 23.10.24"
   ]
  },
  {
   "cell_type": "markdown",
   "metadata": {},
   "source": [
    "## **Суть наследования**\n",
    "- сохраняет всю структуру: от атрибутов до методов \n",
    "## **Множественное наследование. Diamond problem**\n",
    "- проблемы в разрешении связей между класса\n",
    "## **Декораторирование классов**\n",
    "- можно написать класс-декоратор вместо функции декоратора\n",
    "- можно декорировать класс классом\n",
    "## **Mixin**\n",
    "- только **методы**, для добавления методов в другие классы\n",
    "## **Dataclasses**\n",
    "- данные важнее методов, нет как таковой функциональности, только property с данными\n"
   ]
  }
 ],
 "metadata": {
  "kernelspec": {
   "display_name": "Python 3",
   "language": "python",
   "name": "python3"
  },
  "language_info": {
   "codemirror_mode": {
    "name": "ipython",
    "version": 3
   },
   "file_extension": ".py",
   "mimetype": "text/x-python",
   "name": "python",
   "nbconvert_exporter": "python",
   "pygments_lexer": "ipython3",
   "version": "3.12.3"
  }
 },
 "nbformat": 4,
 "nbformat_minor": 2
}
