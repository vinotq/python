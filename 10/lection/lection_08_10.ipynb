{
 "cells": [
  {
   "cell_type": "markdown",
   "metadata": {},
   "source": [
    "# **Lection #4**:\n",
    "### **Theme**: МаГиЯ, атрибуты, метаклассы\n",
    "##### **Date**: 08.10.24"
   ]
  },
  {
   "cell_type": "markdown",
   "metadata": {},
   "source": [
    "## **Методы представления**\n",
    "- \\_\\_repr\\_\\_() - отладка\n",
    "- \\_\\_str\\_\\_() - при преобр в строку\n",
    "- \\_\\_bytes\\_\\_() - как стр только в байтах\n",
    "- \\_\\_format\\_\\_() - при форматировании\n",
    "- \\_\\_hash\\_\\_() - определение контрольной суммы объекта\n",
    "- \\_\\_bool\\_\\_() - от реализации тру или фалсе. \\_\\_**len**\\_\\_() по стандарту если не реализован\n",
    "## **Методы атрибутов**\n",
    "- \\_\\_getattr\\_\\_(self, name) - вызывается при обращении к атрибуту **y** объекта **x**\n",
    "- \\_\\_setattr\\_\\_(self, name, value) - устанавливает заданный атрибут  \n",
    "## **Создание последовательностей**\n",
    "- \\_\\_len\\_\\_(self) - кол-во элементов в последовательности\n",
    "- \\_\\_iter\\_\\_(self) - итератор последовательности - поиск значения по признаку итерации пока возможно\n",
    "- \\_\\_getitem\\_\\_(self, key) - вызыватеся при обращении к элементу по ключу-индексу\n",
    "- \\_\\_contains\\_\\_(self, item) - проверка принадлежности к последовательности **in** или **not in**\n",
    "## **Унарные операторы**\n",
    "- \\_\\_neg\\_\\_(self) - есть **(-a)**\n",
    "- \\_\\_pos\\_\\_(self) - есть **(+a)**\n",
    "- \\_\\_abs\\_\\_(self, key) - поведение встроенной функции\n",
    "- \\_\\_ivert\\_\\_(self, item) - изменение знака, инвертирование\n",
    "## **Арифметические операторы**\n",
    "- \\_\\_add\\_\\_(self, other) - есть **+**\n",
    "- \\_\\_sub\\_\\_(self, other) - есть **-**\n",
    "- \\_\\_mul\\_\\_(self, other) - есть **\\***\n",
    "- \\_\\_mod\\_\\_(self, item) -  есть **%**\n",
    "## **Составное присваивание**\n",
    "- **xor** и все такое\n",
    "## **Метаклассы**:"
   ]
  },
  {
   "cell_type": "code",
   "execution_count": 1488,
   "metadata": {},
   "outputs": [
    {
     "name": "stdout",
     "output_type": "stream",
     "text": [
      "New class MyMethClass\n"
     ]
    }
   ],
   "source": [
    "class MyMeth(type):\n",
    "    def __init__(cls, name, bases, attrs):\n",
    "        print(f\"New class {name}\")\n",
    "        super().__init__(name, bases, attrs)\n",
    "\n",
    "class MyMethClass(metaclass = MyMeth):\n",
    "    pass"
   ]
  }
 ],
 "metadata": {
  "kernelspec": {
   "display_name": "Python 3",
   "language": "python",
   "name": "python3"
  },
  "language_info": {
   "codemirror_mode": {
    "name": "ipython",
    "version": 3
   },
   "file_extension": ".py",
   "mimetype": "text/x-python",
   "name": "python",
   "nbconvert_exporter": "python",
   "pygments_lexer": "ipython3",
   "version": "3.12.3"
  }
 },
 "nbformat": 4,
 "nbformat_minor": 2
}
