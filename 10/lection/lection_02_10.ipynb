{
 "cells": [
  {
   "cell_type": "markdown",
   "metadata": {},
   "source": [
    "# **Lection #3**:\n",
    "### **Theme**: Атрибуты, слоты\n",
    "##### **Date**: 02.10.24"
   ]
  },
  {
   "cell_type": "markdown",
   "metadata": {},
   "source": [
    "# **Слоты**\n"
   ]
  },
  {
   "cell_type": "code",
   "execution_count": null,
   "metadata": {},
   "outputs": [],
   "source": [
    "class Class:\n",
    "    __slots__ = ['x', 'y', 'z']\n",
    "\n",
    "obj = Class()\n",
    "obj.z = 10\n",
    "obj.z\n"
   ]
  },
  {
   "cell_type": "markdown",
   "metadata": {},
   "source": [
    "# **Методы класса**\n"
   ]
  },
  {
   "cell_type": "code",
   "execution_count": null,
   "metadata": {},
   "outputs": [],
   "source": [
    "class MyClass:\n",
    "    def method(self):\n",
    "        return self\n",
    "\n",
    "    @classmethod\n",
    "    def classmethod(cls):\n",
    "        return cls\n",
    "    \n",
    "obj = MyClass()\n",
    "obj.classmethod(), obj.method()\n"
   ]
  },
  {
   "cell_type": "code",
   "execution_count": 51,
   "metadata": {},
   "outputs": [
    {
     "data": {
      "text/plain": [
       "-1"
      ]
     },
     "execution_count": 51,
     "metadata": {},
     "output_type": "execute_result"
    }
   ],
   "source": [
    "def next_smaller(n):\n",
    "    str_n = list(str(n))\n",
    "    length = len(str_n)\n",
    "    \n",
    "    x_i, y_i = -1, -1\n",
    "    \n",
    "    for i in range(length - 2, -1, -1):\n",
    "        if str_n[i] > str_n[i + 1]:\n",
    "            x_i = i\n",
    "            break\n",
    "        \n",
    "    if x_i == -1:\n",
    "        return -1 \n",
    "\n",
    "    for j in range(length - 1, x_i, -1):\n",
    "        if str_n[j] < str_n[x_i]:\n",
    "            if y_i == -1 or str_n[j] > str_n[y_i]: \n",
    "                y_i = j\n",
    "    \n",
    "    str_n[x_i], str_n[y_i] = str_n[y_i], str_n[x_i]\n",
    "    \n",
    "    str_n = str_n[:x_i + 1] + sorted(str_n[x_i + 1:], reverse=True)\n",
    "    \n",
    "    if str_n[0] == '0':\n",
    "        return -1\n",
    "    else:\n",
    "        result = int(''.join(str_n))\n",
    "        return result\n",
    "    \n",
    "\n",
    "\n",
    "next_smaller(100)\n",
    "    "
   ]
  },
  {
   "cell_type": "code",
   "execution_count": 54,
   "metadata": {},
   "outputs": [
    {
     "data": {
      "text/plain": [
       "21"
      ]
     },
     "execution_count": 54,
     "metadata": {},
     "output_type": "execute_result"
    }
   ],
   "source": [
    "def next_bigger(n):\n",
    "    str_n = list(str(n))\n",
    "\n",
    "    x_i, y_i = -1, -1\n",
    "    for i in range(len(str_n) - 2, -1, -1):\n",
    "        if str_n[i] < str_n[i + 1]:\n",
    "            x_i = i\n",
    "            break\n",
    "        \n",
    "    if x_i == -1:\n",
    "        return -1\n",
    "\n",
    "    for j in range(len(str_n) - 1, x_i, -1):\n",
    "        if str_n[j] > str_n[x_i]:\n",
    "            if y_i == -1 or str_n[j] < str_n[y_i]:\n",
    "                y_i = j\n",
    "\n",
    "    str_n[x_i], str_n[y_i] = str_n[y_i], str_n[x_i]\n",
    "\n",
    "    str_n = str_n[:x_i + 1] + sorted(str_n[x_i + 1:])\n",
    "\n",
    "    result = int(''.join(str_n))\n",
    "\n",
    "    return result if str_n[0] != '0' else -1\n",
    "\n",
    "\n",
    "next_bigger(12)\n",
    "    "
   ]
  }
 ],
 "metadata": {
  "kernelspec": {
   "display_name": "Python 3",
   "language": "python",
   "name": "python3"
  },
  "language_info": {
   "codemirror_mode": {
    "name": "ipython",
    "version": 3
   },
   "file_extension": ".py",
   "mimetype": "text/x-python",
   "name": "python",
   "nbconvert_exporter": "python",
   "pygments_lexer": "ipython3",
   "version": "3.12.3"
  }
 },
 "nbformat": 4,
 "nbformat_minor": 2
}
