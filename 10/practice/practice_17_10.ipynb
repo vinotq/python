{
 "cells": [
  {
   "cell_type": "markdown",
   "metadata": {},
   "source": [
    "# **Practice**:\n",
    "### **Theme**: Куча\n",
    "##### **Date**: 17.10.24"
   ]
  },
  {
   "cell_type": "code",
   "execution_count": 13,
   "metadata": {},
   "outputs": [
    {
     "data": {
      "text/plain": [
       "(0, [1, 3, 2, 10, 4, 7, 3])"
      ]
     },
     "execution_count": 13,
     "metadata": {},
     "output_type": "execute_result"
    }
   ],
   "source": [
    "from typing import Self\n",
    "\n",
    "class Heap:\n",
    "    def __init__(self) -> Self:\n",
    "        self.arr = []\n",
    "\n",
    "    def push(self, value) -> Self:\n",
    "        self.arr.append(value)\n",
    "        i = len(self.arr) - 1\n",
    "        prnt = (i - 1) // 2\n",
    "\n",
    "        while i > 0 and self.arr[i] < self.arr[prnt]:\n",
    "            self.arr[i], self.arr[prnt] = self.arr[prnt], self.arr[i]\n",
    "\n",
    "            i = prnt\n",
    "            prnt = (i - 1) // 2\n",
    "\n",
    "        return self\n",
    "\n",
    "    def pop(self) -> int:\n",
    "        self.arr[0], self.arr[-1] = self.arr[-1], self.arr[0]\n",
    "        res = self.arr.pop()\n",
    "        i = 0\n",
    "        prnt = (i - 1) // 2\n",
    "\n",
    "        while i < len(self.arr):\n",
    "            s = i\n",
    "            if 2*i + 1 < len(self.arr) and self.arr[s] > self.arr[2*i + 1]:\n",
    "                s = 2*i + 1\n",
    "            if 2*i + 2 < len(self.arr) and self.arr[s] > self.arr[2*i + 2]:\n",
    "                s = 2*i + 2\n",
    "\n",
    "            if s == i:\n",
    "                break\n",
    "\n",
    "            self.arr[i], self.arr[s] = self.arr[s], self.arr[i]\n",
    "            i = s\n",
    "\n",
    "        return res\n",
    "\n",
    "\n",
    "\n",
    "heap = Heap()\n",
    "heap.push(10).push(4).push(7).push(3).push(2).push(3).push(0).push(1)\n",
    "heap.pop(), heap.arr\n"
   ]
  }
 ],
 "metadata": {
  "kernelspec": {
   "display_name": "Python 3",
   "language": "python",
   "name": "python3"
  },
  "language_info": {
   "codemirror_mode": {
    "name": "ipython",
    "version": 3
   },
   "file_extension": ".py",
   "mimetype": "text/x-python",
   "name": "python",
   "nbconvert_exporter": "python",
   "pygments_lexer": "ipython3",
   "version": "3.12.3"
  }
 },
 "nbformat": 4,
 "nbformat_minor": 2
}
