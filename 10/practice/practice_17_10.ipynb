{
 "cells": [
  {
   "cell_type": "markdown",
   "metadata": {},
   "source": [
    "# **Practice**  \n",
    "##### 17.10.24"
   ]
  },
  {
   "cell_type": "markdown",
   "metadata": {},
   "source": [
    "### **Тема**: Codewars\n"
   ]
  },
  {
   "cell_type": "code",
   "execution_count": 6,
   "metadata": {},
   "outputs": [
    {
     "data": {
      "text/plain": [
       "['I--h--k--o--a-- --l--e--',\n",
       " '- --i-- --u--r--a-- --x-',\n",
       " '--t--n--y-- --e--l--s--y']"
      ]
     },
     "execution_count": 6,
     "metadata": {},
     "output_type": "execute_result"
    }
   ],
   "source": [
    "def split_message(message, count):\n",
    "    res = []\n",
    "    if count <= 0:\n",
    "        return None\n",
    "\n",
    "    for i in range(count):\n",
    "        strng = message[:]\n",
    "        for j in range(len(message)):\n",
    "            if (j-i) % count:\n",
    "                strng = strng[:j] + \"-\" + strng[j+1:]\n",
    "        res.append(strng)\n",
    "\n",
    "    return res\n",
    "\n",
    "split_message('I think you are all sexy', 3)"
   ]
  },
  {
   "cell_type": "code",
   "execution_count": 31,
   "metadata": {},
   "outputs": [
    {
     "data": {
      "text/plain": [
       "['Hello', 'hEllo', 'heLlo', 'helLo', 'hellO']"
      ]
     },
     "execution_count": 31,
     "metadata": {},
     "output_type": "execute_result"
    }
   ],
   "source": [
    "def wave(people):\n",
    "    res = []\n",
    "    for i in range(len(people)):\n",
    "        if people[i+1] == \" \":\n",
    "            continue\n",
    "        else:\n",
    "            res.append(people[:i] + people[i].capitalize() + people[i+1:])\n",
    "\n",
    "    return res\n",
    "\n",
    "wave(\"hello\")\n"
   ]
  },
  {
   "cell_type": "code",
   "execution_count": null,
   "metadata": {},
   "outputs": [],
   "source": [
    "def letter_pattern(words):\n",
    "    length = len(words)\n",
    "    if length < 2:\n",
    "        return words[0]\n",
    "\n",
    "    result = ''\n",
    "    for i in range(len(words[0])):\n",
    "        if all(word[i] == words[0][i] for word in words):\n",
    "            result += words[0][i]\n",
    "        else:\n",
    "            result += \"*\"\n",
    "\n",
    "\n",
    "    return result"
   ]
  }
 ],
 "metadata": {
  "kernelspec": {
   "display_name": "Python 3",
   "language": "python",
   "name": "python3"
  },
  "language_info": {
   "codemirror_mode": {
    "name": "ipython",
    "version": 3
   },
   "file_extension": ".py",
   "mimetype": "text/x-python",
   "name": "python",
   "nbconvert_exporter": "python",
   "pygments_lexer": "ipython3",
   "version": "3.12.3"
  }
 },
 "nbformat": 4,
 "nbformat_minor": 2
}
