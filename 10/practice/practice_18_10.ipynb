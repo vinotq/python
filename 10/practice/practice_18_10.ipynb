{
 "cells": [
  {
   "cell_type": "markdown",
   "metadata": {},
   "source": [
    "# **Practice #n + 2**  \n",
    "##### 18.10.24\n"
   ]
  },
  {
   "cell_type": "markdown",
   "metadata": {},
   "source": [
    "### **Тема**: bird mountain и все такое\n"
   ]
  },
  {
   "cell_type": "code",
   "execution_count": 1,
   "metadata": {},
   "outputs": [],
   "source": [
    "mountain = [\n",
    "    \"^^^^^^        \",\n",
    "    \" ^^^^^^^^     \",\n",
    "    \"  ^^^^^^^     \",\n",
    "    \"  ^^^^^       \",\n",
    "    \"  ^^^^^^^^^^^ \",\n",
    "    \"  ^^^^^^      \",\n",
    "    \"  ^^^^        \"\n",
    "]"
   ]
  },
  {
   "cell_type": "code",
   "execution_count": null,
   "metadata": {},
   "outputs": [
    {
     "data": {
      "text/plain": [
       "3"
      ]
     },
     "metadata": {},
     "output_type": "display_data"
    }
   ],
   "source": [
    "def peak_height(mountain):\n",
    "    n = len(mountain)\n",
    "    m = len(mountain[0])\n",
    "    map = [[None] * m for _ in range(n)]\n",
    "\n",
    "    for i in range(n):\n",
    "        for j in range(m):\n",
    "            if mountain[i][j] == \" \":\n",
    "                map[i][j] = 0\n",
    "\n",
    "    h = 0\n",
    "    f = True\n",
    "    while f:\n",
    "        f = False\n",
    "        for i in range(n):\n",
    "            for j in range(m):\n",
    "                if mountain[i][j] == \"^\" and map[i][j] is None:\n",
    "                    neib = [\n",
    "                        map[k[0]][k[1]]\n",
    "                        if 0 <= k[0] < n and 0 <= k[1] < m else 0\n",
    "                        for k in [(i - 1, j), (i + 1, j), (i, j - 1), (i, j + 1)]\n",
    "                    ]\n",
    "                    neib = [k for k in neib if k is not None]\n",
    "\n",
    "                    if neib and min(neib) == h:\n",
    "                        map[i][j] = min(neib) + 1\n",
    "                        f = True\n",
    "        h += 1\n",
    "\n",
    "    return h - 1\n",
    "\n",
    "peak_height(mountain)"
   ]
  },
  {
   "cell_type": "code",
   "execution_count": 101,
   "metadata": {},
   "outputs": [
    {
     "name": "stdout",
     "output_type": "stream",
     "text": [
      "[1, 1, 1, 1, 1, 1, 0, 0, 0, 0, 0, 0, 0, 0]\n",
      "[0, 2, 2, 2, 2, 2, 1, 1, 1, 0, 0, 0, 0, 0]\n",
      "[0, 0, 1, 2, 3, 3, 2, 1, 1, 0, 0, 0, 0, 0]\n",
      "[0, 0, 1, 2, 3, 2, 1, 0, 0, 0, 0, 0, 0, 0]\n",
      "[0, 0, 1, 2, 3, 3, 2, 1, 1, 1, 1, 1, 1, 0]\n",
      "[0, 0, 1, 2, 2, 2, 1, 1, 0, 0, 0, 0, 0, 0]\n",
      "[0, 0, 1, 1, 1, 1, 0, 0, 0, 0, 0, 0, 0, 0]\n"
     ]
    }
   ],
   "source": [
    "import heapq\n",
    "\n",
    "def peak_height(mountain):\n",
    "    n = len(mountain)\n",
    "    m = len(mountain[0])\n",
    "    map = [[None] * m for _ in range(n)]\n",
    "    queue = []\n",
    "    visited = set()\n",
    "    for i in range(n):\n",
    "        for j in range(m):\n",
    "            if mountain[i][j] == ' ':\n",
    "\n",
    "                break\n",
    "        else:\n",
    "            continue\n",
    "        break\n",
    "\n",
    "    queue = [(0, (i, j))]\n",
    "    map[i][j] = 0\n",
    "    visited.add((i, j))\n",
    "\n",
    "    while queue:\n",
    "        _, (i, j) = heapq.heappop(queue)\n",
    "\n",
    "        neib = [\n",
    "            k\n",
    "            for k in [(i - 1, j), (i + 1, j), (i, j - 1), (i, j + 1)]\n",
    "            if 0 <= k[0] < n and 0 <= k[1] < m\n",
    "        ]\n",
    "        for y, x in neib:\n",
    "            if (y, x) not in visited:\n",
    "                if mountain[y][x] == ' ':\n",
    "                    map[y][x] = 0\n",
    "                else:\n",
    "                    neib1 = [\n",
    "                        map[k[0]][k[1]] if 0 <= k[0] < n and 0 <= k[1] < m else 0\n",
    "                        for k in [(y - 1, x), (y + 1, x), (y, x - 1), (y, x + 1)]\n",
    "                    ]\n",
    "                    map[y][x] = min(k for k in neib1 if k is not None) + 1\n",
    "                heapq.heappush(queue, (map[y][x], (y, x)))\n",
    "                visited.add((y, x))\n",
    "\n",
    "\n",
    "    print(*map, sep='\\n')\n",
    "\n",
    "peak_height(mountain)"
   ]
  },
  {
   "cell_type": "code",
   "execution_count": 123,
   "metadata": {},
   "outputs": [
    {
     "data": {
      "text/plain": [
       "'354708'"
      ]
     },
     "execution_count": 123,
     "metadata": {},
     "output_type": "execute_result"
    }
   ],
   "source": [
    "def find_key(nums):\n",
    "    str_nums = [str(num) for num in nums]\n",
    "\n",
    "    num_length = len(str_nums[0])\n",
    "\n",
    "    res = \"\"\n",
    "\n",
    "    for col in range(num_length):\n",
    "        digit_count = {}\n",
    "\n",
    "        for num in str_nums:\n",
    "            digit = num[col]\n",
    "            if digit in digit_count:\n",
    "                digit_count[digit] += 1\n",
    "            else:\n",
    "                digit_count[digit] = 1\n",
    "\n",
    "        for digit, count in digit_count.items():\n",
    "            if count == 1:\n",
    "                res += digit\n",
    "                break\n",
    "\n",
    "    return res\n",
    "find_key([153456, 123406, 124456, 323456, 123458, 123756])"
   ]
  },
  {
   "cell_type": "code",
   "execution_count": 127,
   "metadata": {},
   "outputs": [
    {
     "data": {
      "text/plain": [
       "'00:00:00'"
      ]
     },
     "execution_count": 127,
     "metadata": {},
     "output_type": "execute_result"
    }
   ],
   "source": [
    "def make_readable(seconds):\n",
    "    h = seconds // 3600\n",
    "    m = (seconds - (h * 3600)) // 60\n",
    "    s = seconds - (h * 3600) -(m * 60)\n",
    "    return f\"{(str(h)).zfill(2)}:{(str(m)).zfill(2)}:{(str(s)).zfill(2)}\"\n",
    "\n",
    "make_readable(0)"
   ]
  },
  {
   "cell_type": "code",
   "execution_count": null,
   "metadata": {},
   "outputs": [],
   "source": [
    "def determinant(matrix):\n",
    "    n = len(matrix)\n",
    "\n",
    "    if n == 1:\n",
    "        return matrix[0][0]\n",
    "\n",
    "    elif n == 2:\n",
    "        return matrix[0][0]*matrix[1][1] - matrix[0][1]*matrix[1][0]\n",
    "\n",
    "    else:\n",
    "        res = 0\n",
    "        for j in range(n):\n",
    "            minor = [row[:j] + row[j+1:] for row in matrix[1:]]\n",
    "            res += (-1)**j * matrix[0][j] * determinant(minor)\n",
    "        return res"
   ]
  }
 ],
 "metadata": {
  "kernelspec": {
   "display_name": "Python 3",
   "language": "python",
   "name": "python3"
  },
  "language_info": {
   "codemirror_mode": {
    "name": "ipython",
    "version": 3
   },
   "file_extension": ".py",
   "mimetype": "text/x-python",
   "name": "python",
   "nbconvert_exporter": "python",
   "pygments_lexer": "ipython3",
   "version": "3.12.3"
  }
 },
 "nbformat": 4,
 "nbformat_minor": 2
}
