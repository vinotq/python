{
 "cells": [
  {
   "cell_type": "markdown",
   "metadata": {},
   "source": [
    "# **Practice**:\n",
    "### **Theme**: \n",
    "##### **Date**: 22.10.24"
   ]
  },
  {
   "cell_type": "markdown",
   "metadata": {},
   "source": []
  },
  {
   "cell_type": "code",
   "execution_count": 2,
   "metadata": {},
   "outputs": [],
   "source": [
    "class Solution:\n",
    "    def numIslands(self, grid):\n",
    "        n = len(grid)\n",
    "        m = len(grid[0])\n",
    "\n",
    "        def dfs(i, j):\n",
    "            grid[i][j] = 0\n",
    "\n",
    "            neib = [\n",
    "                (i-1, j-1), (i-1, j),(i-1, j+1),\n",
    "                (i, j-1),(i, j+1),\n",
    "                (i+1, j-1),(i+1, j), (i+1, j+1)\n",
    "                ]\n",
    "\n",
    "            neib = [k for k in neib if 0 <= k[0] < n and 0 <= k[1] < m]\n",
    "\n",
    "            for i1, j1 in neib:\n",
    "                if grid[i1][j1] == 1:\n",
    "                    dfs(i1, j1)\n",
    "\n",
    "\n",
    "        res = 0\n",
    "        for i in range(n):\n",
    "            for j in range(m):\n",
    "                if grid[i][j] == 1:\n",
    "                    dfs(i, j)\n",
    "                    res += 1\n",
    "        return res"
   ]
  },
  {
   "cell_type": "code",
   "execution_count": null,
   "metadata": {},
   "outputs": [],
   "source": [
    "class Solution:\n",
    "    def numIslands(self, grid):\n",
    "        n = len(grid)\n",
    "        m = len(grid[0])\n",
    "\n",
    "        def dfs(i, j):\n",
    "            stack = [(i, j)]\n",
    "\n",
    "            while stack:\n",
    "                i, j = stack.pop()\n",
    "                grid[i][j] = 0\n",
    "\n",
    "                neib = [\n",
    "                    (i-1, j-1), (i-1, j),(i-1, j+1),\n",
    "                    (i, j-1),(i, j+1),\n",
    "                    (i+1, j-1),(i+1, j), (i+1, j+1)\n",
    "                    ]\n",
    "\n",
    "                neib = [k for k in neib if 0 <= k[0] < n and 0 <= k[1] < m]\n",
    "\n",
    "                for i1, j1 in neib:\n",
    "                    if grid[i1][j1] == 1:\n",
    "                        stack.append((i1, j1))\n",
    "\n",
    "\n",
    "\n",
    "        res = 0\n",
    "        for i in range(n):\n",
    "            for j in range(m):\n",
    "                if grid[i][j] == 1:\n",
    "                    dfs(i, j)\n",
    "                    res += 1\n",
    "        return res"
   ]
  },
  {
   "cell_type": "code",
   "execution_count": 4,
   "metadata": {},
   "outputs": [
    {
     "ename": "IndentationError",
     "evalue": "expected an indented block after 'for' statement on line 9 (1856026593.py, line 34)",
     "output_type": "error",
     "traceback": [
      "\u001b[0;36m  Cell \u001b[0;32mIn[4], line 34\u001b[0;36m\u001b[0m\n\u001b[0;31m    return 0\u001b[0m\n\u001b[0m    ^\u001b[0m\n\u001b[0;31mIndentationError\u001b[0m\u001b[0;31m:\u001b[0m expected an indented block after 'for' statement on line 9\n"
     ]
    }
   ],
   "source": [
    "from typing import List\n",
    "class Solution:\n",
    "    def isCycle(self, V: int, adj: List[List[int]]) -> bool:\n",
    "        visited = [0] * V\n",
    "        path = []\n",
    "\n",
    "        def dfs(v):\n",
    "            visited[v] = 1\n",
    "            path.append(v)\n",
    "\n",
    "            for u in adj[v]:\n",
    "                if u in path[:-2]:\n",
    "                    return 1\n",
    "                if not visited[u]:\n",
    "                    if dfs(u):\n",
    "                        return 1\n",
    "            path.pop()\n",
    "            return 0\n",
    "\n",
    "        for v in range(V):\n",
    "            if not visited[v]:\n",
    "                path = []\n",
    "                if dfs(v):\n",
    "                    return 1\n",
    "\n",
    "        return 0\n",
    "\n",
    "        # visited = {i for i in range(v)}\n",
    "\n",
    "\n",
    "        # while visited:\n",
    "        #     stack = [visited.pop()]\n",
    "        #     path = []\n",
    "\n",
    "        #     while stack:\n",
    "        #         v = stack.pop()\n",
    "        #         visited -= {v}\n",
    "        #         path.append(v)\n",
    "\n",
    "        #         f = True\n",
    "        #         for u in adj[v]:\n",
    "        #             if u in path[:-2]:\n",
    "        #                 return 1\n",
    "\n",
    "        #             if u in visited:\n",
    "        #                 stack.append(u)\n",
    "        #                 f = False\n",
    "\n",
    "        #             if f:\n",
    "        #                 path.pop()\n",
    "\n",
    "        return 0"
   ]
  },
  {
   "cell_type": "markdown",
   "metadata": {},
   "source": []
  }
 ],
 "metadata": {
  "kernelspec": {
   "display_name": "Python 3",
   "language": "python",
   "name": "python3"
  },
  "language_info": {
   "codemirror_mode": {
    "name": "ipython",
    "version": 3
   },
   "file_extension": ".py",
   "mimetype": "text/x-python",
   "name": "python",
   "nbconvert_exporter": "python",
   "pygments_lexer": "ipython3",
   "version": "3.12.3"
  }
 },
 "nbformat": 4,
 "nbformat_minor": 2
}
