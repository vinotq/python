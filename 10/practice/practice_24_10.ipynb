{
 "cells": [
  {
   "cell_type": "markdown",
   "metadata": {},
   "source": [
    "# **Practice**  \n",
    "##### 24.10.24"
   ]
  },
  {
   "cell_type": "markdown",
   "metadata": {},
   "source": [
    "### **Тема**: Codewars\n"
   ]
  },
  {
   "cell_type": "code",
   "execution_count": 1,
   "metadata": {},
   "outputs": [],
   "source": [
    "import json\n",
    "\n",
    "def jsonattr(filepath):\n",
    "    with open(filepath) as file:\n",
    "        atr = json.load(file)\n",
    "\n",
    "    def wrapps(cls):\n",
    "        for i in atr:\n",
    "            setattr(cls, i, atr[i])\n",
    "        return cls\n",
    "\n",
    "    return wrapps"
   ]
  },
  {
   "cell_type": "code",
   "execution_count": null,
   "metadata": {},
   "outputs": [],
   "source": [
    "\n",
    "import json\n",
    "\n",
    "def find_seventh_sons_of_seventh_sons(jstring):\n",
    "    rslt = set()\n",
    "\n",
    "    tr = json.loads(jstring)\n",
    "\n",
    "    def seven_son(node, is_seven=False):\n",
    "        flg = False\n",
    "\n",
    "        for i in range(len(node['children'])):\n",
    "            if node['children'][i]['gender'] == 'female':\n",
    "                flg = True\n",
    "\n",
    "            if i == 6 and node['children'][i]['gender'] == 'male' and not flg:\n",
    "                if is_seven:\n",
    "                    rslt.add(node['children'][i]['name'])\n",
    "                seven_son(node['children'][i], True)\n",
    "            else:\n",
    "                seven_son(node['children'][i], False)\n",
    "\n",
    "    seven_son(tr)\n",
    "    return rslt\n"
   ]
  },
  {
   "cell_type": "code",
   "execution_count": null,
   "metadata": {},
   "outputs": [],
   "source": [
    "def sort_csv_columns(csv_file_content):\n",
    "    clmns = [clmns.split(\";\") for clmns in csv_file_content.split(\"\\n\")]\n",
    "    clmns = [[clmns[j][i] for j in range(len(clmns))] for i in range(len(clmns[0]))]\n",
    "    clmns = sorted(clmns, key = lambda x: x[0].lower())\n",
    "    clmns = [[clmns[j][i] for j in range(len(clmns))] for i in range(len(clmns[0]))]\n",
    "    return \"\\n\".join(\";\".join(clmn) for clmn in clmns)"
   ]
  }
 ],
 "metadata": {
  "kernelspec": {
   "display_name": "Python 3",
   "language": "python",
   "name": "python3"
  },
  "language_info": {
   "codemirror_mode": {
    "name": "ipython",
    "version": 3
   },
   "file_extension": ".py",
   "mimetype": "text/x-python",
   "name": "python",
   "nbconvert_exporter": "python",
   "pygments_lexer": "ipython3",
   "version": "3.12.3"
  }
 },
 "nbformat": 4,
 "nbformat_minor": 2
}
