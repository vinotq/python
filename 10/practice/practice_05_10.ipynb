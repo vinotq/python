{
 "cells": [
  {
   "cell_type": "markdown",
   "metadata": {},
   "source": [
    "# **Practice**  \n",
    "##### 05.10.24\n"
   ]
  },
  {
   "cell_type": "markdown",
   "metadata": {},
   "source": [
    "### **Тема**: \n"
   ]
  },
  {
   "cell_type": "markdown",
   "metadata": {},
   "source": [
    "# **#1 Codewars**  \n",
    "### **Conways game of life on a toroidal array**"
   ]
  },
  {
   "cell_type": "code",
   "execution_count": 11,
   "metadata": {},
   "outputs": [
    {
     "name": "stdout",
     "output_type": "stream",
     "text": [
      "□ □ □ □<:LF:>□ ■ ■ □<:LF:>□ ■ ■ □<:LF:>□ □ □ □\n"
     ]
    }
   ],
   "source": [
    "def format_cells(cells):\n",
    "        if isinstance(cells,list) and all(isinstance(row, list) for row in cells):\n",
    "            return '<:LF:>'.join(' '.join('■' if cell else '□' for cell in row) for row in cells)\n",
    "        else:\n",
    "            return f'Expected a list of lists but recieved: {repr(cells)}'\n",
    "\n",
    "def get_generation(cells, generation):\n",
    "    n = len(cells)\n",
    "    m = len(cells[0])\n",
    "    while generation > 0:\n",
    "        new_cells = [[0] * m for _ in range(n)]\n",
    "        for i in range(n):\n",
    "            for j in range(m):\n",
    "                neib = (cells[i-1][j-1],\n",
    "                        cells[i-1][j],\n",
    "                        cells[i-1][(j+1) % m],\n",
    "                        cells[i][j-1],\n",
    "                        cells[i][(j+1) % m],\n",
    "                        cells[(i+1) % n][(j+1) % m],\n",
    "                        cells[(i+1) % n][j-1],\n",
    "                        cells[(i+1) % n][j],\n",
    "                )\n",
    "\n",
    "                if cells[i][j] == 0 and sum(neib) == 3 or cells[i][j] == 1 and sum(neib) in (2,3):\n",
    "                            new_cells[i][j] = 1\n",
    "        cells = new_cells\n",
    "        generation -= 1\n",
    "\n",
    "    print(format_cells(cells))\n",
    "\n",
    "get_generation([\n",
    "    [0, 0, 0, 0],\n",
    "    [0, 1, 1, 0],\n",
    "    [0, 1, 1, 0],\n",
    "    [0, 0, 0, 0]\n",
    "    ], 1)"
   ]
  },
  {
   "cell_type": "markdown",
   "metadata": {},
   "source": [
    "# **#2 Codewars**\n",
    "### **Give me data PLS**"
   ]
  },
  {
   "cell_type": "code",
   "execution_count": 13,
   "metadata": {},
   "outputs": [],
   "source": [
    "def has_permission(accessing_data, user_info):\n",
    "    if \"*_deny\" in accessing_data:\n",
    "        if user_info+\"_allow\" in accessing_data:\n",
    "            return True\n",
    "        return False\n",
    "    if \"*_allow\" in accessing_data:\n",
    "        return True\n",
    "    if user_info+\"_allow\" in accessing_data:\n",
    "        return True\n",
    "    return False\n"
   ]
  }
 ],
 "metadata": {
  "kernelspec": {
   "display_name": "Python 3",
   "language": "python",
   "name": "python3"
  },
  "language_info": {
   "codemirror_mode": {
    "name": "ipython",
    "version": 3
   },
   "file_extension": ".py",
   "mimetype": "text/x-python",
   "name": "python",
   "nbconvert_exporter": "python",
   "pygments_lexer": "ipython3",
   "version": "3.12.3"
  }
 },
 "nbformat": 4,
 "nbformat_minor": 2
}
