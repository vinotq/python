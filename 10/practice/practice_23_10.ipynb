{
 "cells": [
  {
   "cell_type": "markdown",
   "metadata": {},
   "source": [
    "# **Practice**:\n",
    "### **Theme**: \n",
    "##### **Date**: 23.10.24"
   ]
  },
  {
   "cell_type": "code",
   "execution_count": 1,
   "metadata": {},
   "outputs": [],
   "source": [
    "terrain = (\n",
    "    \"  ^^^^^^             \",\n",
    "    \"^^^^^^^^       ^^^   \",\n",
    "    \"^^^^^^^  ^^^         \",\n",
    "    \"^^^^^^^  ^^^         \",\n",
    "    \"^^^^^^^  ^^^         \",\n",
    "    \"---------------------\",\n",
    "    \"^^^^^                \",\n",
    "    \"   ^^^^^^^^  ^^^^^^^ \",\n",
    "    \"^^^^^^^^     ^     ^ \",\n",
    "    \"^^^^^        ^^^^^^^ \",\n",
    ")"
   ]
  },
  {
   "cell_type": "code",
   "execution_count": 2,
   "metadata": {},
   "outputs": [
    {
     "ename": "TypeError",
     "evalue": "'NoneType' object is not iterable",
     "output_type": "error",
     "traceback": [
      "\u001b[0;31m---------------------------------------------------------------------------\u001b[0m",
      "\u001b[0;31mTypeError\u001b[0m                                 Traceback (most recent call last)",
      "Cell \u001b[0;32mIn[2], line 40\u001b[0m\n\u001b[1;32m     37\u001b[0m                     \u001b[38;5;28;01mbreak\u001b[39;00m\n\u001b[1;32m     39\u001b[0m mppp \u001b[38;5;241m=\u001b[39m dry_ground(terrain)\n\u001b[0;32m---> 40\u001b[0m \u001b[38;5;28;43;01mfor\u001b[39;49;00m\u001b[43m \u001b[49m\u001b[43mi\u001b[49m\u001b[43m \u001b[49m\u001b[38;5;129;43;01min\u001b[39;49;00m\u001b[43m \u001b[49m\u001b[43mmppp\u001b[49m\u001b[43m:\u001b[49m\n\u001b[1;32m     41\u001b[0m \u001b[43m    \u001b[49m\u001b[38;5;28;43mprint\u001b[39;49m\u001b[43m(\u001b[49m\u001b[38;5;124;43m\"\u001b[39;49m\u001b[38;5;124;43m\"\u001b[39;49m\u001b[38;5;241;43m.\u001b[39;49m\u001b[43mjoin\u001b[49m\u001b[43m(\u001b[49m\u001b[43mi\u001b[49m\u001b[43m)\u001b[49m\u001b[43m)\u001b[49m\n",
      "\u001b[0;31mTypeError\u001b[0m: 'NoneType' object is not iterable"
     ]
    }
   ],
   "source": [
    "def bfs(i, j, map_, day):\n",
    "    queue = [(i, j)]\n",
    "    used = set()\n",
    "    n = len(terrain)\n",
    "    m = len(terrain[0])\n",
    "\n",
    "    while queue:\n",
    "        i, j = queue.pop(0)\n",
    "        used.add((i, j))\n",
    "        for i1 in range(-1, 2):\n",
    "            for j1 in range(-1, 2):\n",
    "                if abs(i1) == abs(j1):\n",
    "                    continue\n",
    "                if 0 <= i + i1 < n and 0<= j + j1 < m:\n",
    "                    if (i+i1, j+j1) not in used:\n",
    "                        if day >= 1 and map_[i+i1][j+j1] == \" \":\n",
    "                            queue.append((i+i1, j+j1))\n",
    "                            map_[i+i1][j+j1] = \"-\"\n",
    "                        elif map_[i+i1][j+j1] == \"-\":\n",
    "                            queue.append((i+i1, j+j1))\n",
    "                        elif day > 1 and map_[i + i1][j+ j1] == \"^\":\n",
    "                            map_[i + i1][j + j1] = \"-\"\n",
    "                            used.add(i+i1, j+j1)\n",
    "\n",
    "def dry_ground(terrain):\n",
    "    n = len(terrain)\n",
    "    m = len(terrain[0])\n",
    "    map_ = []\n",
    "    for i in terrain:\n",
    "        row = list(i)\n",
    "        map_.append(row)\n",
    "    for day in range(1, 4):\n",
    "        for i in range(n):\n",
    "            for j in range(m):\n",
    "                if map_[i][j] == \"-\":\n",
    "                    bfs(i, j, map_, 1)\n",
    "                    break\n",
    "\n",
    "mppp = dry_ground(terrain)\n",
    "for i in mppp:\n",
    "    print(\"\".join(i))"
   ]
  }
 ],
 "metadata": {
  "kernelspec": {
   "display_name": "Python 3",
   "language": "python",
   "name": "python3"
  },
  "language_info": {
   "codemirror_mode": {
    "name": "ipython",
    "version": 3
   },
   "file_extension": ".py",
   "mimetype": "text/x-python",
   "name": "python",
   "nbconvert_exporter": "python",
   "pygments_lexer": "ipython3",
   "version": "3.12.3"
  }
 },
 "nbformat": 4,
 "nbformat_minor": 2
}
