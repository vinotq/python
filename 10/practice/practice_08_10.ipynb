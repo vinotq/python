{
 "cells": [
  {
   "cell_type": "markdown",
   "metadata": {},
   "source": [
    "# **Practice**  \n",
    "##### 08.10.24"
   ]
  },
  {
   "cell_type": "markdown",
   "metadata": {},
   "source": [
    "### **Тема**: Декораторы\n"
   ]
  },
  {
   "cell_type": "code",
   "execution_count": 1,
   "metadata": {},
   "outputs": [],
   "source": [
    "from functools import wraps\n",
    "\n",
    "def decorator(func):\n",
    "    @wraps(func)\n",
    "    def wrapper(*args, **kwargs):\n",
    "        res = func(*args, **kwargs)\n",
    "\n",
    "        return res\n",
    "\n",
    "    return wrapper"
   ]
  },
  {
   "cell_type": "code",
   "execution_count": 11,
   "metadata": {},
   "outputs": [
    {
     "data": {
      "text/plain": [
       "70330367711422815821835254877183549770181269836358732742604905087154537118196933579742249494562611733487750449241765991088186363265450223647106012053374121273867339111198139373125598767690091902245245323403501"
      ]
     },
     "execution_count": 11,
     "metadata": {},
     "output_type": "execute_result"
    }
   ],
   "source": [
    "def cache_result(func):\n",
    "    cache = {}\n",
    "\n",
    "    # @wraps(func)\n",
    "    def wrapper(*args, **kwargs):\n",
    "        key = (*args, *kwargs.items())\n",
    "\n",
    "        if key in cache:\n",
    "            return cache[key]\n",
    "\n",
    "        res = func(*args, **kwargs)\n",
    "        cache[key] = res\n",
    "        return res\n",
    "\n",
    "    return wrapper\n",
    "\n",
    "@cache_result\n",
    "def fib(n):\n",
    "    if n < 2:\n",
    "        return 1\n",
    "    return fib(n-2) + fib(n-1)\n",
    "\n",
    "fib(1000)"
   ]
  },
  {
   "cell_type": "code",
   "execution_count": 184,
   "metadata": {},
   "outputs": [
    {
     "data": {
      "text/plain": [
       "'Success'"
      ]
     },
     "execution_count": 184,
     "metadata": {},
     "output_type": "execute_result"
    }
   ],
   "source": [
    "from random import randint\n",
    "from functools import wraps\n",
    "\n",
    "def retry(n=5):\n",
    "    def decorator(func):\n",
    "        @wraps(func)\n",
    "        def wrapper(*args, **kwargs):\n",
    "            for _ in range(n):\n",
    "                try:\n",
    "                    return func(*args, **kwargs)\n",
    "                except:\n",
    "                    print(\"retrying...\")\n",
    "            return 'Unlucky'\n",
    "        return wrapper\n",
    "    return decorator\n",
    "\n",
    "@retry(n=1500)\n",
    "def test():\n",
    "    if randint(1, 10) < 8:\n",
    "        raise Exception\n",
    "    return 'Success'\n",
    "\n",
    "\n",
    "test()\n"
   ]
  },
  {
   "cell_type": "code",
   "execution_count": 1,
   "metadata": {},
   "outputs": [
    {
     "name": "stdout",
     "output_type": "stream",
     "text": [
      "30.5\n"
     ]
    },
    {
     "ename": "TypeError",
     "evalue": "Arg b must be of type 'float'",
     "output_type": "error",
     "traceback": [
      "\u001b[0;31m---------------------------------------------------------------------------\u001b[0m",
      "\u001b[0;31mTypeError\u001b[0m                                 Traceback (most recent call last)",
      "Cell \u001b[0;32mIn[1], line 27\u001b[0m\n\u001b[1;32m     24\u001b[0m     \u001b[38;5;28;01mreturn\u001b[39;00m \u001b[38;5;28mstr\u001b[39m(a \u001b[38;5;241m+\u001b[39m b)\n\u001b[1;32m     26\u001b[0m \u001b[38;5;28mprint\u001b[39m(sum_to_str(\u001b[38;5;241m10\u001b[39m, \u001b[38;5;241m20.5\u001b[39m))\n\u001b[0;32m---> 27\u001b[0m \u001b[38;5;28mprint\u001b[39m(\u001b[43msum_to_str\u001b[49m\u001b[43m(\u001b[49m\u001b[38;5;241;43m10\u001b[39;49m\u001b[43m,\u001b[49m\u001b[43m \u001b[49m\u001b[38;5;241;43m20\u001b[39;49m\u001b[43m)\u001b[49m)\n\u001b[1;32m     28\u001b[0m \u001b[38;5;28mprint\u001b[39m(sum_to_str(\u001b[38;5;124m\"\u001b[39m\u001b[38;5;124mn\u001b[39m\u001b[38;5;124m\"\u001b[39m, \u001b[38;5;241m20.5\u001b[39m))\n",
      "Cell \u001b[0;32mIn[1], line 12\u001b[0m, in \u001b[0;36mtype_checking.<locals>.wrapper\u001b[0;34m(*args, **kwargs)\u001b[0m\n\u001b[1;32m     10\u001b[0m     param_type \u001b[38;5;241m=\u001b[39m params[param_name]\u001b[38;5;241m.\u001b[39mannotation\n\u001b[1;32m     11\u001b[0m     \u001b[38;5;28;01mif\u001b[39;00m \u001b[38;5;129;01mnot\u001b[39;00m \u001b[38;5;28misinstance\u001b[39m(arg, param_type):\n\u001b[0;32m---> 12\u001b[0m         \u001b[38;5;28;01mraise\u001b[39;00m \u001b[38;5;167;01mTypeError\u001b[39;00m(\u001b[38;5;124mf\u001b[39m\u001b[38;5;124m\"\u001b[39m\u001b[38;5;124mArg \u001b[39m\u001b[38;5;132;01m{\u001b[39;00mparam_name\u001b[38;5;132;01m}\u001b[39;00m\u001b[38;5;124m must be of type \u001b[39m\u001b[38;5;124m'\u001b[39m\u001b[38;5;132;01m{\u001b[39;00mparam_type\u001b[38;5;241m.\u001b[39m\u001b[38;5;18m__name__\u001b[39m\u001b[38;5;132;01m}\u001b[39;00m\u001b[38;5;124m'\u001b[39m\u001b[38;5;124m\"\u001b[39m)\n\u001b[1;32m     14\u001b[0m \u001b[38;5;28;01mfor\u001b[39;00m param_name, arg \u001b[38;5;129;01min\u001b[39;00m kwargs\u001b[38;5;241m.\u001b[39mitems():\n\u001b[1;32m     15\u001b[0m     param_type \u001b[38;5;241m=\u001b[39m params[param_name]\n",
      "\u001b[0;31mTypeError\u001b[0m: Arg b must be of type 'float'"
     ]
    }
   ],
   "source": [
    "import inspect\n",
    "\n",
    "def type_checking(func):\n",
    "    def wrapper(*args, **kwargs):\n",
    "        signature = inspect.signature(func)\n",
    "        params = signature.parameters\n",
    "\n",
    "        for i, arg in enumerate(args):\n",
    "            param_name = list(params.keys())[i]\n",
    "            param_type = params[param_name].annotation\n",
    "            if not isinstance(arg, param_type):\n",
    "                raise TypeError(f\"Arg {param_name} must be of type '{param_type.__name__}'\")\n",
    "\n",
    "        for param_name, arg in kwargs.items():\n",
    "            param_type = params[param_name]\n",
    "            if not isinstance(arg, param_type):\n",
    "                raise TypeError(f\"Argument {param_name} must be of type '{param_type.__name__}'\")\n",
    "\n",
    "        return func(*args, **kwargs)\n",
    "    return wrapper\n",
    "\n",
    "@type_checking\n",
    "def sum_to_str(a: int, b: float) -> str:\n",
    "    return str(a + b)\n",
    "\n",
    "print(sum_to_str(10, 20.5))\n",
    "print(sum_to_str(10, 20))\n",
    "print(sum_to_str(\"n\", 20.5))"
   ]
  }
 ],
 "metadata": {
  "kernelspec": {
   "display_name": "Python 3",
   "language": "python",
   "name": "python3"
  },
  "language_info": {
   "codemirror_mode": {
    "name": "ipython",
    "version": 3
   },
   "file_extension": ".py",
   "mimetype": "text/x-python",
   "name": "python",
   "nbconvert_exporter": "python",
   "pygments_lexer": "ipython3",
   "version": "3.12.3"
  }
 },
 "nbformat": 4,
 "nbformat_minor": 2
}
