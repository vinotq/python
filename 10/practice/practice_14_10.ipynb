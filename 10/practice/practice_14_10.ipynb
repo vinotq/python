{
 "cells": [
  {
   "cell_type": "markdown",
   "metadata": {},
   "source": [
    "# **Practice #n + 1**  \n",
    "##### 14.10.24\n"
   ]
  },
  {
   "cell_type": "markdown",
   "metadata": {},
   "source": [
    "### **Тема**: codewars: Задача про класс для **рогалика**"
   ]
  },
  {
   "cell_type": "code",
   "execution_count": 13,
   "metadata": {},
   "outputs": [
    {
     "data": {
      "text/plain": [
       "'Hero\\nstr 10\\ndex 10\\nint 10\\nlimbs 30 dmg'"
      ]
     },
     "execution_count": 13,
     "metadata": {},
     "output_type": "execute_result"
    }
   ],
   "source": [
    "\n",
    "class Character:\n",
    "    def __init__(self, name = \"Hero\", strength = 10, dexterity = 10, intelligence = 10):\n",
    "        self.name = name\n",
    "        self.str = strength\n",
    "        self.dex = dexterity\n",
    "        self.int = intelligence\n",
    "        self.weapon = {\"limbs\": (1, 1, 1, 0)}\n",
    "\n",
    "    def character_info(self) -> str:\n",
    "        res = f\"{self.name}\\nstr {self.str}\\ndex {self.dex}\\nint {self.int}\\n\"\n",
    "        weapon = max(self.weapon, key = lambda x: self.weapon[x])\n",
    "        res += f\"{weapon} {self.weapon[weapon]} dmg\"\n",
    "\n",
    "        return res\n",
    "\n",
    "    def __getattr__(self, name):\n",
    "        s = \" \".join(name.split(\"_\")).capitalize()\n",
    "        self.weapon[s] = 0\n",
    "        def wrapper(*args):\n",
    "            self.weapon[s] += self.str * args[0]\n",
    "            self.weapon[s] += self.dex * args[1]\n",
    "            self.weapon[s] += self.int * args[2]\n",
    "            self.weapon[s] += args[3]\n",
    "\n",
    "        return wrapper\n",
    "\n",
    "    def count_dmg(self, name):\n",
    "        _sum = self.weapon[name][0] * self.weapon[name][1] * self.dex + self.weapon[name][2]*self.int\n",
    "\n",
    "    def event_log(self) -> str:\n",
    "        \"\"\" Return a multiline string representing the events that occured in chronological order \"\"\"\n",
    "\n",
    "\n",
    "ch = Character()\n",
    "ch.character_info()"
   ]
  },
  {
   "cell_type": "code",
   "execution_count": null,
   "metadata": {},
   "outputs": [],
   "source": []
  }
 ],
 "metadata": {
  "kernelspec": {
   "display_name": "Python 3",
   "language": "python",
   "name": "python3"
  },
  "language_info": {
   "codemirror_mode": {
    "name": "ipython",
    "version": 3
   },
   "file_extension": ".py",
   "mimetype": "text/x-python",
   "name": "python",
   "nbconvert_exporter": "python",
   "pygments_lexer": "ipython3",
   "version": "3.12.3"
  }
 },
 "nbformat": 4,
 "nbformat_minor": 2
}
