{
 "cells": [
  {
   "cell_type": "markdown",
   "metadata": {},
   "source": [
    "# **Practice #n + 1**  \n",
    "##### 14.10.24\n"
   ]
  },
  {
   "cell_type": "markdown",
   "metadata": {},
   "source": [
    "### **Тема**: codewars: Задача про класс для **рогалика**"
   ]
  },
  {
   "cell_type": "code",
   "execution_count": 1,
   "metadata": {},
   "outputs": [],
   "source": [
    "class Character:\n",
    "    def __init__(self, name=\"Hero\", strength=10, intelligence=10, dexterity=10):\n",
    "        self.name = name\n",
    "        self.str = strength\n",
    "        self.dex = dexterity\n",
    "        self.int = intelligence\n",
    "        self.logs = []\n",
    "        self.inventory = {\n",
    "            \"limbs\": {\n",
    "                \"name\": \"limbs\",\n",
    "                \"str\": 1,\n",
    "                \"int\": 1,\n",
    "                \"dex\": 1,\n",
    "                \"extra\": 0,\n",
    "                \"isEnhanced\": False,\n",
    "            }\n",
    "        }\n",
    "\n",
    "    def character_info(self) -> str:\n",
    "        values = list(self.inventory.values())\n",
    "        values.sort(\n",
    "            key=lambda x: (-(x[\"str\"] * self.str\n",
    "            + x[\"dex\"] * self.dex\n",
    "            + x[\"int\"] * self.int\n",
    "            + x[\"extra\"]), x['name'])\n",
    "        )\n",
    "\n",
    "        maxDmg = values[0]\n",
    "        return f'{self.name}\\nstr {self.str}\\ndex {self.dex}\\nint {self.int}\\n{maxDmg[\"name\"]}{\"(enhanced)\" if maxDmg[\"isEnhanced\"] else \"\"} {maxDmg[\"str\"]*self.str + maxDmg[\"dex\"]*self.dex+maxDmg[\"int\"]*self.int+maxDmg[\"extra\"]} dmg'\n",
    "\n",
    "    def __getattr__(self, method_name):\n",
    "        newName = method_name.replace(\"_\", \" \").capitalize()\n",
    "\n",
    "        if len(method_name.split(\"_\")) == 3:\n",
    "            self.logs.append(f\"{self.name} finds '{newName}'\")\n",
    "\n",
    "            def weapon(str, dex, int, extra):\n",
    "                if newName in self.inventory:\n",
    "                    self.inventory[newName][\"int\"] = max(\n",
    "                        int, self.inventory[newName][\"int\"]\n",
    "                    )\n",
    "                    self.inventory[newName][\"str\"] = max(\n",
    "                        str, self.inventory[newName][\"str\"]\n",
    "                    )\n",
    "                    self.inventory[newName][\"dex\"] = max(\n",
    "                        dex, self.inventory[newName][\"dex\"]\n",
    "                    )\n",
    "                    self.inventory[newName][\"extra\"] = max(\n",
    "                        extra, self.inventory[newName][\"extra\"]\n",
    "                    )\n",
    "                    self.inventory[newName][\"isEnhanced\"] = True\n",
    "                else:\n",
    "                    self.inventory[newName] = {\n",
    "                        \"name\": newName,\n",
    "                        \"str\": str,\n",
    "                        \"int\": int,\n",
    "                        \"dex\": dex,\n",
    "                        \"extra\": extra,\n",
    "                        \"isEnhanced\": False,\n",
    "                    }\n",
    "\n",
    "            return weapon\n",
    "\n",
    "        else:\n",
    "\n",
    "            def event(str, dex, int):\n",
    "                strStr = f\"strength {f'+{str}' if str > 0 else str}\" if str else ''\n",
    "                strDex = f\"dexterity {f'+{dex}' if dex > 0 else dex}\" if dex else ''\n",
    "                strInt = f\"intelligence {f'+{int}' if int > 0 else int}\" if int else ''\n",
    "                self.logs.append(\n",
    "                    f'{newName}: {\", \".join(i for i in [strStr, strDex, strInt] if i)}'\n",
    "                )\n",
    "                self.str += str\n",
    "                self.dex += dex\n",
    "                self.int += int\n",
    "\n",
    "            return event\n",
    "\n",
    "    def event_log(self) -> str:\n",
    "        return \"\\n\".join(self.logs)\n"
   ]
  }
 ],
 "metadata": {
  "kernelspec": {
   "display_name": "Python 3",
   "language": "python",
   "name": "python3"
  },
  "language_info": {
   "codemirror_mode": {
    "name": "ipython",
    "version": 3
   },
   "file_extension": ".py",
   "mimetype": "text/x-python",
   "name": "python",
   "nbconvert_exporter": "python",
   "pygments_lexer": "ipython3",
   "version": "3.12.3"
  }
 },
 "nbformat": 4,
 "nbformat_minor": 2
}
