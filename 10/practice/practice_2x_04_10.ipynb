{
 "cells": [
  {
   "cell_type": "markdown",
   "metadata": {},
   "source": [
    "# **Practice x2**:\n",
    "### **Theme**: practice\n",
    "##### **Date**: 04.10.24"
   ]
  },
  {
   "cell_type": "code",
   "execution_count": 25,
   "metadata": {},
   "outputs": [
    {
     "data": {
      "text/plain": [
       "some->0->1->2->3->4->None"
      ]
     },
     "execution_count": 25,
     "metadata": {},
     "output_type": "execute_result"
    }
   ],
   "source": [
    "class LinkedList:\n",
    "    def __init__(self, value):\n",
    "        self.value = value\n",
    "        self.next = None\n",
    "\n",
    "    def __repr__(self) -> str:\n",
    "        return f'{self.value}->{repr(self.next)}'\n",
    "\n",
    "    def push(self, value):\n",
    "        i = self\n",
    "        while i.next:\n",
    "            i = i.next\n",
    "        i.next = LinkedList(value)\n",
    "        return self\n",
    "\n",
    "    def insert(self, value, index):\n",
    "        if index == 0:\n",
    "            i = LinkedList(value)\n",
    "            i.next = self\n",
    "            return i\n",
    "\n",
    "        i = self\n",
    "        k = i.next\n",
    "\n",
    "        for _ in range(0, index - 1):\n",
    "            i = i.next\n",
    "            k = i.next\n",
    "\n",
    "        i.next = LinkedList(value)\n",
    "        i = i.next\n",
    "        i.next = k\n",
    "\n",
    "        return self\n",
    "\n",
    "ll = LinkedList(0)\n",
    "ll.next = LinkedList(1)\n",
    "ll.next.next = LinkedList(2)\n",
    "ll.push(3).push(4)\n",
    "ll.insert('some', 0)"
   ]
  },
  {
   "cell_type": "code",
   "execution_count": 29,
   "metadata": {},
   "outputs": [
    {
     "name": "stdout",
     "output_type": "stream",
     "text": [
      "0<->1<->2<->3\n",
      "-1<->0<->1<->2<->3\n",
      "3\n"
     ]
    },
    {
     "data": {
      "text/plain": [
       "-1<->0<->1<->some<->2<->3"
      ]
     },
     "execution_count": 29,
     "metadata": {},
     "output_type": "execute_result"
    }
   ],
   "source": [
    "from typing import Self\n",
    "\n",
    "class Node:\n",
    "    def __init__(self, value, prev: Self | None = None, next: Self | None = None) -> None:\n",
    "        self.value = value\n",
    "        self.prev = prev\n",
    "        self.next = next\n",
    "\n",
    "    def __str__(self):\n",
    "        return str(self.value)\n",
    "\n",
    "class DoubleLinkedList:\n",
    "    def __init__(self) -> None:\n",
    "        self.head = None\n",
    "        self.tail = None\n",
    "        self.nth = None\n",
    "        self.n = 0\n",
    "\n",
    "    def __repr__(self) -> str:\n",
    "        if not self.head:\n",
    "            return 'empty List'\n",
    "        s = []\n",
    "        i = self.head\n",
    "        while i:\n",
    "            s.append(str(i))\n",
    "            i = i.next\n",
    "        return '<->'.join(s)\n",
    "\n",
    "    @staticmethod\n",
    "    def chooseDirection(index, n, i):\n",
    "        dirs = ((0, index),\n",
    "                (1, (i - index) if i > index else float('inf')),\n",
    "                (2, (index - i) if i > index else float('inf')),\n",
    "                (3, n - index)\n",
    "            )\n",
    "        return min(dirs, key=lambda x: x[1])[0]\n",
    "\n",
    "    def pushBack(self, value):\n",
    "        if not self.head:\n",
    "            self.head = Node(value)\n",
    "            self.tail = self.head\n",
    "        else:\n",
    "            self.tail.next = Node(value, prev=self.tail)\n",
    "            self.tail = self.tail.next\n",
    "        self.n += 1\n",
    "        return self\n",
    "\n",
    "    def pushFront(self, value):\n",
    "        if not self.head:\n",
    "            self.head = Node()\n",
    "            self.tail = self.head\n",
    "        else:\n",
    "            self.head = Node(value, next=self.head)\n",
    "            self.head.next.prev = self.head\n",
    "        self.n += 1\n",
    "        return self\n",
    "\n",
    "    def insert(self, value, index):\n",
    "        if index >= self.n:\n",
    "            raise IndexError\n",
    "        if not self.head or index == self.n:\n",
    "            self.pushBack(value)\n",
    "        elif index == 0:\n",
    "            self.pushFront(value)\n",
    "        else:\n",
    "            if not self.nth:\n",
    "                self.nth = (0, self.head)\n",
    "\n",
    "            dir = self.chooseDirection(index, self.n, self.nth[0])\n",
    "            print(dir)\n",
    "            if dir == 0:\n",
    "                self.nth = (0, self.head)\n",
    "                for _ in range(index):\n",
    "                    self.nth = (self.nth[0] + 1, self.nth[1].next)\n",
    "\n",
    "            elif dir == 1:\n",
    "                for _ in range(self.nth[0] - index - 1):\n",
    "                    self.nth = (self.nth[0] + 1, self.nth[1].next)\n",
    "\n",
    "            elif dir == 2:\n",
    "                for _ in range(index - self.nth[0] - 1):\n",
    "                    self.nth = (self.nth[0] - 1, self.nth[1].prev)\n",
    "\n",
    "            else:\n",
    "                self.nth = (self.n - 1, self.tail)\n",
    "                for _ in range(self.n - 1, index, -1):\n",
    "                    self.nth = (self.nth[0] - 1, self.nth[1].prev)\n",
    "\n",
    "            new_node = Node(value, prev=self.nth[1].prev, next=self.nth[1])\n",
    "            new_node.prev.next = new_node\n",
    "            new_node.next.prev = new_node\n",
    "\n",
    "        self.n += 1\n",
    "        return self\n",
    "\n",
    "\n",
    "\n",
    "dll = DoubleLinkedList()\n",
    "dll.pushBack(0).pushBack(1).pushBack(2).pushBack(3)\n",
    "print(dll)\n",
    "dll.pushFront(-1)\n",
    "print(dll)\n",
    "\n",
    "dll.insert('some', 3)\n"
   ]
  },
  {
   "cell_type": "code",
   "execution_count": 28,
   "metadata": {},
   "outputs": [
    {
     "name": "stdout",
     "output_type": "stream",
     "text": [
      "[1, 2, 3, 4, 5, 6, 7, 8, 9]\n",
      "[0, 0, 0, 0, 0, 0, 0, 0, 0]\n"
     ]
    },
    {
     "data": {
      "text/plain": [
       "[0, 0, 0, 0, 0, 0, 0, 0, 0]"
      ]
     },
     "execution_count": 28,
     "metadata": {},
     "output_type": "execute_result"
    }
   ],
   "source": [
    "def snail(snail_map):\n",
    "    snail_map = [i for row in snail_map for i in row]\n",
    "    print(snail_map)\n",
    "    snail_map_sorted = [0]*(len(snail_map))\n",
    "\n",
    "\n",
    "    return snail_map_sorted\n",
    "\n",
    "snail([[1,2,3],\n",
    "       [4,5,6],\n",
    "       [7,8,9]])\n"
   ]
  }
 ],
 "metadata": {
  "kernelspec": {
   "display_name": "Python 3",
   "language": "python",
   "name": "python3"
  },
  "language_info": {
   "codemirror_mode": {
    "name": "ipython",
    "version": 3
   },
   "file_extension": ".py",
   "mimetype": "text/x-python",
   "name": "python",
   "nbconvert_exporter": "python",
   "pygments_lexer": "ipython3",
   "version": "3.12.3"
  }
 },
 "nbformat": 4,
 "nbformat_minor": 2
}
