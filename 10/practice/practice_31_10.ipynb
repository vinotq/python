{
 "cells": [
  {
   "cell_type": "markdown",
   "metadata": {},
   "source": [
    "# **Practice #n + 4**  \n",
    "##### 31.10.24\n"
   ]
  },
  {
   "cell_type": "markdown",
   "metadata": {},
   "source": [
    "### **Тема**:\n"
   ]
  },
  {
   "cell_type": "code",
   "execution_count": null,
   "metadata": {},
   "outputs": [],
   "source": [
    "class Point:\n",
    "    def __init__(self, x: int = 0, y: int = 0):\n",
    "        self.x = x\n",
    "        self.y = y\n",
    "\n",
    "\n",
    "class ImmutablePoint(Point):\n",
    "    __initialized = False\n",
    "    def __init__(self, x = 0, y = 0):\n",
    "        super().__init__(x, y)\n",
    "        self.__initialized = True\n",
    "\n",
    "    def __setattr__(self, name, value):\n",
    "        if self.__initialized:\n",
    "            raise AttributeError('Point is immutable')\n",
    "        object.__setattr__(self, name, value)\n",
    "\n",
    "ip = ImmutablePoint(x=47, y=47)\n",
    "\n",
    "print(ip.x, ip.y)\n",
    "\n",
    "#ip.x = 47\n",
    "\n",
    "print(ip.x, ip.y)\n",
    "\n",
    "ip.z = 5\n",
    "\n",
    "#ip.z\n"
   ]
  },
  {
   "cell_type": "code",
   "execution_count": 15,
   "metadata": {},
   "outputs": [
    {
     "name": "stdout",
     "output_type": "stream",
     "text": [
      "setting attribute x for point with value 1\n",
      "setting attribute y for point with value 2\n",
      "getting x\n",
      "getting y\n",
      "1 2\n"
     ]
    }
   ],
   "source": [
    "class Point:\n",
    "    def __init__(self, x: int = 0, y: int = 0):\n",
    "        self.x = x\n",
    "        self.y = y\n",
    "\n",
    "    def __setattr__(self, name, value):\n",
    "        print(f'setting attribute {name} for point with value {value}')\n",
    "        super().__setattr__(name, value)\n",
    "\n",
    "    def inc_x(self):\n",
    "        self.x += 1\n",
    "\n",
    "class immutable:\n",
    "    __initialized = False\n",
    "\n",
    "    def __init__(self, obj: Point):\n",
    "        self.__obj = obj\n",
    "        self.__initialized = True\n",
    "\n",
    "    def __getattr__(self, name):\n",
    "        print(f'getting {name}')\n",
    "        return object.__getattribute__(self.__obj, name)\n",
    "\n",
    "    def __setattr__(self, name, value):\n",
    "        if self.__initialized:\n",
    "            raise AttributeError('Point is immutable')\n",
    "        object.__setattr__(self, name, value)\n",
    "\n",
    "\n",
    "p = Point(x=1, y=2)\n",
    "ip = immutable(p)\n",
    "\n",
    "print(ip.x, ip.y)\n"
   ]
  },
  {
   "cell_type": "code",
   "execution_count": 22,
   "metadata": {},
   "outputs": [
    {
     "name": "stdout",
     "output_type": "stream",
     "text": [
      "0 100\n"
     ]
    }
   ],
   "source": [
    "from typing import Any\n",
    "\n",
    "\n",
    "class immutable:\n",
    "    def __init__(self, class_) -> None:\n",
    "        self.class_ = class_\n",
    "\n",
    "    def __call__(self, *args: Any, **kwds: Any) -> Any:\n",
    "        obj = self.class_(*args, **kwds)\n",
    "\n",
    "        def new_setattr(self, name, value):\n",
    "            raise AttributeError('Point is immutable')\n",
    "\n",
    "        setattr(self.class_, \"__setattr\", new_setattr)\n",
    "        return obj\n",
    "\n",
    "@immutable\n",
    "class Point:\n",
    "    def __init__(self, x: int = 0, y: int = 0):\n",
    "        self.x = x\n",
    "        self.y = y\n",
    "\n",
    "ip = Point(y = 100)\n",
    "print(ip.x, ip.y)\n",
    "ip.x = 55"
   ]
  }
 ],
 "metadata": {
  "kernelspec": {
   "display_name": "Python 3",
   "language": "python",
   "name": "python3"
  },
  "language_info": {
   "codemirror_mode": {
    "name": "ipython",
    "version": 3
   },
   "file_extension": ".py",
   "mimetype": "text/x-python",
   "name": "python",
   "nbconvert_exporter": "python",
   "pygments_lexer": "ipython3",
   "version": "3.12.3"
  }
 },
 "nbformat": 4,
 "nbformat_minor": 2
}
