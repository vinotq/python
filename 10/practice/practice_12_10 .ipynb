{
 "cells": [
  {
   "cell_type": "markdown",
   "metadata": {},
   "source": [
    "# **Practice**  \n",
    "##### 12.10.24"
   ]
  },
  {
   "cell_type": "markdown",
   "metadata": {},
   "source": [
    "### **Тема**: Codewars\n"
   ]
  },
  {
   "cell_type": "code",
   "execution_count": 17,
   "metadata": {},
   "outputs": [
    {
     "name": "stdout",
     "output_type": "stream",
     "text": [
      "00000000000000000000000000100000\n"
     ]
    },
    {
     "data": {
      "text/plain": [
       "'0.0.0.32'"
      ]
     },
     "execution_count": 17,
     "metadata": {},
     "output_type": "execute_result"
    }
   ],
   "source": [
    "def int32_to_ip(ip):\n",
    "    res = \"\"\n",
    "    ip_str = bin(int(ip))[2:].zfill(32)\n",
    "    print(ip_str)\n",
    "    for i in range(0, len(ip_str), 8):\n",
    "        if i != 24:\n",
    "            res += str(int(ip_str[i:i+8], 2)) + \".\"\n",
    "        else:\n",
    "            res += str(int(ip_str[i:i+8], 2))\n",
    "    return res\n",
    "int32_to_ip(32)"
   ]
  },
  {
   "cell_type": "code",
   "execution_count": null,
   "metadata": {},
   "outputs": [],
   "source": [
    "def matryoshka(lst):\n",
    "    for i in range(len(lst) - 1):\n",
    "        for j in range(i + 1, len(lst)):\n",
    "            if (min(lst[i]) > min(lst[j])) and (max(lst[i]) < max(lst[j])) or (min(lst[i]) > min(lst[j])) and (max(lst[i]) < max(lst[j])):\n",
    "                continue\n",
    "            else:\n",
    "                return False\n",
    "    return True\n"
   ]
  },
  {
   "cell_type": "code",
   "execution_count": 72,
   "metadata": {},
   "outputs": [
    {
     "name": "stdout",
     "output_type": "stream",
     "text": [
      "[3, 4, 2]\n"
     ]
    }
   ],
   "source": [
    "def flip_pancakes(stack):\n",
    "    a = []\n",
    "    var = stack.index(max(stack))\n",
    "    while len(stack) > 1:\n",
    "        if var == len(stack) - 1:\n",
    "            stack.pop()\n",
    "            continue\n",
    "\n",
    "        if var != 0:\n",
    "            a.append(var)\n",
    "            stack[:var + 1] = reversed(stack[:var + 1])\n",
    "\n",
    "        stack.reverse()\n",
    "        a.append((len(stack)) - 1)\n",
    "        stack.pop()\n",
    "    return a\n",
    "\n",
    "print(flip_pancakes([1,5,8,3]))"
   ]
  }
 ],
 "metadata": {
  "kernelspec": {
   "display_name": "Python 3",
   "language": "python",
   "name": "python3"
  },
  "language_info": {
   "codemirror_mode": {
    "name": "ipython",
    "version": 3
   },
   "file_extension": ".py",
   "mimetype": "text/x-python",
   "name": "python",
   "nbconvert_exporter": "python",
   "pygments_lexer": "ipython3",
   "version": "3.12.3"
  }
 },
 "nbformat": 4,
 "nbformat_minor": 2
}
