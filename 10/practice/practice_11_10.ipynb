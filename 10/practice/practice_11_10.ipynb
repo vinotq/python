{
 "cells": [
  {
   "cell_type": "markdown",
   "metadata": {},
   "source": [
    "# **Practice #n**  \n",
    "##### 11.10.24\n"
   ]
  },
  {
   "cell_type": "markdown",
   "metadata": {},
   "source": [
    "### **Тема**: Метаклассы"
   ]
  },
  {
   "cell_type": "code",
   "execution_count": 26,
   "metadata": {},
   "outputs": [
    {
     "name": "stdout",
     "output_type": "stream",
     "text": [
      "Вызвана функция main\n",
      "Вызвана функция meth1\n",
      "Завершена meth1\n",
      "Вызвана функция meth2\n",
      "Завершена meth2\n",
      "Завершена main\n"
     ]
    }
   ],
   "source": [
    "from time import sleep\n",
    "from functools import wraps\n",
    "\n",
    "class WrapStackPreparer(dict):\n",
    "    def __init__(self, array_wraps):\n",
    "        super().__init__()\n",
    "        self.array_wraps = array_wraps\n",
    "\n",
    "    def __setitem__(self, key, value):\n",
    "        if callable(value):\n",
    "            for wrap in self.array_wraps:\n",
    "                value = wrap(value)\n",
    "        dict.__setitem__(self, key, value)\n",
    "\n",
    "class MyMeta(type):\n",
    "    @classmethod\n",
    "    def __prepare__(metacls, name, bases, /, **kwargs):\n",
    "        return WrapStackPreparer(**kwargs)\n",
    "\n",
    "    def __new__(metacls, name, bases, classdict, **kwargs):\n",
    "        result = type.__new__(metacls, name, bases, classdict)\n",
    "        return result\n",
    "\n",
    "def logger(func):\n",
    "    @wraps(func)\n",
    "    def wrapper(*args, **kwargs):\n",
    "        print(f\"Вызвана функция {func.__name__}\")\n",
    "        res = func(*args, **kwargs)\n",
    "        print(f\"Завершена {func.__name__}\")\n",
    "        return res\n",
    "    return wrapper\n",
    "\n",
    "class MyClass(metaclass = MyMeta, array_wraps = [logger]):\n",
    "    def meth1(self):\n",
    "        sleep(0.14)\n",
    "\n",
    "    def meth2(self):\n",
    "        sleep(0.88)\n",
    "\n",
    "    def main(self):\n",
    "        self.meth1()\n",
    "        self.meth2()\n",
    "\n",
    "obj = MyClass()\n",
    "obj.main()"
   ]
  }
 ],
 "metadata": {
  "kernelspec": {
   "display_name": "Python 3",
   "language": "python",
   "name": "python3"
  },
  "language_info": {
   "codemirror_mode": {
    "name": "ipython",
    "version": 3
   },
   "file_extension": ".py",
   "mimetype": "text/x-python",
   "name": "python",
   "nbconvert_exporter": "python",
   "pygments_lexer": "ipython3",
   "version": "3.12.3"
  }
 },
 "nbformat": 4,
 "nbformat_minor": 2
}
