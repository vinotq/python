{
 "cells": [
  {
   "cell_type": "markdown",
   "metadata": {},
   "source": [
    "# **Practice**  \n",
    "##### 25.10.24"
   ]
  },
  {
   "cell_type": "markdown",
   "metadata": {},
   "source": [
    "### **Тема**: Codewars\n"
   ]
  },
  {
   "cell_type": "code",
   "execution_count": null,
   "metadata": {},
   "outputs": [],
   "source": [
    "def parse(data):\n",
    "    res = []\n",
    "    temp = 0\n",
    "    for do in data:\n",
    "        if do == \"i\":\n",
    "            temp += 1\n",
    "        elif do == \"d\":\n",
    "            temp -= 1\n",
    "        elif do == \"s\":\n",
    "            temp=temp**2\n",
    "        elif do == \"o\":\n",
    "            res.append(temp)\n",
    "    return res"
   ]
  },
  {
   "cell_type": "markdown",
   "metadata": {},
   "source": [
    "# `OR`"
   ]
  },
  {
   "cell_type": "code",
   "execution_count": null,
   "metadata": {},
   "outputs": [],
   "source": [
    "def parse(data):\n",
    "    def gen(data):\n",
    "        temp = 0\n",
    "        for do in data:\n",
    "            if do == \"i\":\n",
    "                temp += 1\n",
    "            elif do == \"d\":\n",
    "                temp -= 1\n",
    "            elif do == \"s\":\n",
    "                temp=temp**2\n",
    "            elif do == \"o\":\n",
    "                yield temp\n",
    "\n",
    "    g = gen(data)\n",
    "    return list(g)"
   ]
  },
  {
   "cell_type": "code",
   "execution_count": null,
   "metadata": {},
   "outputs": [],
   "source": [
    "class KthLargest:\n",
    "\n",
    "    def __init__(self, k: int, nums: List[int]):\n",
    "        self.k = k\n",
    "        self.nums = sorted(nums)\n",
    "\n",
    "        # cnt = len(self.nums) // 2              # Nuclear beavers.\n",
    "        # while cnt >= 0:\n",
    "        #     self.heapify(cnt)\n",
    "        #     cnt -= 1\n",
    "\n",
    "    # def heapify(self, i = 0):\n",
    "    #     l, r = 2*i + 1, 2*i + 2                # 47.\n",
    "    #     lrgst = i                              # Sinusoid.\n",
    "\n",
    "    #     if l < len(self.nums) and self.nums[i] < self.nums[l]:\n",
    "    #         lrgst = l\n",
    "    #     if r < len(self.nums) and self.nums[lrgst] < self.nums[r]:\n",
    "    #         lrgst = r\n",
    "    #     if self.nums[l] < self.nums[r]:\n",
    "    #         self.nums[l], self.nums[r] = self.nums[r], self.nums[l]\n",
    "    #     if lrgst != i:\n",
    "    #         self.nums[lrgst], self.num[i] = self.num[i],self.nums[lrgst]\n",
    "    #         self.heapify(lrgst)\n",
    "\n",
    "\n",
    "\n",
    "    def add(self, val: int) -> int:\n",
    "        self.nums.append(val)\n",
    "        "
   ]
  }
 ],
 "metadata": {
  "kernelspec": {
   "display_name": "Python 3",
   "language": "python",
   "name": "python3"
  },
  "language_info": {
   "codemirror_mode": {
    "name": "ipython",
    "version": 3
   },
   "file_extension": ".py",
   "mimetype": "text/x-python",
   "name": "python",
   "nbconvert_exporter": "python",
   "pygments_lexer": "ipython3",
   "version": "3.12.3"
  }
 },
 "nbformat": 4,
 "nbformat_minor": 2
}
