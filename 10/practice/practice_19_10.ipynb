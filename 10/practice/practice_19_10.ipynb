{
 "cells": [
  {
   "cell_type": "markdown",
   "metadata": {},
   "source": [
    "# **Practice**  \n",
    "##### 19.10.24"
   ]
  },
  {
   "cell_type": "markdown",
   "metadata": {},
   "source": [
    "### **Тема**: Codewars\n"
   ]
  },
  {
   "cell_type": "code",
   "execution_count": 9,
   "metadata": {},
   "outputs": [],
   "source": [
    "def magic_music_box(words):\n",
    "    notes = (\"DO\", \"RE\", \"MI\", \"FA\", \"SOL\", \"LA\", \"SI\")\n",
    "    res = []\n",
    "    i = 0\n",
    "    j = 0\n",
    "    f = 0\n",
    "\n",
    "    while words:\n",
    "        if f == len(words):\n",
    "            break\n",
    "        if notes[i] in words[j] and words[j] not in res:\n",
    "            res.append(words[j])\n",
    "            i += 1\n",
    "            i = i % 7\n",
    "            f = 0\n",
    "        else:\n",
    "            f += 1\n",
    "\n",
    "        j += 1\n",
    "        j = j % len(words)\n",
    "\n",
    "    return res\n"
   ]
  },
  {
   "cell_type": "code",
   "execution_count": null,
   "metadata": {},
   "outputs": [],
   "source": [
    "def replace_common(st, letter):\n",
    "    lettrs_dict = {}\n",
    "\n",
    "    for char in st:\n",
    "        if char != \" \":\n",
    "            lettrs_dict[char] = lettrs_dict.get(char, 0) + 1\n",
    "\n",
    "    var_max = -1\n",
    "    k_max = \"\"\n",
    "\n",
    "    for char in st:\n",
    "        if char != \" \" and lettrs_dict[char] > var_max:\n",
    "            var_max = lettrs_dict[char]\n",
    "            k_max = char\n",
    "\n",
    "    return st.replace(k_max, letter)\n",
    "\n",
    "\n"
   ]
  },
  {
   "cell_type": "code",
   "execution_count": 10,
   "metadata": {},
   "outputs": [],
   "source": [
    "def transpose(matrix):\n",
    "    res = [[0] * len(matrix) for _ in range(len(matrix[0]))]\n",
    "    for i in range(len(matrix)):\n",
    "        for j in range(len(matrix[0])):\n",
    "            res[j][i] = matrix[i][j]\n",
    "    return res"
   ]
  }
 ],
 "metadata": {
  "kernelspec": {
   "display_name": "Python 3",
   "language": "python",
   "name": "python3"
  },
  "language_info": {
   "codemirror_mode": {
    "name": "ipython",
    "version": 3
   },
   "file_extension": ".py",
   "mimetype": "text/x-python",
   "name": "python",
   "nbconvert_exporter": "python",
   "pygments_lexer": "ipython3",
   "version": "3.12.3"
  }
 },
 "nbformat": 4,
 "nbformat_minor": 2
}
