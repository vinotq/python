{
 "cells": [
  {
   "cell_type": "markdown",
   "metadata": {},
   "source": [
    "# **Practice**  \n",
    "##### 29.10.24"
   ]
  },
  {
   "cell_type": "markdown",
   "metadata": {},
   "source": [
    "### **Тема**: \n"
   ]
  },
  {
   "cell_type": "code",
   "execution_count": 7,
   "metadata": {},
   "outputs": [],
   "source": [
    "def li(map_, pos, q, used):\n",
    "    x, y = pos\n",
    "    used.add(pos)\n",
    "\n",
    "    if (x == 0 or x == len(map_) - 1 or y == 0 or y == len(map_[0]) - 1) and map_[x][y] == \" \":\n",
    "        return True\n",
    "\n",
    "    if x + 1 < len(map_) and map_[x + 1][y] == \" \" and (x + 1, y) not in used:\n",
    "        q.append((x + 1, y))\n",
    "\n",
    "    if x - 1 >= 0 and map_[x - 1][y] == \" \" and (x - 1, y) not in used:\n",
    "        q.append((x - 1, y))\n",
    "\n",
    "    if y + 1 < len(map_[0]) and map_[x][y + 1] == \" \" and (x, y + 1) not in used:\n",
    "        q.append((x, y + 1))\n",
    "\n",
    "    if y - 1 >= 0 and map_[x][y - 1] == \" \" and (x, y - 1) not in used:\n",
    "        q.append((x, y - 1))\n",
    "\n",
    "    if q:\n",
    "        return li(map_, q.pop(0), q, used)\n",
    "\n",
    "    return False\n",
    "\n",
    "def has_exit(maze):\n",
    "    q = []\n",
    "    used = set()\n",
    "\n",
    "    if len(maze) == 1 and len(maze[0]) == 1:\n",
    "        return maze[0][0] == \"k\"\n",
    "\n",
    "    if all(smbl == \"#\" for smbl in maze[0]) and \\\n",
    "       all(smbl == \"#\" for smbl in maze[-1]) and \\\n",
    "       all(row[0] == \"#\" and row[-1] == \"#\" for row in maze):\n",
    "        return False\n",
    "\n",
    "    for i, row in enumerate(maze):\n",
    "        for j, elmnt in enumerate(row):\n",
    "            if elmnt == \"k\":\n",
    "                if not q:\n",
    "                    q.append((i, j))\n",
    "                else:\n",
    "                    raise Exception(\"There should not be multiple Kates\")\n",
    "\n",
    "    x, y = q[0]\n",
    "    if (x == 0 or x == len(maze) - 1 or y == 0 or y == len(maze[0]) - 1) and maze[x][y] == \" \":\n",
    "        return True\n",
    "\n",
    "    return li(maze, q.pop(0), q, used)\n"
   ]
  }
 ],
 "metadata": {
  "kernelspec": {
   "display_name": "Python 3",
   "language": "python",
   "name": "python3"
  },
  "language_info": {
   "codemirror_mode": {
    "name": "ipython",
    "version": 3
   },
   "file_extension": ".py",
   "mimetype": "text/x-python",
   "name": "python",
   "nbconvert_exporter": "python",
   "pygments_lexer": "ipython3",
   "version": "3.12.3"
  }
 },
 "nbformat": 4,
 "nbformat_minor": 2
}
