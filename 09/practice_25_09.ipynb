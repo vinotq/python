{
 "cells": [
  {
   "cell_type": "markdown",
   "metadata": {},
   "source": [
    "# **Practice #4**  \n",
    "##### 25.09.24\n"
   ]
  },
  {
   "cell_type": "markdown",
   "metadata": {},
   "source": [
    "### **Тема**: "
   ]
  },
  {
   "cell_type": "markdown",
   "metadata": {},
   "source": [
    "## **#1 Codewars**  \n",
    "\n"
   ]
  },
  {
   "cell_type": "code",
   "execution_count": 1,
   "metadata": {},
   "outputs": [],
   "source": [
    "class Plugboard:\n",
    "    def __init__(self, wires=None):\n",
    "        if not wires:\n",
    "            raise Exception\n",
    "        if len(wires) > 20:\n",
    "            raise ValueError\n",
    "        self.wire_map = {}\n",
    "\n",
    "        used = set()\n",
    "        for i in range(0, len(wires), 2):\n",
    "            a, b = wires[i], wires[i + 1]\n",
    "\n",
    "            if a in used or b in used:\n",
    "                raise ValueError\n",
    "\n",
    "            self.wire_map[a] = b\n",
    "            self.wire_map[b] = a\n",
    "            used.add(a)\n",
    "            used.add(b)\n",
    "\n",
    "    def process(self, c):\n",
    "        return self.wire_map.get(c, c)"
   ]
  },
  {
   "cell_type": "markdown",
   "metadata": {},
   "source": [
    "## **#2 Codewars**  \n",
    "\n"
   ]
  },
  {
   "cell_type": "code",
   "execution_count": null,
   "metadata": {},
   "outputs": [],
   "source": [
    "class list:\n",
    "    def __init__(self, ls = []):\n",
    "        self.list = ls\n",
    "\n",
    "    def even(self):\n",
    "        return [i for i in self.list if isinstance(i, int) and not i % 2]\n",
    "\n",
    "    def odd(self):\n",
    "        return [i for i in self.list if isinstance(i, int) and i % 2]\n",
    "\n",
    "    def under(self, a):\n",
    "        if not isinstance(a, int):\n",
    "            return ValueError\n",
    "        return [i for i in self.list if isinstance(i, int) and i < a]\n",
    "\n",
    "    def over(self, a):\n",
    "        if not isinstance(a, int):\n",
    "            return ValueError\n",
    "        return [i for i in self.list if isinstance(i, int) and i > a]\n",
    "\n",
    "    def in_range(self, a, b):\n",
    "        if not isinstance(a, int) or not isinstance(b, int):\n",
    "            return ValueError\n",
    "        return self.list[a-1:b]\n"
   ]
  },
  {
   "cell_type": "markdown",
   "metadata": {},
   "source": [
    "## **#3 Codewars**  \n",
    "\n"
   ]
  },
  {
   "cell_type": "code",
   "execution_count": 3,
   "metadata": {},
   "outputs": [
    {
     "name": "stdout",
     "output_type": "stream",
     "text": [
      "[19]\n",
      "[0, 2, 4, 4]\n"
     ]
    },
    {
     "data": {
      "text/plain": [
       "False"
      ]
     },
     "execution_count": 3,
     "metadata": {},
     "output_type": "execute_result"
    }
   ],
   "source": [
    "def is_odd_heavy(arr):\n",
    "    even = []\n",
    "    odd = []\n",
    "\n",
    "    for num in arr:\n",
    "        if num % 2 != 0:\n",
    "            even.append(num)\n",
    "        else:\n",
    "            odd.append(num)\n",
    "\n",
    "    print(even)\n",
    "    print(odd)\n",
    "\n",
    "    if max(even) > max(odd):\n",
    "        return True\n",
    "    else:\n",
    "        return False\n",
    "\n",
    "\n",
    "is_odd_heavy([0, 2, 19, 4, 4])"
   ]
  }
 ],
 "metadata": {
  "kernelspec": {
   "display_name": "Python 3",
   "language": "python",
   "name": "python3"
  },
  "language_info": {
   "codemirror_mode": {
    "name": "ipython",
    "version": 3
   },
   "file_extension": ".py",
   "mimetype": "text/x-python",
   "name": "python",
   "nbconvert_exporter": "python",
   "pygments_lexer": "ipython3",
   "version": "3.12.3"
  }
 },
 "nbformat": 4,
 "nbformat_minor": 2
}
