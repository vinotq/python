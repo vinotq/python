{
 "cells": [
  {
   "cell_type": "markdown",
   "metadata": {},
   "source": [
    "# **Lection #3**:\n",
    "### **Theme**: Сортировка\n",
    "##### **Date**: 17.09.24"
   ]
  },
  {
   "cell_type": "markdown",
   "metadata": {},
   "source": [
    "# **Квадратичные сортировки**\n",
    "### 1) **Пузырек**\n",
    "\n",
    "- используются, но редко ибо довольно затратные "
   ]
  },
  {
   "cell_type": "code",
   "execution_count": 7,
   "metadata": {},
   "outputs": [
    {
     "name": "stdout",
     "output_type": "stream",
     "text": [
      "[-1, 1, 14, 47, 65, 89]\n"
     ]
    }
   ],
   "source": [
    "arr = [1, 47 , 89, 14, 65, -1]\n",
    "\n",
    "for j in range(len(arr) - 1):\n",
    "    for i in range(len(arr)- 1 - j):\n",
    "        if arr[i] > arr[i+1]:\n",
    "            arr[i], arr[i+1] = arr[i+1], arr[i]\n",
    "\n",
    "\n",
    "print(arr)"
   ]
  },
  {
   "cell_type": "markdown",
   "metadata": {},
   "source": [
    "### 2) **Вставками**\n",
    "\n",
    "- разделяем на сорт/несорт\n",
    "- двигается перестановками влево"
   ]
  },
  {
   "cell_type": "code",
   "execution_count": 14,
   "metadata": {},
   "outputs": [
    {
     "name": "stdout",
     "output_type": "stream",
     "text": [
      "[-1, 1, 14, 47, 65, 89]\n"
     ]
    }
   ],
   "source": [
    "arr = [1, 47 , 89, 14, 65, -1]\n",
    "\n",
    "for i in range(1, len(arr)):\n",
    "    while arr[i] < arr[i-1] and i > 0:\n",
    "        arr[i], arr[i-1] = arr[i-1], arr[i]\n",
    "        i -= 1\n",
    "\n",
    "print(arr)"
   ]
  },
  {
   "cell_type": "markdown",
   "metadata": {},
   "source": [
    "# **Разделяй и влавствуй**\n",
    "### 1) **Бинарный поиск**\n",
    "\n",
    "- стандартная процедура\n",
    "\n",
    "### 2) **Слиянием**\n"
   ]
  },
  {
   "cell_type": "code",
   "execution_count": 23,
   "metadata": {},
   "outputs": [
    {
     "name": "stdout",
     "output_type": "stream",
     "text": [
      "[1, 47, 15, 47, 67, 34, 89, 14, 65, -1, 92, -76]\n",
      "[-76, 15, 34, 47, 67, 92]\n",
      "[-1, 1, 14, 47, 65, 89]\n"
     ]
    }
   ],
   "source": [
    "def merge(A, B):\n",
    "    i, j, C = 0, 0, []\n",
    "    while True:\n",
    "        if A[i] < B[j]:\n",
    "            C.append(A[i])\n",
    "            i += 1\n",
    "            if i == len(A):\n",
    "                C.extend(B[j:])\n",
    "                break\n",
    "            \n",
    "        else:\n",
    "            C.append(B[j])\n",
    "            j += 1\n",
    "            if j == len(B):\n",
    "                C.extend(A[i:])\n",
    "                break\n",
    "\n",
    "    return C\n",
    "\n",
    "print(merge([1, 47 , 89, 14, 65, -1], [47, 15, 67, 34, 92, -76]))\n",
    "\n",
    "\n",
    "def top_down_merge_sort(A):\n",
    "    if len(A) == 1:\n",
    "        return A\n",
    "    \n",
    "    d = len(A) // 2\n",
    "    left = top_down_merge_sort(A[:d])\n",
    "    right = top_down_merge_sort(A[d:])\n",
    "    \n",
    "    return merge(left, right)\n",
    "\n",
    "print(top_down_merge_sort([47, 15, 67, 34, 92, -76]))\n",
    "\n",
    "# OR WITHOUT RECOURSION\n",
    "\n",
    "def bottom_up_merge_sort(A):\n",
    "    k = 1\n",
    "    while k < len(A):\n",
    "        for i in range(0, len(A)-k, 2*k):\n",
    "            A[i:i+2*k] = merge(A[i:i+k], A[i+k:i+2*k])\n",
    "        k *= 2\n",
    "    return A\n",
    "\n",
    "print(bottom_up_merge_sort([1, 47 , 89, 14, 65, -1]))\n",
    "\n"
   ]
  },
  {
   "cell_type": "markdown",
   "metadata": {},
   "source": [
    "### 3) **Chunking**\n"
   ]
  },
  {
   "cell_type": "code",
   "execution_count": 5,
   "metadata": {},
   "outputs": [
    {
     "name": "stdout",
     "output_type": "stream",
     "text": [
      "[(0, 2), (3, 4), (5, 5)]\n"
     ]
    }
   ],
   "source": [
    "\n",
    "def chunking(A):\n",
    "    chunks = []\n",
    "    a, d = 0, 0\n",
    "    for b in range(1, len(A)):\n",
    "        if d == 0:\n",
    "            d = A[b] - A[a]\n",
    "            continue\n",
    "\n",
    "        if (A[b] - A[b-1])*d < 0:\n",
    "            chunks.append((a, b-1) if d > 0 else (b-1, a))\n",
    "            a, d = b, 0\n",
    "\n",
    "    chunks.append((a, b) if d > 0 else (b, a))\n",
    "    \n",
    "    return chunks\n",
    "\n",
    "print(chunking([1, 47 , 89, 14, 65, -1]))"
   ]
  },
  {
   "cell_type": "markdown",
   "metadata": {},
   "source": [
    "# **Быстрая сортировка**\n",
    "### 1) **Хоара**\n",
    "- скорость n logn\n"
   ]
  },
  {
   "cell_type": "code",
   "execution_count": 10,
   "metadata": {},
   "outputs": [
    {
     "name": "stdout",
     "output_type": "stream",
     "text": [
      "None\n"
     ]
    }
   ],
   "source": [
    "def partition(array, low, high):\n",
    "    pivot = array[high]\n",
    "    i = low - 1\n",
    "    \n",
    "    for j in range(low, high):\n",
    "        if array[j] < pivot:\n",
    "            i = i + 1\n",
    "            array[i], array[j] = array[j], array[i]\n",
    "            \n",
    "    array[i + 1], array[high] = array[high], array[i + 1]\n",
    "    return i + 1\n",
    "\n",
    "def quicksort(array, low, high):\n",
    "    if low < high:\n",
    "        pi = partition(array, low, high)\n",
    "        quicksort(array, low, pi - 1)\n",
    "        quicksort(array, pi + 1, high)\n",
    "\n",
    "print(quicksort([1, 47 , 89, 14, 65, -1], 5, 2))\n"
   ]
  },
  {
   "cell_type": "markdown",
   "metadata": {},
   "source": [
    "### 2) **IntroSort**\n",
    "- точная ассимтотика n logn\n"
   ]
  }
 ],
 "metadata": {
  "kernelspec": {
   "display_name": "Python 3",
   "language": "python",
   "name": "python3"
  },
  "language_info": {
   "codemirror_mode": {
    "name": "ipython",
    "version": 3
   },
   "file_extension": ".py",
   "mimetype": "text/x-python",
   "name": "python",
   "nbconvert_exporter": "python",
   "pygments_lexer": "ipython3",
   "version": "3.12.3"
  }
 },
 "nbformat": 4,
 "nbformat_minor": 2
}
