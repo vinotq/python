{
 "cells": [
  {
   "cell_type": "markdown",
   "metadata": {},
   "source": [
    "# **Practice #5**  \n",
    "##### 28.09.24\n"
   ]
  },
  {
   "cell_type": "markdown",
   "metadata": {},
   "source": [
    "### **Тема**: "
   ]
  },
  {
   "cell_type": "markdown",
   "metadata": {},
   "source": [
    "## **#1 Codewars**  \n",
    "\n"
   ]
  },
  {
   "cell_type": "code",
   "execution_count": 1,
   "metadata": {},
   "outputs": [],
   "source": [
    "class Jar():\n",
    "    def __init__(self):\n",
    "        self.comp = dict()\n",
    "\n",
    "    def add (self, amount, kind):\n",
    "        if kind in self.comp:\n",
    "            self.comp[kind] += amount\n",
    "        else:\n",
    "            self.comp[kind] = amount\n",
    "        # self.comp[kind] = self.comp.get(kind, 0) + amount\n",
    "\n",
    "    def pour_out (self, amount):\n",
    "        to_pour_out = dict()\n",
    "        for compnt in self.comp:\n",
    "            to_pour_out[compnt] = self.get_concentration(compnt) * amount\n",
    "        self.comp = {key: value - to_pour_out[key] for key, value in self.comp.items()}\n",
    "\n",
    "    def get_total_amount(self):\n",
    "        return sum(self.comp.values())\n",
    "\n",
    "    def get_concentration(self, kind):\n",
    "        return self.comp.get(kind, 0) / (self.get_total_amount() if self.comp else 1)"
   ]
  }
 ],
 "metadata": {
  "kernelspec": {
   "display_name": "Python 3",
   "language": "python",
   "name": "python3"
  },
  "language_info": {
   "codemirror_mode": {
    "name": "ipython",
    "version": 3
   },
   "file_extension": ".py",
   "mimetype": "text/x-python",
   "name": "python",
   "nbconvert_exporter": "python",
   "pygments_lexer": "ipython3",
   "version": "3.12.3"
  }
 },
 "nbformat": 4,
 "nbformat_minor": 2
}
