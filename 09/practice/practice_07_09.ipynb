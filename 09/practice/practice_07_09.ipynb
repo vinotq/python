{
 "cells": [
  {
   "cell_type": "markdown",
   "metadata": {},
   "source": [
    "# **Practice**\n",
    "##### 04.09.24"
   ]
  },
  {
   "cell_type": "markdown",
   "metadata": {},
   "source": [
    "#### **Theme**: interpol(ation and other sh):"
   ]
  },
  {
   "cell_type": "code",
   "execution_count": 8,
   "metadata": {},
   "outputs": [
    {
     "name": "stdout",
     "output_type": "stream",
     "text": [
      "11759464\n",
      "133682134564208\n"
     ]
    }
   ],
   "source": [
    "# id proceces and other sh:\n",
    "a = 47\n",
    "b = 47.\n",
    "\n",
    "print(id(a))\n",
    "print(id(b))"
   ]
  },
  {
   "cell_type": "markdown",
   "metadata": {},
   "source": [
    "### **Formating**:"
   ]
  },
  {
   "cell_type": "code",
   "execution_count": 6,
   "metadata": {},
   "outputs": [],
   "source": [
    "age = 47\n",
    "name = \"Oleg\"\n",
    "job = \"Prog\""
   ]
  },
  {
   "cell_type": "code",
   "execution_count": 7,
   "metadata": {},
   "outputs": [
    {
     "name": "stdout",
     "output_type": "stream",
     "text": [
      "Oleg, age 47, Prog\n",
      "Oleg, age 47, Prog\n"
     ]
    }
   ],
   "source": [
    "# example\n",
    "print(\"{}, age {}, {}\".format(name, age, job))\n",
    "# or\n",
    "print(f\"{name}, age {age}, {job}\") # better + easy  to read but a lit bit slower than thirs "
   ]
  },
  {
   "cell_type": "markdown",
   "metadata": {},
   "source": [
    "### **Formating #2**:\n"
   ]
  },
  {
   "cell_type": "code",
   "execution_count": 16,
   "metadata": {},
   "outputs": [
    {
     "name": "stdout",
     "output_type": "stream",
     "text": [
      "        Oleg        |    47    |     Prog      |\n"
     ]
    }
   ],
   "source": [
    "print(f\"{name: ^20}|{age: ^10}|{job: ^15}|\") "
   ]
  }
 ],
 "metadata": {
  "kernelspec": {
   "display_name": "Python 3",
   "language": "python",
   "name": "python3"
  },
  "language_info": {
   "codemirror_mode": {
    "name": "ipython",
    "version": 3
   },
   "file_extension": ".py",
   "mimetype": "text/x-python",
   "name": "python",
   "nbconvert_exporter": "python",
   "pygments_lexer": "ipython3",
   "version": "3.12.3"
  }
 },
 "nbformat": 4,
 "nbformat_minor": 2
}
