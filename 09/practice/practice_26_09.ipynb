{
 "cells": [
  {
   "cell_type": "markdown",
   "metadata": {},
   "source": [
    "# **Practice**:\n",
    "### **Theme**: practice\n",
    "##### **Date**: 26.09.24"
   ]
  },
  {
   "cell_type": "code",
   "execution_count": 28,
   "metadata": {},
   "outputs": [
    {
     "data": {
      "text/plain": [
       "354224848179263111168"
      ]
     },
     "execution_count": 28,
     "metadata": {},
     "output_type": "execute_result"
    }
   ],
   "source": [
    "def fibonacci(n):\n",
    "    return int(((((1+(5**0.5))**n) - ((1-(5**0.5))**n))//((2**n)*(5**0.5))))\n",
    "\n",
    "fibonacci(100)"
   ]
  },
  {
   "cell_type": "code",
   "execution_count": 39,
   "metadata": {},
   "outputs": [
    {
     "name": "stdout",
     "output_type": "stream",
     "text": [
      "-4036\n"
     ]
    }
   ],
   "source": [
    "def f(n):\n",
    "    f1, f2 = 2025, 2026\n",
    "    for _ in range(n):\n",
    "        f2, f1 = f1, f1 - f2 + 7\n",
    "    return f1 * -1\n",
    "\n",
    "print(f(15) - f(24))"
   ]
  },
  {
   "cell_type": "code",
   "execution_count": 35,
   "metadata": {},
   "outputs": [
    {
     "name": "stdout",
     "output_type": "stream",
     "text": [
      "3\n"
     ]
    }
   ],
   "source": [
    "def calculator(n):\n",
    "    if n == 1:\n",
    "        return 0\n",
    "\n",
    "    num_op = [0] * (n + 1)\n",
    "    num_op[1] = 0\n",
    "\n",
    "    for i in range(2, n + 1):\n",
    "        num_op[i] = num_op[i - 1] + 1\n",
    "        if i % 3 == 0:\n",
    "            num_op[i] = min(num_op[i], num_op[i // 3] + 1)\n",
    "        if i % 2 == 0:\n",
    "            num_op[i] = min(num_op[i], num_op[i // 2] + 1)\n",
    "\n",
    "    return num_op[n]\n",
    "\n",
    "print(calculator(10))"
   ]
  },
  {
   "cell_type": "code",
   "execution_count": null,
   "metadata": {},
   "outputs": [],
   "source": [
    "def calculator(n):\n",
    "    array = [0] * (n + 1)\n",
    "    array[0] = 0\n",
    "    array[1] = (0, 0)\n",
    "    for i in range(2, n + 1):\n",
    "        array[i] = (array[i - 1][0] + 1, 1)\n",
    "        if i % 2 == 0:\n",
    "            array[i] = min(array[i], (array[i // 2][0] + 1, 2), key=lambda x: x[0])\n",
    "        if i % 3 == 0:\n",
    "            array[i] = min(array[i], (array[i // 3][0] + 1, 3), key=lambda x: x[0])\n",
    "\n",
    "    i = n\n",
    "    ans = []\n",
    "    while i > 1:\n",
    "        ans += [array[i][1]]\n",
    "        if array[i][1] == 1:\n",
    "            i -= 1\n",
    "        elif array[i][1] == 2:\n",
    "            i //= 2\n",
    "        else:\n",
    "            i //= 3\n",
    "\n",
    "    return \"\".join(map(str, ans[::-1]))"
   ]
  }
 ],
 "metadata": {
  "kernelspec": {
   "display_name": "Python 3",
   "language": "python",
   "name": "python3"
  },
  "language_info": {
   "codemirror_mode": {
    "name": "ipython",
    "version": 3
   },
   "file_extension": ".py",
   "mimetype": "text/x-python",
   "name": "python",
   "nbconvert_exporter": "python",
   "pygments_lexer": "ipython3",
   "version": "3.12.3"
  }
 },
 "nbformat": 4,
 "nbformat_minor": 2
}
