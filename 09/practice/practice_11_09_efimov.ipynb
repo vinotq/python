{
 "cells": [
  {
   "cell_type": "code",
   "execution_count": 18,
   "metadata": {},
   "outputs": [],
   "source": [
    "import random"
   ]
  },
  {
   "cell_type": "markdown",
   "metadata": {},
   "source": [
    "# Возведение в степень по модулю"
   ]
  },
  {
   "cell_type": "markdown",
   "metadata": {},
   "source": [
    "$A^B mod C = ( (A mod C)^B ) mod C$"
   ]
  },
  {
   "cell_type": "code",
   "execution_count": 19,
   "metadata": {},
   "outputs": [
    {
     "data": {
      "text/plain": [
       "621"
      ]
     },
     "execution_count": 19,
     "metadata": {},
     "output_type": "execute_result"
    }
   ],
   "source": [
    "def power_modulus(a, b, c):\n",
    "    return ((a % c) ** b) % c\n",
    "\n",
    "power_modulus(21, 691, 720)"
   ]
  },
  {
   "cell_type": "markdown",
   "metadata": {},
   "source": [
    "# Алгоритм Эвклида"
   ]
  },
  {
   "cell_type": "markdown",
   "metadata": {},
   "source": [
    "Даны два целых положительных числа m и n. Требуется найти их наибольший общий делитель, т. е. наибольшее целое положительное число, которое нацело делит оба числа m и n.\n",
    "1. [Нахождение остатка.] Разделим m на n, и пусть остаток от деления будет равен r (где 0 ≤ r < n).\n",
    "2. [Сравнение с нулем.] Если r = 0, то выполнение алгоритма прекращается; n — искомое значение.\n",
    "3. [Замещение.] Присвоить m ← n, n ← r и вернуться к шагу E1."
   ]
  },
  {
   "cell_type": "code",
   "execution_count": 20,
   "metadata": {},
   "outputs": [
    {
     "data": {
      "text/plain": [
       "5"
      ]
     },
     "execution_count": 20,
     "metadata": {},
     "output_type": "execute_result"
    }
   ],
   "source": [
    "def euclidus(n, m):\n",
    "    while m % n > 0:\n",
    "        # r = m % n\n",
    "        # m = n\n",
    "        # n = r\n",
    "\n",
    "        # or\n",
    "\n",
    "        m, n = n, m % n\n",
    "    return n\n",
    "\n",
    "euclidus(15, 25)"
   ]
  },
  {
   "cell_type": "markdown",
   "metadata": {},
   "source": [
    "# Расширенный алгоритм Эвклида"
   ]
  },
  {
   "cell_type": "markdown",
   "metadata": {},
   "source": [
    "$x_1, y_1$ получаем на шаге $(b \\% a, a)$\n",
    "\n",
    "$ x=y_1 - floor(b / a) * x_1 \\\\\n",
    "y = x_1  $"
   ]
  },
  {
   "cell_type": "code",
   "execution_count": 21,
   "metadata": {},
   "outputs": [
    {
     "data": {
      "text/plain": [
       "(1, 31996, -115)"
      ]
     },
     "execution_count": 21,
     "metadata": {},
     "output_type": "execute_result"
    }
   ],
   "source": [
    "def extended_euclidus(a, b):\n",
    "    if a == 0:\n",
    "        return b, 0, 1\n",
    "\n",
    "    nod, x1, y1 = extended_euclidus(b % a, a)\n",
    "    x = y1 - (b // a) * x1\n",
    "    y = x1\n",
    "\n",
    "    return nod, x, y\n",
    "\n",
    "extended_euclidus(261, 72617)"
   ]
  },
  {
   "cell_type": "markdown",
   "metadata": {},
   "source": [
    "# Проверка числа на простоту"
   ]
  },
  {
   "cell_type": "code",
   "execution_count": 22,
   "metadata": {},
   "outputs": [
    {
     "data": {
      "text/plain": [
       "True"
      ]
     },
     "execution_count": 22,
     "metadata": {},
     "output_type": "execute_result"
    }
   ],
   "source": [
    "def isPrime(n):\n",
    "    if n < 2:\n",
    "        return False\n",
    "    if n == 2:\n",
    "        return True\n",
    "\n",
    "    for d in range (2, int(n**0.5)):\n",
    "        if n % d == 0:\n",
    "            return False\n",
    "    return True\n",
    "\n",
    "\n",
    "    # j = int(n ** 0.5) + 1\n",
    "\n",
    "    # for i in range(2, j + 1):\n",
    "    #     if n % i == 0:\n",
    "    #         return False\n",
    "    #     return True\n",
    "\n",
    "isPrime(6)"
   ]
  },
  {
   "cell_type": "code",
   "execution_count": 23,
   "metadata": {},
   "outputs": [
    {
     "name": "stdout",
     "output_type": "stream",
     "text": [
      "588 ns ± 9.2 ns per loop (mean ± std. dev. of 7 runs, 1,000,000 loops each)\n"
     ]
    }
   ],
   "source": [
    "import random\n",
    "%timeit isPrime(random.randint(2, 10_000))"
   ]
  },
  {
   "cell_type": "markdown",
   "metadata": {},
   "source": [
    "# Решето Эратосфена\n",
    "\n",
    "Решето Эратосфена — алгоритм нахождения всех простых чисел, не превышающих некоторое натуральное число n.\n",
    "1. Выписать подряд все целые числа от двух до n (2, 3, 4, …, n).\n",
    "2. Пусть переменная p изначально равна двум — первому простому числу.\n",
    "3. Зачеркнуть в списке числа от 2p до n, считая шагами по p (это будут числа, кратные p: 2p, 3p, 4p, …).\n",
    "4. Найти первое незачёркнутое число в списке, большее чем p, и присвоить значению переменной p это число.\n",
    "5. Повторять шаги 3 и 4, пока возможно."
   ]
  },
  {
   "cell_type": "code",
   "execution_count": 24,
   "metadata": {},
   "outputs": [
    {
     "name": "stdout",
     "output_type": "stream",
     "text": [
      "[2, 3, 5, 7, 11, 13, 17, 19, 23, 29, 31, 37, 41, 43, 47, 53, 59, 61, 67, 71, 73, 79, 83, 89, 97]\n"
     ]
    }
   ],
   "source": [
    "def eratosthenes(n):\n",
    "    numbers = [i for i in range(n + 1)]\n",
    "    numbers[1] = 0\n",
    "\n",
    "    for p in numbers:\n",
    "        if p != 0:\n",
    "            numbers[2*p::p] = [0] * len(numbers[2*p::p])\n",
    "            # for i in range(2, n):\n",
    "            #     if i * p > n:\n",
    "            #         break\n",
    "            #     numbers[i * p] = 0\n",
    "    return [n for n in numbers if n != 0]\n",
    "\n",
    "print(eratosthenes(100))"
   ]
  },
  {
   "cell_type": "markdown",
   "metadata": {},
   "source": [
    "# Генерация случайных простых чисел\n",
    "\n",
    "1. Строим решето Эратосфена до $k$, где $k$ это некая константа - например $10^3$. Выбираем стартовое простое число $s$ - либо принимаем аргументом, либо из построенного решета. Переходим к шагу 2.\n",
    "2. Имеем простое число $s$ - если $s>N$, то результат алгоритма это $p: p=s$, иначе мы хотим найти простое число $n:n>s$ - переходим к шагу 3.\n",
    "3. Выбираем рандомно чётное число $r : s <= r <= 2 * (2 * s + 1)$ и запишем кандидат на простоту $n=s*r+1$. Переходим к шагу 4.\n",
    "4. Проверяем $n$ на делимость с простыми числами низкого порядка, полученными на шаге 1 - если число делится на одно из них, то оно составное и возвращаемся к выбору нового кандидата $n$, то есть шагу 2. Иначе число может быть простым, поэтому переходим к шагу 5.\n",
    "5. Выбираем рандомно число $a:1<a<n$ и проверяем для нашего кандидата на простоту $n$ исполнимость следующих двух условий $a^{n-1} ≡ 1 (mod n)$ и $НОД(a^r - 1, n) == 1$.\n",
    "    1. Если оба исполняются, то по критерию Поклингтона число $n$ простое - заменяем $s := n$ и переходим к следующей итерации по поиску большего числа, то есть шагу 2.\n",
    "    2. Иначе если не исполняется первое условие - $a^{n-1} ≡ 1 (mod n)$, то по малой теореме Ферма число $n$ не является простым, поэтому переходим к выбору нового кандидата, то есть шагу 3.\n",
    "    3. Иначе если не исполняется вторая часть, то анализ немного сложнее - мы нашли делитель $d:1<d<=n$ для кандидата $n$, поскольку $gcd(a^r-1,n)==d$. Предположим, что $d ≠n$, что подразумевает не примитивный делитель, а значит $n$ не простое - переходим к повторному выбору, то есть шагу 3.\n",
    "    4. Остаётся случай, когда $d==n$, что означает $a^r ≡ 1 (mod n)$, а решений этого выражения существует не больше $r$. Одно из решений это $a==1$, поэтому на интервале $1<a<n$ существует не более $r-1$ решений, следовательно при действительно простом $n$ мы найдём (с вероятностью $1-O(s^{-1})$) такое $a$, которое бы удовлетворяло критерию Поклингтона, поэтому переходим к шагу 5 для повтора выбора a.\n",
    "\n"
   ]
  },
  {
   "cell_type": "code",
   "execution_count": 25,
   "metadata": {},
   "outputs": [
    {
     "data": {
      "text/plain": [
       "307"
      ]
     },
     "execution_count": 25,
     "metadata": {},
     "output_type": "execute_result"
    }
   ],
   "source": [
    "# random.seed(42)\n",
    "\n",
    "def random_prime(k, N):\n",
    "    primes = eratosthenes(k)\n",
    "    s = random.choice(primes)\n",
    "\n",
    "    while s < N:\n",
    "        r = random.randint(s, 2 * (2 * s + 1))\n",
    "        n = s * r + 1\n",
    "\n",
    "        for d in primes:\n",
    "            if n % d == 0:\n",
    "                break\n",
    "        else:\n",
    "            checked_a = set()\n",
    "            while True:\n",
    "                while (a := random.randint(2, n - 1)) in checked_a:\n",
    "                    pass\n",
    "                checked_a.add(a)\n",
    "\n",
    "                k1 = power_modulus(a , n-1, n)\n",
    "                k2 = euclidus(a ** r - 1, n)\n",
    "\n",
    "                if k1 == 1 and k2 == 1:\n",
    "                    s = n\n",
    "                elif k1 != 1:\n",
    "                    break\n",
    "                elif k2 != n:\n",
    "                    break\n",
    "\n",
    "                if len(checked_a) == n - 2:\n",
    "                    break\n",
    "\n",
    "    return s\n",
    "\n",
    "random_prime(10**3, 100)"
   ]
  },
  {
   "cell_type": "code",
   "execution_count": 26,
   "metadata": {},
   "outputs": [],
   "source": [
    "# p = eratosthenes(1591621+1)"
   ]
  },
  {
   "cell_type": "markdown",
   "metadata": {},
   "source": [
    "# RSA"
   ]
  },
  {
   "cell_type": "markdown",
   "metadata": {},
   "source": [
    "## Генерация ключей\n",
    "\n",
    "1. Выбираем два случайных простых числа p и q\n",
    "2. Вычисляем их произведение: $ N = p * q $\n",
    "3. Вычисляем функцию Эйлера: $ \\phi(N) = (p-1) * (q-1) $ \n",
    "4. Выбираем число e (обычно простое, но необязательно), которое меньше $\\phi(N)$ и является взаимно простым с $\\phi(N)$ (не имеющих общих делителей друг с другом, кроме 1).\n",
    "5. Ищем число d, обратное числу e по модулю $\\phi(N)$ .Т.е. остаток от деления $(d*e)$ и $\\phi(N)$ должен быть равен 1. Найти его можно через расширенный алгоритм Евклида.\n",
    "\n",
    "e и n – открытый ключ\n",
    "d и n – закрытый ключ\n"
   ]
  },
  {
   "cell_type": "code",
   "execution_count": null,
   "metadata": {},
   "outputs": [],
   "source": [
    "def generate_keys():\n",
    "    rnd_prime_1, rnd_prime_2 = random_prime(10**3, 10000), random_prime(10**3, 10000)\n",
    "\n",
    "    print(f'{rnd_prime_1 = }, {rnd_prime_2 = }')\n",
    "    rnd_mul = rnd_prime_1 * rnd_prime_2\n",
    "    rnd_mul_sp = (rnd_prime_1 - 1) * (rnd_prime_2 - 1)\n",
    "    rnd_gen = random.randint(1, rnd_mul_sp - 1)\n",
    "\n",
    "    while euclidus(rnd_mul_sp, rnd_gen) != 1:\n",
    "        rnd_gen = random.randint(1, rnd_mul_sp - 1)\n",
    "        print(f'{rnd_gen = }')\n",
    "\n",
    "    rnd_euc = extended_euclidus(rnd_gen, rnd_mul_sp)[1]\n",
    "\n",
    "    return (rnd_gen, rnd_mul), (rnd_euc, rnd_mul)\n",
    "\n",
    "\n",
    "\n",
    "op, cl = generate_keys()"
   ]
  },
  {
   "cell_type": "code",
   "execution_count": null,
   "metadata": {},
   "outputs": [],
   "source": [
    "print(op, cl)"
   ]
  },
  {
   "cell_type": "code",
   "execution_count": null,
   "metadata": {},
   "outputs": [],
   "source": [
    "power_modulus(21, op[0], op[1])"
   ]
  },
  {
   "cell_type": "code",
   "execution_count": null,
   "metadata": {},
   "outputs": [],
   "source": [
    "power_modulus(59595, cl[0], cl[1])"
   ]
  }
 ],
 "metadata": {
  "kernelspec": {
   "display_name": "Python 3",
   "language": "python",
   "name": "python3"
  },
  "language_info": {
   "codemirror_mode": {
    "name": "ipython",
    "version": 3
   },
   "file_extension": ".py",
   "mimetype": "text/x-python",
   "name": "python",
   "nbconvert_exporter": "python",
   "pygments_lexer": "ipython3",
   "version": "3.12.3"
  },
  "orig_nbformat": 4
 },
 "nbformat": 4,
 "nbformat_minor": 2
}
