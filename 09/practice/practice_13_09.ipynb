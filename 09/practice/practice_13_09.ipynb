{
 "cells": [
  {
   "cell_type": "markdown",
   "metadata": {},
   "source": [
    "# **Practice #2**  \n",
    "##### 13.09.24\n"
   ]
  },
  {
   "cell_type": "markdown",
   "metadata": {},
   "source": [
    "### **Тема**: codewars"
   ]
  },
  {
   "cell_type": "markdown",
   "metadata": {},
   "source": [
    "## **#1 Sum of two lowest positive integers**  (https://www.codewars.com/kata/558fc85d8fd1938afb000014)\n"
   ]
  },
  {
   "cell_type": "code",
   "execution_count": 4,
   "metadata": {},
   "outputs": [
    {
     "data": {
      "text/plain": [
       "13"
      ]
     },
     "execution_count": 4,
     "metadata": {},
     "output_type": "execute_result"
    }
   ],
   "source": [
    "def sum_two_smallest_numbers(numbers):\n",
    "    m = min(numbers)\n",
    "    numbers.remove(m)\n",
    "    n = min(numbers)\n",
    "    \n",
    "    return n+m\n",
    "\n",
    "sum_two_smallest_numbers([5, 8, 12, 18, 22])"
   ]
  },
  {
   "cell_type": "markdown",
   "metadata": {},
   "source": [
    "## **#2 Thinkful - List and Loop Drills: Inverse Slicer**  (https://www.codewars.com/kata/586ec0b8d098206cce001141/)"
   ]
  },
  {
   "cell_type": "code",
   "execution_count": 9,
   "metadata": {},
   "outputs": [
    {
     "data": {
      "text/plain": [
       "[12, 14, 55, 24]"
      ]
     },
     "execution_count": 9,
     "metadata": {},
     "output_type": "execute_result"
    }
   ],
   "source": [
    "def inverse_slice(items, a, b):\n",
    "    return items[:a] + items[b:]\n",
    "\n",
    "inverse_slice([12, 14, 63, 72, 55, 24], 2, 4)\n"
   ]
  },
  {
   "cell_type": "markdown",
   "metadata": {},
   "source": [
    "## **#3 Pony express**  (https://www.codewars.com/kata/5b18e9e06aefb52e1d0001e9)"
   ]
  },
  {
   "cell_type": "code",
   "execution_count": 15,
   "metadata": {},
   "outputs": [
    {
     "data": {
      "text/plain": [
       "1"
      ]
     },
     "execution_count": 15,
     "metadata": {},
     "output_type": "execute_result"
    }
   ],
   "source": [
    "def riders(stations):\n",
    "    count = 1\n",
    "    sum = 0\n",
    "    for i in stations:\n",
    "        if i + sum > 100:\n",
    "            sum = 0\n",
    "            count += 1\n",
    "        sum +=i\n",
    "    return count\n",
    "\n",
    "riders([18, 15])"
   ]
  },
  {
   "cell_type": "markdown",
   "metadata": {},
   "source": [
    "## **#4 Sum of sequence**  (https://www.codewars.com/kata/586f6741c66d18c22800010a)"
   ]
  },
  {
   "cell_type": "code",
   "execution_count": 27,
   "metadata": {},
   "outputs": [
    {
     "data": {
      "text/plain": [
       "12.0"
      ]
     },
     "execution_count": 27,
     "metadata": {},
     "output_type": "execute_result"
    }
   ],
   "source": [
    "def sequence_sum(begin_number, end_number, step):\n",
    "    \n",
    "    if begin_number > end_number and step > 0 or begin_number < end_number and step < 0:\n",
    "        return 0\n",
    "    \n",
    "    n = (end_number - begin_number) // step\n",
    "    a_n = begin_number + n * step\n",
    "    \n",
    "    s = ((n + 1) * (begin_number + a_n)) // 2\n",
    "    \n",
    "    return s\n",
    "sequence_sum(2, 6, 2)"
   ]
  }
 ],
 "metadata": {
  "kernelspec": {
   "display_name": "Python 3",
   "language": "python",
   "name": "python3"
  },
  "language_info": {
   "codemirror_mode": {
    "name": "ipython",
    "version": 3
   },
   "file_extension": ".py",
   "mimetype": "text/x-python",
   "name": "python",
   "nbconvert_exporter": "python",
   "pygments_lexer": "ipython3",
   "version": "3.12.3"
  }
 },
 "nbformat": 4,
 "nbformat_minor": 2
}
