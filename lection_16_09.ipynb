{
 "cells": [
  {
   "cell_type": "markdown",
   "metadata": {},
   "source": [
    "# **Lection #3**:\n",
    "### **Theme**: Структуры данных, кортежи, словари, множества, ветвления, циклы \n",
    "##### **Date**: 16.09.24"
   ]
  },
  {
   "cell_type": "markdown",
   "metadata": {},
   "source": [
    "# 1) **Котреж**\n",
    "\n",
    "- неизменяемая структура данных\n",
    "- занимает меньше места"
   ]
  },
  {
   "cell_type": "code",
   "execution_count": null,
   "metadata": {},
   "outputs": [],
   "source": [
    "zoo = (\"panda\", \"OLeg\", \"capybara\")"
   ]
  },
  {
   "cell_type": "markdown",
   "metadata": {},
   "source": [
    "# 2) **Словарь**\n",
    "\n",
    "- содержит ключ и значение, которые связанны\n",
    "- ключи НЕИЗМЕНЯЕМЫ .т.к их можно хэшировать\n",
    "- ключи уникальны\n",
    "- O(1) - получаем доступ к элементу по хэшу"
   ]
  },
  {
   "cell_type": "code",
   "execution_count": 5,
   "metadata": {},
   "outputs": [
    {
     "name": "stdout",
     "output_type": "stream",
     "text": [
      "47\n",
      "47\n"
     ]
    }
   ],
   "source": [
    "student_1 = {\"group\": \"47.1\", \"age\": \"47\"}\n",
    "student_2 = {\"group\": \"47.2\", \"age\": \"47\"}\n",
    "\n",
    "print(student_1[\"age\"]) \n",
    "# or\n",
    "print(student_1.get(\"age\"))"
   ]
  },
  {
   "cell_type": "code",
   "execution_count": 8,
   "metadata": {},
   "outputs": [
    {
     "name": "stdout",
     "output_type": "stream",
     "text": [
      "dict_keys(['Ivan', 'Petr'])\n",
      "dict_values(['47', '47'])\n",
      "dict_items([('group', '47'), ('age', '47')])\n"
     ]
    }
   ],
   "source": [
    "students = {\"Ivan\": \"student_1\", \"Petr\": \"student_2\"}\n",
    "\n",
    "print(students.keys())\n",
    "\n",
    "print(student_1.values())\n",
    "\n",
    "print(student_1.items())"
   ]
  },
  {
   "cell_type": "markdown",
   "metadata": {},
   "source": [
    "# 3) **Множества**\n",
    "\n",
    "- неупорядоченная структура значений, рандомный порядок\n",
    "- O(1) - проверка наличия, не важно где\n"
   ]
  },
  {
   "cell_type": "code",
   "execution_count": 15,
   "metadata": {},
   "outputs": [],
   "source": [
    "# объявление множеств\n",
    "s = set(\"3\") \n",
    "# or\n",
    "other = {5}\n",
    "\n",
    "x = 1"
   ]
  },
  {
   "cell_type": "code",
   "execution_count": 11,
   "metadata": {},
   "outputs": [],
   "source": [
    "# операции с set()\n",
    "\n",
    "len(s)\n",
    "\n",
    "x in s\n",
    "\n",
    "s.isdisjoint(other)\n",
    "\n",
    "s == other\n",
    "\n",
    "s.discard(x) \n",
    "\n",
    "s.clear()\n",
    "\n",
    "s.update(other)\n",
    "\n",
    "\n",
    "oleg = frozenset"
   ]
  },
  {
   "cell_type": "markdown",
   "metadata": {},
   "source": [
    "# **Оператор ветвления**\n",
    "\n",
    "- в Python нет ***switch/case***\n"
   ]
  },
  {
   "cell_type": "code",
   "execution_count": null,
   "metadata": {},
   "outputs": [],
   "source": [
    "def main (data_string):\n",
    "    values = data_string.split(\"~\")\n",
    "    match values:\n",
    "        case \"load\", link:\n",
    "            load(link)\n",
    "        case \"save\", link, filename:\n",
    "            save(link, filename)\n",
    "        case _:\n",
    "            default(values)\n",
    "            \n",
    "            \n",
    "def main_2 (data_string):\n",
    "        values = data_string.split(\"~\")\n",
    "        match values:\n",
    "            case \"load\", *links:\n",
    "                load(links)\n",
    "            case _:\n",
    "                default(values)\n",
    "                \n",
    "def main_3 (data_class):\n",
    "    match data_class:\n",
    "        case UserRequest(name=str(name),\n",
    "                        access = 1|2 as access,\n",
    "                        request = request\n",
    "                        ):\n",
    "            print(f\"User {name} get access to func {request} with access level {access}\")\n",
    "        case _:\n",
    "            print(\"Uh\")"
   ]
  },
  {
   "cell_type": "markdown",
   "metadata": {},
   "source": [
    "# **while, for, if/else/elif**\n",
    "\n",
    "- повторяет пока не достигнет цели\n",
    "- другой - итерирует объекты, которые это позволяют\n"
   ]
  },
  {
   "cell_type": "code",
   "execution_count": 22,
   "metadata": {},
   "outputs": [
    {
     "name": "stdout",
     "output_type": "stream",
     "text": [
      "O\n",
      "l\n",
      "e\n",
      "g\n",
      "\n",
      "O\n",
      "l\n"
     ]
    }
   ],
   "source": [
    "word = \"Oleg\" \n",
    "\n",
    "for letter in word:\n",
    "    print(letter)\n",
    "\n",
    "print(\"\")\n",
    "    \n",
    "for letter in word:\n",
    "    if letter == \"e\":\n",
    "        break\n",
    "    print(letter)\n",
    "else:\n",
    "    print(\"Cycle is ok\")"
   ]
  },
  {
   "cell_type": "markdown",
   "metadata": {},
   "source": [
    "# **Немного примеров-приколов**\n",
    "\n"
   ]
  },
  {
   "cell_type": "code",
   "execution_count": null,
   "metadata": {},
   "outputs": [],
   "source": [
    "for i in range(10):\n",
    "    print(i, end = \" \")\n",
    "    i = 5\n",
    "    print(i)"
   ]
  },
  {
   "cell_type": "code",
   "execution_count": null,
   "metadata": {},
   "outputs": [],
   "source": [
    "for i in range(0, 100, 2**i):\n",
    "    print(i)"
   ]
  },
  {
   "cell_type": "code",
   "execution_count": null,
   "metadata": {},
   "outputs": [],
   "source": [
    "# DO NOT DO LIKE THIS!\n",
    "arr = [1, 2, 3, 4, 5, 6, 7, 8, 9, 10]\n",
    "\n",
    "for i in range(len(arr)):\n",
    "    print(arr[i])\n",
    "    arr.pop()"
   ]
  },
  {
   "cell_type": "code",
   "execution_count": null,
   "metadata": {},
   "outputs": [],
   "source": [
    "# ONLY LIKE THIS!\n",
    "arr = [1, 2, 3, 4, 5, 6, 7, 8, 9, 10]\n",
    "\n",
    "for i in arr:\n",
    "    print(arr[i])\n",
    "    arr.pop()"
   ]
  },
  {
   "cell_type": "code",
   "execution_count": null,
   "metadata": {},
   "outputs": [],
   "source": [
    "for i, j in enumerate(arr):\n",
    "    print(i, j)"
   ]
  }
 ],
 "metadata": {
  "kernelspec": {
   "display_name": "Python 3",
   "language": "python",
   "name": "python3"
  },
  "language_info": {
   "codemirror_mode": {
    "name": "ipython",
    "version": 3
   },
   "file_extension": ".py",
   "mimetype": "text/x-python",
   "name": "python",
   "nbconvert_exporter": "python",
   "pygments_lexer": "ipython3",
   "version": "3.12.3"
  }
 },
 "nbformat": 4,
 "nbformat_minor": 2
}
