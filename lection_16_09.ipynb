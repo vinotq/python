{
 "cells": [
  {
   "cell_type": "markdown",
   "metadata": {},
   "source": [
    "# **Lection #2**:\n",
    "### **Theme**: ООП:\n",
    "##### **Date**: 16.09.24"
   ]
  },
  {
   "cell_type": "markdown",
   "metadata": {},
   "source": [
    "# **SOLID** как принцип ООП\n",
    "- S - каждый блок кода (класс) должен отвечать только за одну задачу\n",
    "- O - закрыты для модификации но открыты для добавления\n",
    "- L - функции, которые используют базовый тип, должны иметь возможность использовать подтипы базового типа не зная об этом\n",
    "- I - сущности не зависимы от методов, не нужно навязывать пользователям кода методы\n",
    "- D - верхний уровень не должен испортировать нижний, помни об абстракции, она не дожна зависеть от деталей"
   ]
  },
  {
   "cell_type": "markdown",
   "metadata": {},
   "source": [
    "# **Privat-атрибуты** и приватные классы\n",
    "###  **Геттеры и Сеттеры**"
   ]
  },
  {
   "cell_type": "code",
   "execution_count": null,
   "metadata": {},
   "outputs": [],
   "source": [
    "class Human:\n",
    "    def __init__(self, name):\n",
    "        self.name = name\n",
    "        self.__age = 0\n",
    "    \n",
    "    def get_age(self):\n",
    "        return self.__age\n",
    "    \n",
    "    def set_age(self, new_age: int):\n",
    "        self.__age = new_age\n",
    "        \n",
    "    def del_age(self):\n",
    "        del self.__age\n",
    "        \n",
    "    age = property(get_age, set_age, del_age)"
   ]
  },
  {
   "cell_type": "code",
   "execution_count": 5,
   "metadata": {},
   "outputs": [
    {
     "data": {
      "text/plain": [
       "(0.7, 0.30000000000000004)"
      ]
     },
     "execution_count": 5,
     "metadata": {},
     "output_type": "execute_result"
    }
   ],
   "source": [
    "class CatDog:\n",
    "    def __init__(self, name):\n",
    "        self.name = name\n",
    "        self.__cat = 0.5\n",
    "    \n",
    "    @property\n",
    "    def cat(self):\n",
    "        return self.__cat\n",
    "    \n",
    "    @cat.setter\n",
    "    def cat(self, value):\n",
    "        self.__cat = value\n",
    "        \n",
    "    @property\n",
    "    def dog(self):\n",
    "        return 1 - self.__cat \n",
    "    \n",
    "catdog = CatDog(\"CatDog\")\n",
    "\n",
    "catdog.cat = 0.7\n",
    "catdog.cat, catdog.dog"
   ]
  }
 ],
 "metadata": {
  "kernelspec": {
   "display_name": "Python 3",
   "language": "python",
   "name": "python3"
  },
  "language_info": {
   "codemirror_mode": {
    "name": "ipython",
    "version": 3
   },
   "file_extension": ".py",
   "mimetype": "text/x-python",
   "name": "python",
   "nbconvert_exporter": "python",
   "pygments_lexer": "ipython3",
   "version": "3.12.3"
  }
 },
 "nbformat": 4,
 "nbformat_minor": 2
}
